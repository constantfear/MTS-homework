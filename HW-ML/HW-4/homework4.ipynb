{
 "cells": [
  {
   "cell_type": "markdown",
   "metadata": {},
   "source": [
    "# Домашнее задание №4 по машинному обучению\n",
    "### Временные ряды"
   ]
  },
  {
   "cell_type": "markdown",
   "metadata": {},
   "source": [
    "### Импорт библиотек"
   ]
  },
  {
   "cell_type": "code",
   "execution_count": 29,
   "metadata": {},
   "outputs": [],
   "source": [
    "import warnings\n",
    "warnings.filterwarnings('ignore')\n",
    "\n",
    "import numpy as np\n",
    "import pandas as pd\n",
    "\n",
    "from statsmodels.tsa.seasonal import seasonal_decompose, STL\n",
    "import lightgbm as lgb\n",
    "from sklearn.metrics import precision_recall_curve, f1_score, roc_auc_score, auc\n",
    "from sklearn.metrics import mean_absolute_percentage_error, mean_squared_error\n",
    "\n",
    "\n",
    "import matplotlib.pyplot as plt\n",
    "import seaborn as sns\n",
    "%matplotlib inline"
   ]
  },
  {
   "cell_type": "markdown",
   "metadata": {},
   "source": [
    "### Чтение данных"
   ]
  },
  {
   "cell_type": "code",
   "execution_count": 2,
   "metadata": {},
   "outputs": [],
   "source": [
    "data_counters_train = pd.read_csv('./data/counters_train.csv')\n",
    "data_counters_test = pd.read_csv('./data/counters_test.csv')\n",
    "\n",
    "data_events_train = pd.read_csv('./data/events_train.csv')\n",
    "data_events_test = pd.read_csv('./data/events_test.csv')"
   ]
  },
  {
   "cell_type": "markdown",
   "metadata": {},
   "source": [
    "### Построение класса"
   ]
  },
  {
   "cell_type": "code",
   "execution_count": 52,
   "metadata": {},
   "outputs": [],
   "source": [
    "class TimeSiries:\n",
    "    def __init__(self, window_size):\n",
    "        self.window_size = window_size\n",
    "    \n",
    "    def _fill_none_with_previous(self, value, previous_value):\n",
    "        if pd.isna(value):\n",
    "            return previous_value\n",
    "        else:\n",
    "            return value\n",
    "    \n",
    "    def _merge_events(self, counters, events):\n",
    "        df_merged = pd.merge(counters, events, how='left', left_on='dt', right_on='dt_start')\n",
    "        df_merged = self.fill_column_with_previous(df_merged)\n",
    "        df_merged['dt'] = pd.to_datetime(df_merged.dt)\n",
    "        df_merged['dt_start'] = pd.to_datetime(df_merged.dt_start)\n",
    "        df_merged['dt_end'] = pd.to_datetime(df_merged.dt_end)\n",
    "        return df_merged\n",
    "\n",
    "    def fill_column_with_previous(self, df):\n",
    "        previous_value_start = None\n",
    "        previous_value_end = None\n",
    "\n",
    "        filled_column_dt_start = []\n",
    "        filled_column_dt_end = []\n",
    "        filled_column_event_type = []\n",
    "\n",
    "        for dt, value_1, value_2 in df[['dt', 'dt_start', 'dt_end']].values:\n",
    "            filled_value_1 = self._fill_none_with_previous(value_1, previous_value_start)\n",
    "            filled_column_dt_start.append(filled_value_1)\n",
    "\n",
    "            filled_value_2 = self._fill_none_with_previous(value_2, previous_value_end)\n",
    "            filled_column_dt_end.append(filled_value_2)\n",
    "\n",
    "            previous_value_start = filled_value_1\n",
    "            previous_value_end = filled_value_2\n",
    "            \n",
    "            try:\n",
    "                if filled_value_1 <= dt <= filled_value_2:\n",
    "                    filled_column_event_type.append(1)\n",
    "                else:\n",
    "                    filled_column_event_type.append(0)\n",
    "            except:\n",
    "                filled_column_event_type.append(0)\n",
    "        \n",
    "        df['dt_start'] = filled_column_dt_start\n",
    "        df['dt_end'] = filled_column_dt_end\n",
    "        df['event_type'] = filled_column_event_type\n",
    "\n",
    "        return df\n",
    "    \n",
    "    def _random_noise(self, dataframe):\n",
    "        return np.random.normal(size=(len(dataframe),))\n",
    "\n",
    "    def _lag_features(self, dataframe, lags):\n",
    "        dataframe = dataframe.copy()\n",
    "        for lag in lags:\n",
    "            dataframe['sales_lag_' + str(lag)] = dataframe['cnt'].transform(\n",
    "                lambda x: x.shift(lag)) + self._random_noise(dataframe)\n",
    "        return dataframe\n",
    "    \n",
    "    def _roll_mean_features(self, dataframe, windows):\n",
    "        dataframe = dataframe.copy()\n",
    "        for window in windows:\n",
    "            dataframe['sales_roll_mean_' + str(window)] = dataframe['cnt']. \\\n",
    "                                                            transform(\n",
    "                lambda x: x.shift(1).rolling(window=window, min_periods=10, win_type=\"triang\").mean()) + random_noise(dataframe)\n",
    "        return dataframe\n",
    "    \n",
    "    def feature_enineering(self, df):\n",
    "        df_new = df.copy()    \n",
    "\n",
    "        df_new['hour_sin'] = np.sin(2*np.pi*df_new.dt.dt.hour/(24) - np.pi/2)+1\n",
    "\n",
    "        df_new['day_of_month'] = df_new.dt.dt.day\n",
    "        df_new['day_of_week'] = df_new.dt.dt.dayofweek + 1\n",
    "        df_new[\"is_wknd\"] = df_new.dt.dt.weekday // 4\n",
    "        df_new['is_month_start'] = df_new.dt.dt.is_month_start.astype(int)\n",
    "        df_new['is_month_end'] = df_new.dt.dt.is_month_end.astype(int)\n",
    "        \n",
    "        df_new = df_new.drop(['dt', 'dt_start', 'dt_end'], axis=1)\n",
    "\n",
    "        compose_day = STL(df_new['cnt'], period=48).fit()\n",
    "        compose_week = STL(df_new['cnt'], period=336).fit()\n",
    "        compose_month = STL(compose_day.trend, period=336).fit()\n",
    "\n",
    "        df_new['seasonal_day'] = compose_day.seasonal\n",
    "        df_new['trend_day'] = compose_day.trend\n",
    "\n",
    "        df_new['seasonal_week'] = compose_week.seasonal\n",
    "        df_new['trend_week'] = compose_week.trend\n",
    "        \n",
    "        df_new['seasonal_month'] = compose_month.seasonal\n",
    "        df_new['trend_month'] = compose_month.trend\n",
    "        \n",
    "        df_new = self._lag_features(df_new, [24, 48, 144, 336])\n",
    "\n",
    "        return df_new\n",
    "\n",
    "    def fit_and_eval_classifier(self, data_counters_train, data_events_train, data_counters_test, data_events_test):\n",
    "        \n",
    "        train_data = self._merge_events(data_counters_train, data_events_train)\n",
    "        data_train = self.feature_enineering(train_data)\n",
    "\n",
    "        test_data = self._merge_events(data_counters_test, data_events_test)\n",
    "        data_test = self.feature_enineering(pd.concat([train_data.iloc[-self.window_size: ], test_data])).iloc[self.window_size:]\n",
    "\n",
    "        train_X, train_y = data_train.drop(['event_type'], axis=1), data_train['event_type']\n",
    "        test_X, test_y = data_test.drop(['event_type'], axis=1), data_test['event_type']\n",
    "\n",
    "        clf = lgb.LGBMClassifier()\n",
    "        clf.fit(train_X, train_y)\n",
    "        self.classifier_model = clf\n",
    "\n",
    "        self._eval_classifier(test_X, test_y)\n",
    "    \n",
    "    def _eval_classifier(self, test_X, test_y):\n",
    "        print('='*8 + \" eval classifier model \" + '='*8)\n",
    "        print(\"Roc-Auc: \", roc_auc_score(test_y, self.classifier_model.predict_proba(test_X)[:,1]))\n",
    "        print(\"F1-score: \", f1_score(test_y, self.classifier_model.predict(test_X)))\n",
    "        precision, recall, _ = precision_recall_curve(test_y, self.classifier_model.predict_proba(test_X)[:,1])\n",
    "        print(\"PR-score: \", auc(recall, precision))\n",
    "\n",
    "    def fit_and_eval_forecast(self, data_counters_train, data_events_train, data_counters_test, data_events_test):\n",
    "        \n",
    "        train_data = self._merge_events(data_counters_train, data_events_train)\n",
    "        data_train = self.feature_enineering(train_data)\n",
    "\n",
    "        test_data = self._merge_events(data_counters_test, data_events_test)\n",
    "        data_test = self.feature_enineering(pd.concat([train_data.iloc[-self.window_size: ], test_data])).iloc[self.window_size:]\n",
    "\n",
    "        train_X, train_y = data_train.drop(['cnt'], axis=1), data_train['cnt']\n",
    "        test_X, test_y = data_test.drop(['cnt'], axis=1), data_test['cnt']\n",
    "\n",
    "        reg = lgb.LGBMRegressor()\n",
    "        reg.fit(train_X, train_y)\n",
    "        self.forecast_model = reg\n",
    "\n",
    "        self._eval_forecast(test_X, test_y)\n",
    "    \n",
    "    def _eval_forecast(self, test_X, test_y):\n",
    "        print('='*8 + \" eval forecast model \" + '='*8)\n",
    "        preds = self.forecast_model.predict(test_X)\n",
    "        print(\"MAPE: \", mean_absolute_percentage_error(test_y+1, preds))\n",
    "        print(\"MSE: \", mean_squared_error(test_y+1, preds))\n",
    "        plt.plot(test_y, label='true')\n",
    "        plt.plot(preds, label='pred')\n",
    "        plt.legend()\n",
    "        plt.show()\n",
    "\n",
    "    \n",
    "    def predict(self, X, model_name):\n",
    "        X = self.feature_enineering(X)\n",
    "        if model_name == 'clasifier':\n",
    "            return self.classifier_model.predict(X.drop(['event_type'], axis=1))\n",
    "\n",
    "        elif model_name == 'forecast':\n",
    "            return self.forecast_model.predict(X.drop(['cnt'], axis=1))\n",
    "        \n",
    "        else:\n",
    "            print('Unknown method')\n",
    "\n",
    "\n",
    "\n",
    "        \n"
   ]
  },
  {
   "cell_type": "code",
   "execution_count": 53,
   "metadata": {},
   "outputs": [],
   "source": [
    "ts = TimeSiries(window_size=336)"
   ]
  },
  {
   "cell_type": "code",
   "execution_count": 48,
   "metadata": {},
   "outputs": [
    {
     "name": "stdout",
     "output_type": "stream",
     "text": [
      "[LightGBM] [Info] Number of positive: 156, number of negative: 3396\n",
      "[LightGBM] [Info] Auto-choosing col-wise multi-threading, the overhead of testing was 0.000368 seconds.\n",
      "You can set `force_col_wise=true` to remove the overhead.\n",
      "[LightGBM] [Info] Total Bins 2684\n",
      "[LightGBM] [Info] Number of data points in the train set: 3552, number of used features: 17\n",
      "[LightGBM] [Info] [binary:BoostFromScore]: pavg=0.043919 -> initscore=-3.080498\n",
      "[LightGBM] [Info] Start training from score -3.080498\n",
      "======== eval classifier model ========\n",
      "Roc-Auc:  0.820840619911958\n",
      "F1-score:  0.18518518518518517\n",
      "PR-score:  0.17972143797569737\n"
     ]
    }
   ],
   "source": [
    "ts.fit_and_eval_classifier(data_counters_train, data_events_train, data_counters_test, data_events_test)"
   ]
  },
  {
   "cell_type": "code",
   "execution_count": 54,
   "metadata": {},
   "outputs": [
    {
     "name": "stdout",
     "output_type": "stream",
     "text": [
      "[LightGBM] [Info] Auto-choosing col-wise multi-threading, the overhead of testing was 0.000358 seconds.\n",
      "You can set `force_col_wise=true` to remove the overhead.\n",
      "[LightGBM] [Info] Total Bins 2617\n",
      "[LightGBM] [Info] Number of data points in the train set: 3552, number of used features: 17\n",
      "[LightGBM] [Info] Start training from score 7.026464\n",
      "======== eval forecast model ========\n",
      "MAPE:  0.9880634643361524\n",
      "MSE:  250.3224004711224\n"
     ]
    },
    {
     "data": {
      "image/png": "[encoded data removed]",
      "text/plain": [
       "<Figure size 640x480 with 1 Axes>"
      ]
     },
     "metadata": {},
     "output_type": "display_data"
    }
   ],
   "source": [
    "ts.fit_and_eval_forecast(data_counters_train, data_events_train, data_counters_test, data_events_test)"
   ]
  },
  {
   "cell_type": "markdown",
   "metadata": {},
   "source": [
    "### Вывод по работе"
   ]
  },
  {
   "cell_type": "markdown",
   "metadata": {},
   "source": [
    "Качество решения задачи можно оценить как неудовлетворительное. Метрики, полученные для классификации (F1-score и PR-score), указывают на низкую точность модели в определении наличия мероприятия в данный момент времени. F1-score равен 0.185, что значительно ниже желаемого значения 0.5 и выше, указывая на то, что модель не может надежно классифицировать данные. PR-score также низок, что подтверждает это заключение.\n",
    "\n",
    "Что касается предсказания количества посетителей, метрики MAPE и MSE также указывают на низкую точность модели. MAPE равен 0.988, что означает, что модель имеет среднюю абсолютную процентную ошибку в 98.8%, что является неприемлемо высоким значением. MSE также высок, что подтверждает это заключение.\n",
    "\n",
    "В целом, полученные метрики указывают на то, что модель требует значительной доработки и оптимизации для достижения удовлетворительного качества.\n",
    "\n",
    "Однако, посмотрев на график, можно увидеть, что в целом предсказания довольно неплохи."
   ]
  }
 ],
 "metadata": {
  "kernelspec": {
   "display_name": ".main-venv",
   "language": "python",
   "name": "python3"
  },
  "language_info": {
   "codemirror_mode": {
    "name": "ipython",
    "version": 3
   },
   "file_extension": ".py",
   "mimetype": "text/x-python",
   "name": "python",
   "nbconvert_exporter": "python",
   "pygments_lexer": "ipython3",
   "version": "3.11.8"
  }
 },
 "nbformat": 4,
 "nbformat_minor": 2
}
