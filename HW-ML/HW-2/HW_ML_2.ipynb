{
  "cells": [
    {
      "cell_type": "markdown",
      "metadata": {
        "id": "Xj_j1Ibc6376"
      },
      "source": [
        "# Домашнее задание 2 по ML\n",
        "Нужно написать python класс градиентного бустинга и побить другую модель на предоставленном baseline\n",
        "\n",
        "## Критерии оценки\n",
        "- Ваш ноутбук будет запущен через ```run all``` - он не должен упасть (допускается падение из-за отсутствия библиотеки, которую можно поставить через pip install)\n",
        "- Вот этот код (внизу ноутбука) ```assert imp_my_little_model > imp_baseline_model``` не вызвал ошибок (успешно отработал)\n",
        "\n",
        "- реализованы следующие гиперпараметры\n",
        "  - вы реализовали гиперпараметр ```learning_rate```\n",
        "  - вы реализовали гиперпараметр ```n_estimators```\n",
        "  - вы реализовали гиперпараметр ```max_depth```\n",
        "  - вы реализовали гиперпараметр ```bagging_fraction```\n",
        "\n",
        "- Вы реализовали [Huber loss function](https://ru.wikipedia.org/wiki/%D0%A4%D1%83%D0%BD%D0%BA%D1%86%D0%B8%D1%8F_%D0%BF%D0%BE%D1%82%D0%B5%D1%80%D1%8C_%D0%A5%D1%8C%D1%8E%D0%B1%D0%B5%D1%80%D0%B0) - она записана как отдельная def функция вне класса - и используется в вашем классе для расчета\n",
        "\n",
        "----\n",
        "*Для успешной сдачи дз нужно выполнить полностью каждый пункт выше*\n",
        "\n",
        "- оценка 5 будет поставлена, если каждый пункт выполнен без недочетов\n",
        "- оценка 4 будет поставлена, если будет найден один недочет\n",
        "- незачет будет пославлен, если недочетов будет два или более\n",
        "- незачет будет пославлен, если какой либо пункт не выполнен\n"
      ]
    },
    {
      "cell_type": "code",
      "execution_count": 1,
      "metadata": {
        "colab": {
          "base_uri": "https://localhost:8080/",
          "height": 34
        },
        "id": "1YyKnF4T6e5Y",
        "outputId": "9b3adbbc-70ea-4326-f888-55b767bd798e"
      },
      "outputs": [
        {
          "data": {
            "application/javascript": "IPython.notebook.set_autosave_interval(60000)"
          },
          "metadata": {},
          "output_type": "display_data"
        },
        {
          "name": "stdout",
          "output_type": "stream",
          "text": [
            "Autosaving every 60 seconds\n"
          ]
        }
      ],
      "source": [
        "%autosave 60"
      ]
    },
    {
      "cell_type": "code",
      "execution_count": 2,
      "metadata": {
        "colab": {
          "base_uri": "https://localhost:8080/"
        },
        "id": "Fuou3iRh67G-",
        "outputId": "b3017ce2-da60-403e-f3f0-a8019d796672"
      },
      "outputs": [],
      "source": [
        "# pip install shap\n",
        "\n",
        "import numpy as np\n",
        "import shap\n",
        "\n",
        "import seaborn as sns\n",
        "\n",
        "from sklearn.model_selection import train_test_split\n",
        "from sklearn.ensemble import RandomForestRegressor, GradientBoostingRegressor\n",
        "from sklearn.metrics import mean_absolute_percentage_error\n",
        "from sklearn.tree import DecisionTreeRegressor"
      ]
    },
    {
      "cell_type": "code",
      "execution_count": 3,
      "metadata": {
        "id": "TSWaYEYyT0iV"
      },
      "outputs": [],
      "source": [
        "np.random.seed(42)"
      ]
    },
    {
      "cell_type": "code",
      "execution_count": 4,
      "metadata": {
        "id": "M4B4Ep5U68x5"
      },
      "outputs": [],
      "source": [
        "data, target = shap.datasets.california()\n",
        "X_train, X_test, y_train, y_test = train_test_split(data, target, test_size=0.2, random_state=42)"
      ]
    },
    {
      "cell_type": "markdown",
      "metadata": {
        "id": "A6-T1zHhWl69"
      },
      "source": [
        "### Не меняйте название для предскзаний preds_my_little_model, иначе не получится сдать это ДЗ (сломается код)\n",
        "\n",
        "Некоторые правила\n",
        "- Нельзя использовать никакие другие алгоритмы моделей внутри вашего класса, кроме DecisionTreeRegressor.\n",
        "- Код вашего бустинга должен быть написан в классе, у класса должно быть два ожидаемых метода : ```fit``` и ```predict```.\n",
        "- Нельзя менять датасет (и модифицировать тоже, например заполнять nan или применять scaler) или baseline модель\n",
        "- Нельзя поднимать число n_estimators вашей модели выше 100 (чтобы результат был сравним с моделью-конкурентом ```GradientBoostingRegressor```)"
      ]
    },
    {
      "cell_type": "markdown",
      "metadata": {
        "id": "61wEAl-UIA4u"
      },
      "source": [
        "# *это место для вашего кода* ↓↓↓\n"
      ]
    },
    {
      "cell_type": "code",
      "execution_count": 5,
      "metadata": {
        "id": "5ahK530JP-TV"
      },
      "outputs": [],
      "source": [
        "def huber_loss(Y_pred, Y, delta=1.0):\n",
        "    return np.array([\n",
        "        delta * (np.abs(y - y_pred) - 0.5 * delta) if np.abs(y - y_pred) > delta\n",
        "        else 0.5*(y-y_pred)**2\n",
        "        for y_pred, y in zip(Y_pred, Y)\n",
        "    ])"
      ]
    },
    {
      "cell_type": "code",
      "execution_count": 6,
      "metadata": {},
      "outputs": [],
      "source": [
        "def grad_huber_loss(Y_pred, Y, delta=1.0):\n",
        "    return np.array([\n",
        "        -delta * np.sign(y - y_pred) if np.abs(y - y_pred) > delta\n",
        "        else -(y-y_pred)\n",
        "        for y_pred, y in zip(Y_pred, Y)\n",
        "    ])\n"
      ]
    },
    {
      "cell_type": "code",
      "execution_count": 7,
      "metadata": {
        "id": "PPwM5ru6ITFw"
      },
      "outputs": [],
      "source": [
        "class MyGradBoosting:\n",
        "    def __init__(\n",
        "        self,\n",
        "        learning_rate=0.1,\n",
        "        n_estimators=100,\n",
        "        max_depth=5,\n",
        "        random_state=4,\n",
        "        bagging_fraction=0.75\n",
        "    ):\n",
        "        self.learning_rate = learning_rate\n",
        "        self.n_estimators = n_estimators\n",
        "        self.max_depth = max_depth\n",
        "        self.random_state = random_state\n",
        "        self.bagging_fraction = bagging_fraction\n",
        "        \n",
        "\n",
        "    def fit(self, X, y):\n",
        "\n",
        "        self.models = []\n",
        "\n",
        "        rng = np.random.RandomState(42)\n",
        "\n",
        "        subsample_indices = rng.randint(0, len(X), size=int(len(X)*self.bagging_fraction))\n",
        "        X_sub = X.iloc[subsample_indices]\n",
        "        \n",
        "        self.y_mean = np.mean(y)\n",
        "\n",
        "        pred = np.array([self.y_mean] * len(y))\n",
        "\n",
        "        self.losses = []\n",
        "        self.losses.append(np.mean(huber_loss(pred, y)))\n",
        "\n",
        "        for _ in range(self.n_estimators):\n",
        "            \n",
        "            grad = -1 * grad_huber_loss(pred, y)\n",
        "\n",
        "            subsample_indices = rng.randint(0, len(X), size=int(len(X)*self.bagging_fraction))\n",
        "            X_sub = X.iloc[subsample_indices]\n",
        "            y_sub = grad[subsample_indices]\n",
        "\n",
        "            tree_ = DecisionTreeRegressor(max_depth=self.max_depth).fit(X_sub, y_sub)\n",
        "\n",
        "            pred += self.learning_rate * tree_.predict(X)\n",
        "\n",
        "            self.models.append(tree_)\n",
        "            self.losses.append(np.mean(huber_loss(pred, y)))\n",
        "\n",
        "        return self\n",
        "\n",
        "\n",
        "    def predict(self, samples):\n",
        "        predictions = np.array([self.y_mean] * len(samples))\n",
        "\n",
        "        for tree in self.models:\n",
        "            predictions += self.learning_rate * tree.predict(samples)\n",
        "\n",
        "        return predictions"
      ]
    },
    {
      "cell_type": "code",
      "execution_count": 8,
      "metadata": {
        "id": "jDMV0_KfBDEd"
      },
      "outputs": [],
      "source": [
        "my_little_model = MyGradBoosting()\n",
        "my_little_model.fit(X_train, y_train)\n",
        "\n",
        "preds_my_little_model = my_little_model.predict(X_test)"
      ]
    },
    {
      "cell_type": "code",
      "execution_count": 9,
      "metadata": {},
      "outputs": [
        {
          "data": {
            "text/plain": [
              "<Axes: >"
            ]
          },
          "execution_count": 9,
          "metadata": {},
          "output_type": "execute_result"
        },
        {
          "data": {
            "image/png": "[encoded data removed]",
            "text/plain": [
              "<Figure size 640x480 with 1 Axes>"
            ]
          },
          "metadata": {},
          "output_type": "display_data"
        }
      ],
      "source": [
        "sns.lineplot(my_little_model.losses)"
      ]
    },
    {
      "cell_type": "code",
      "execution_count": 10,
      "metadata": {
        "id": "CPzhitJHKdXV"
      },
      "outputs": [],
      "source": [
        "# самопроверки\n",
        "assert preds_my_little_model.shape == y_test.shape, 'что-то не так с выходным размером предикта'"
      ]
    },
    {
      "cell_type": "markdown",
      "metadata": {
        "id": "XekwIQWHIKtE"
      },
      "source": [
        "# *это место для вашего кода* ↑↑↑"
      ]
    },
    {
      "cell_type": "markdown",
      "metadata": {
        "id": "WrLezIsFHUP3"
      },
      "source": [
        "### *ниже ничего менять не нужно*\n",
        "## Это класс судья - он решит, какая модель оказалась лучше, ваша, или GradientBoostingRegressor из sklearn\n",
        "Если ячейка ниже завершилась ошибкой, нужно поменять код вашей модели и попробовать еще раз, до тех пор, пока не получите сообщение \"Ура, получилось!\""
      ]
    },
    {
      "cell_type": "code",
      "execution_count": 11,
      "metadata": {
        "id": "5cwE3WwPBcKu"
      },
      "outputs": [
        {
          "name": "stdout",
          "output_type": "stream",
          "text": [
            "mape - ваша модель 0.19235592078560107\n",
            "mape - baseline 0.2152446498010688\n",
            "Ура, получилось! baseline важность: 0.107; важность вашей модели: 0.893\n"
          ]
        }
      ],
      "source": [
        "baseline_model = GradientBoostingRegressor(random_state=4, verbose=0)\n",
        "baseline_model = baseline_model.fit(X_train, y_train)\n",
        "preds_baseline_model = baseline_model.predict(X_test)\n",
        "print('mape - ваша модель', mean_absolute_percentage_error(y_test, preds_my_little_model))\n",
        "print('mape - baseline', mean_absolute_percentage_error(y_test, preds_baseline_model))\n",
        "\n",
        "final_estimator = RandomForestRegressor(random_state=16)\n",
        "final_estimator = final_estimator.fit(\n",
        "    np.hstack((preds_baseline_model.reshape(-1, 1), preds_my_little_model.reshape(-1, 1))),\n",
        "    y_test\n",
        ")\n",
        "\n",
        "imp_baseline_model, imp_my_little_model = final_estimator.feature_importances_\n",
        "result_message = f\"baseline важность: {imp_baseline_model:0.3f}; важность вашей модели: {imp_my_little_model:0.3f}\"\n",
        "\n",
        "assert imp_my_little_model > imp_baseline_model,  f'попробуй еще раз: {result_message}'\n",
        "print('Ура, получилось!',  result_message)"
      ]
    }
  ],
  "metadata": {
    "colab": {
      "provenance": []
    },
    "kernelspec": {
      "display_name": "Python 3",
      "name": "python3"
    },
    "language_info": {
      "codemirror_mode": {
        "name": "ipython",
        "version": 3
      },
      "file_extension": ".py",
      "mimetype": "text/x-python",
      "name": "python",
      "nbconvert_exporter": "python",
      "pygments_lexer": "ipython3",
      "version": "3.11.8"
    }
  },
  "nbformat": 4,
  "nbformat_minor": 0
}
