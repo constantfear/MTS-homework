{
 "cells": [
  {
   "cell_type": "markdown",
   "metadata": {},
   "source": [
    "# Домашнее задание №15"
   ]
  },
  {
   "cell_type": "markdown",
   "metadata": {},
   "source": [
    "#### Подключение библиотек"
   ]
  },
  {
   "cell_type": "code",
   "execution_count": 17,
   "metadata": {},
   "outputs": [
    {
     "name": "stdout",
     "output_type": "stream",
     "text": [
      "The autoreload extension is already loaded. To reload it, use:\n",
      "  %reload_ext autoreload\n"
     ]
    }
   ],
   "source": [
    "from utils import *\n",
    "\n",
    "import warnings\n",
    "warnings.filterwarnings('ignore')\n",
    "%load_ext autoreload\n",
    "%autoreload 2"
   ]
  },
  {
   "cell_type": "markdown",
   "metadata": {},
   "source": [
    "## Номер 1"
   ]
  },
  {
   "cell_type": "code",
   "execution_count": 3,
   "metadata": {},
   "outputs": [],
   "source": [
    "dist_params = dict(\n",
    "\n",
    "    # Зададим параметры распределения факторов\n",
    "    x1_mean = 5,\n",
    "    x1_std = 3,\n",
    "    x2_mean = 9,\n",
    "    x2_std = 2,\n",
    "    x3_mean = -5,\n",
    "    x3_std = 1,\n",
    "    corr_12 = 0,\n",
    "    corr_13 = 0,\n",
    "    corr_23 = 0.8,\n",
    "    \n",
    "    \n",
    "    # Зададим параметры распределения ошибки\n",
    "    e_mean = 0,\n",
    "    e_std = 7,\n",
    "\n",
    "    # Укажем размер выборки\n",
    "    N = 1000,\n",
    "\n",
    "    # Зададим действительные параметры модели\n",
    "    beta0 = 3,\n",
    "    beta1 = 10.3,\n",
    "    beta2 = -7.2,\n",
    "    beta3 = 3.9\n",
    ")\n"
   ]
  },
  {
   "cell_type": "code",
   "execution_count": 4,
   "metadata": {},
   "outputs": [],
   "source": [
    "coefs_list = dict(\n",
    "    b1 = [],\n",
    "    b1_low = [],\n",
    "    b1_high = [],\n",
    "\n",
    "    b2 = [],\n",
    "    b2_low = [],\n",
    "    b2_high = [],\n",
    "\n",
    "    b3 = [],\n",
    "    b3_low = [],\n",
    "    b3_high = [],\n",
    "    \n",
    ")"
   ]
  },
  {
   "cell_type": "code",
   "execution_count": 6,
   "metadata": {},
   "outputs": [],
   "source": [
    "for i in range(10000):\n",
    "    data = gen_data(y_type='multivariate', params=dist_params)\n",
    "    _, model = train_model(data, target='y', feature_names=['x1', 'x2', 'x3'])\n",
    "    intervals = model.conf_int()\n",
    "\n",
    "    coefs_list['b1'].append(model.params[1])\n",
    "    coefs_list['b1_low'].append(intervals.iloc[1][0])\n",
    "    coefs_list['b1_high'].append(intervals.iloc[1][1])\n",
    "\n",
    "\n",
    "    coefs_list['b2'].append(model.params[2])\n",
    "    coefs_list['b2_low'].append(intervals.iloc[2][0])\n",
    "    coefs_list['b2_high'].append(intervals.iloc[2][1])\n",
    "\n",
    "    coefs_list['b3'].append(model.params[3])\n",
    "    coefs_list['b3_low'].append(intervals.iloc[3][0])\n",
    "    coefs_list['b3_high'].append(intervals.iloc[3][1])"
   ]
  },
  {
   "cell_type": "markdown",
   "metadata": {},
   "source": [
    "#### Задача 1.1"
   ]
  },
  {
   "cell_type": "code",
   "execution_count": 7,
   "metadata": {},
   "outputs": [
    {
     "name": "stdout",
     "output_type": "stream",
     "text": [
      "Коэффициент beta1 попадает в свой доверительный интервал в 100.0% итераций\n"
     ]
    }
   ],
   "source": [
    "cnt = 0\n",
    "for i in range(10000):\n",
    "    if coefs_list['b1'][i] <= coefs_list['b1_high'][i] and coefs_list['b1'][i] >= coefs_list['b1_low'][i]:\n",
    "        cnt += 1\n",
    "\n",
    "print(f\"Коэффициент beta1 попадает в свой доверительный интервал в {cnt/100}% итераций\")"
   ]
  },
  {
   "cell_type": "markdown",
   "metadata": {},
   "source": [
    "#### Задача 1.2"
   ]
  },
  {
   "cell_type": "code",
   "execution_count": 8,
   "metadata": {},
   "outputs": [
    {
     "name": "stdout",
     "output_type": "stream",
     "text": [
      "Коэффициент beta2 попадает в свой доверительный интервал в 100.0% итераций\n",
      "Коэффициент beta2 попадает в свой доверительный интервал в 100.0% итераций\n"
     ]
    }
   ],
   "source": [
    "cnt = 0\n",
    "for i in range(10000):\n",
    "    if coefs_list['b2'][i] <= coefs_list['b2_high'][i] and coefs_list['b2'][i] >= coefs_list['b2_low'][i]:\n",
    "        cnt += 1\n",
    "\n",
    "print(f\"Коэффициент beta2 попадает в свой доверительный интервал в {cnt/100}% итераций\")\n",
    "\n",
    "cnt = 0\n",
    "for i in range(10000):\n",
    "    if coefs_list['b2'][i] <= coefs_list['b2_high'][i] and coefs_list['b2'][i] >= coefs_list['b2_low'][i]:\n",
    "        cnt += 1\n",
    "\n",
    "print(f\"Коэффициент beta2 попадает в свой доверительный интервал в {cnt/100}% итераций\")"
   ]
  },
  {
   "cell_type": "markdown",
   "metadata": {},
   "source": [
    "## Номер 2"
   ]
  },
  {
   "cell_type": "code",
   "execution_count": 12,
   "metadata": {},
   "outputs": [],
   "source": [
    "import pandas as pd"
   ]
  },
  {
   "cell_type": "markdown",
   "metadata": {},
   "source": [
    "Получим датасет"
   ]
  },
  {
   "cell_type": "code",
   "execution_count": 10,
   "metadata": {},
   "outputs": [],
   "source": [
    "df = pd.read_csv('heart_disease_health_indicators_BRFSS2015.csv')"
   ]
  },
  {
   "cell_type": "code",
   "execution_count": 23,
   "metadata": {},
   "outputs": [
    {
     "data": {
      "text/html": [
       "<div>\n",
       "<style scoped>\n",
       "    .dataframe tbody tr th:only-of-type {\n",
       "        vertical-align: middle;\n",
       "    }\n",
       "\n",
       "    .dataframe tbody tr th {\n",
       "        vertical-align: top;\n",
       "    }\n",
       "\n",
       "    .dataframe thead th {\n",
       "        text-align: right;\n",
       "    }\n",
       "</style>\n",
       "<table border=\"1\" class=\"dataframe\">\n",
       "  <thead>\n",
       "    <tr style=\"text-align: right;\">\n",
       "      <th></th>\n",
       "      <th>HeartDiseaseorAttack</th>\n",
       "      <th>HighBP</th>\n",
       "      <th>HighChol</th>\n",
       "      <th>CholCheck</th>\n",
       "      <th>BMI</th>\n",
       "      <th>Smoker</th>\n",
       "      <th>Stroke</th>\n",
       "      <th>Diabetes</th>\n",
       "      <th>PhysActivity</th>\n",
       "      <th>Fruits</th>\n",
       "      <th>...</th>\n",
       "      <th>AnyHealthcare</th>\n",
       "      <th>NoDocbcCost</th>\n",
       "      <th>GenHlth</th>\n",
       "      <th>MentHlth</th>\n",
       "      <th>PhysHlth</th>\n",
       "      <th>DiffWalk</th>\n",
       "      <th>Sex</th>\n",
       "      <th>Age</th>\n",
       "      <th>Education</th>\n",
       "      <th>Income</th>\n",
       "    </tr>\n",
       "  </thead>\n",
       "  <tbody>\n",
       "    <tr>\n",
       "      <th>0</th>\n",
       "      <td>0.0</td>\n",
       "      <td>1.0</td>\n",
       "      <td>1.0</td>\n",
       "      <td>1.0</td>\n",
       "      <td>40.0</td>\n",
       "      <td>1.0</td>\n",
       "      <td>0.0</td>\n",
       "      <td>0.0</td>\n",
       "      <td>0.0</td>\n",
       "      <td>0.0</td>\n",
       "      <td>...</td>\n",
       "      <td>1.0</td>\n",
       "      <td>0.0</td>\n",
       "      <td>5.0</td>\n",
       "      <td>18.0</td>\n",
       "      <td>15.0</td>\n",
       "      <td>1.0</td>\n",
       "      <td>0.0</td>\n",
       "      <td>9.0</td>\n",
       "      <td>4.0</td>\n",
       "      <td>3.0</td>\n",
       "    </tr>\n",
       "    <tr>\n",
       "      <th>1</th>\n",
       "      <td>0.0</td>\n",
       "      <td>0.0</td>\n",
       "      <td>0.0</td>\n",
       "      <td>0.0</td>\n",
       "      <td>25.0</td>\n",
       "      <td>1.0</td>\n",
       "      <td>0.0</td>\n",
       "      <td>0.0</td>\n",
       "      <td>1.0</td>\n",
       "      <td>0.0</td>\n",
       "      <td>...</td>\n",
       "      <td>0.0</td>\n",
       "      <td>1.0</td>\n",
       "      <td>3.0</td>\n",
       "      <td>0.0</td>\n",
       "      <td>0.0</td>\n",
       "      <td>0.0</td>\n",
       "      <td>0.0</td>\n",
       "      <td>7.0</td>\n",
       "      <td>6.0</td>\n",
       "      <td>1.0</td>\n",
       "    </tr>\n",
       "    <tr>\n",
       "      <th>2</th>\n",
       "      <td>0.0</td>\n",
       "      <td>1.0</td>\n",
       "      <td>1.0</td>\n",
       "      <td>1.0</td>\n",
       "      <td>28.0</td>\n",
       "      <td>0.0</td>\n",
       "      <td>0.0</td>\n",
       "      <td>0.0</td>\n",
       "      <td>0.0</td>\n",
       "      <td>1.0</td>\n",
       "      <td>...</td>\n",
       "      <td>1.0</td>\n",
       "      <td>1.0</td>\n",
       "      <td>5.0</td>\n",
       "      <td>30.0</td>\n",
       "      <td>30.0</td>\n",
       "      <td>1.0</td>\n",
       "      <td>0.0</td>\n",
       "      <td>9.0</td>\n",
       "      <td>4.0</td>\n",
       "      <td>8.0</td>\n",
       "    </tr>\n",
       "    <tr>\n",
       "      <th>3</th>\n",
       "      <td>0.0</td>\n",
       "      <td>1.0</td>\n",
       "      <td>0.0</td>\n",
       "      <td>1.0</td>\n",
       "      <td>27.0</td>\n",
       "      <td>0.0</td>\n",
       "      <td>0.0</td>\n",
       "      <td>0.0</td>\n",
       "      <td>1.0</td>\n",
       "      <td>1.0</td>\n",
       "      <td>...</td>\n",
       "      <td>1.0</td>\n",
       "      <td>0.0</td>\n",
       "      <td>2.0</td>\n",
       "      <td>0.0</td>\n",
       "      <td>0.0</td>\n",
       "      <td>0.0</td>\n",
       "      <td>0.0</td>\n",
       "      <td>11.0</td>\n",
       "      <td>3.0</td>\n",
       "      <td>6.0</td>\n",
       "    </tr>\n",
       "    <tr>\n",
       "      <th>4</th>\n",
       "      <td>0.0</td>\n",
       "      <td>1.0</td>\n",
       "      <td>1.0</td>\n",
       "      <td>1.0</td>\n",
       "      <td>24.0</td>\n",
       "      <td>0.0</td>\n",
       "      <td>0.0</td>\n",
       "      <td>0.0</td>\n",
       "      <td>1.0</td>\n",
       "      <td>1.0</td>\n",
       "      <td>...</td>\n",
       "      <td>1.0</td>\n",
       "      <td>0.0</td>\n",
       "      <td>2.0</td>\n",
       "      <td>3.0</td>\n",
       "      <td>0.0</td>\n",
       "      <td>0.0</td>\n",
       "      <td>0.0</td>\n",
       "      <td>11.0</td>\n",
       "      <td>5.0</td>\n",
       "      <td>4.0</td>\n",
       "    </tr>\n",
       "  </tbody>\n",
       "</table>\n",
       "<p>5 rows × 22 columns</p>\n",
       "</div>"
      ],
      "text/plain": [
       "   HeartDiseaseorAttack  HighBP  HighChol  CholCheck   BMI  Smoker  Stroke  \\\n",
       "0                   0.0     1.0       1.0        1.0  40.0     1.0     0.0   \n",
       "1                   0.0     0.0       0.0        0.0  25.0     1.0     0.0   \n",
       "2                   0.0     1.0       1.0        1.0  28.0     0.0     0.0   \n",
       "3                   0.0     1.0       0.0        1.0  27.0     0.0     0.0   \n",
       "4                   0.0     1.0       1.0        1.0  24.0     0.0     0.0   \n",
       "\n",
       "   Diabetes  PhysActivity  Fruits  ...  AnyHealthcare  NoDocbcCost  GenHlth  \\\n",
       "0       0.0           0.0     0.0  ...            1.0          0.0      5.0   \n",
       "1       0.0           1.0     0.0  ...            0.0          1.0      3.0   \n",
       "2       0.0           0.0     1.0  ...            1.0          1.0      5.0   \n",
       "3       0.0           1.0     1.0  ...            1.0          0.0      2.0   \n",
       "4       0.0           1.0     1.0  ...            1.0          0.0      2.0   \n",
       "\n",
       "   MentHlth  PhysHlth  DiffWalk  Sex   Age  Education  Income  \n",
       "0      18.0      15.0       1.0  0.0   9.0        4.0     3.0  \n",
       "1       0.0       0.0       0.0  0.0   7.0        6.0     1.0  \n",
       "2      30.0      30.0       1.0  0.0   9.0        4.0     8.0  \n",
       "3       0.0       0.0       0.0  0.0  11.0        3.0     6.0  \n",
       "4       3.0       0.0       0.0  0.0  11.0        5.0     4.0  \n",
       "\n",
       "[5 rows x 22 columns]"
      ]
     },
     "execution_count": 23,
     "metadata": {},
     "output_type": "execute_result"
    }
   ],
   "source": [
    "df.head()"
   ]
  },
  {
   "cell_type": "code",
   "execution_count": 11,
   "metadata": {},
   "outputs": [],
   "source": [
    "target = df['HeartDiseaseorAttack']\n",
    "X = df.drop('HeartDiseaseorAttack', axis=1)"
   ]
  },
  {
   "cell_type": "code",
   "execution_count": 22,
   "metadata": {},
   "outputs": [
    {
     "name": "stdout",
     "output_type": "stream",
     "text": [
      "\n",
      " ================================================== TRAIN RESULTS ================================================== \n",
      "\n",
      "ROC AUC score: 0.841\n",
      "\n",
      "              precision    recall  f1-score   support\n",
      "\n",
      "         0.0       0.97      0.74      0.84    229787\n",
      "         1.0       0.24      0.80      0.37     23893\n",
      "\n",
      "    accuracy                           0.74    253680\n",
      "   macro avg       0.61      0.77      0.60    253680\n",
      "weighted avg       0.90      0.74      0.79    253680\n",
      "\n"
     ]
    },
    {
     "data": {
      "image/png": "[encoded data removed]",
      "text/plain": [
       "<Figure size 640x480 with 1 Axes>"
      ]
     },
     "metadata": {},
     "output_type": "display_data"
    },
    {
     "data": {
      "image/png": "[encoded data removed]",
      "text/plain": [
       "<Figure size 572x500 with 1 Axes>"
      ]
     },
     "metadata": {},
     "output_type": "display_data"
    },
    {
     "data": {
      "text/html": [
       "<style type=\"text/css\">\n",
       "#T_989cb_row0_col0, #T_989cb_row0_col1 {\n",
       "  background-color: #b40426;\n",
       "  color: #f1f1f1;\n",
       "}\n",
       "#T_989cb_row1_col0, #T_989cb_row1_col1 {\n",
       "  background-color: #3b4cc0;\n",
       "  color: #f1f1f1;\n",
       "}\n",
       "</style>\n",
       "<table id=\"T_989cb\">\n",
       "  <thead>\n",
       "    <tr>\n",
       "      <th class=\"index_name level0\" >Predicted</th>\n",
       "      <th id=\"T_989cb_level0_col0\" class=\"col_heading level0 col0\" >0.000000</th>\n",
       "      <th id=\"T_989cb_level0_col1\" class=\"col_heading level0 col1\" >1.000000</th>\n",
       "    </tr>\n",
       "    <tr>\n",
       "      <th class=\"index_name level0\" >Actual</th>\n",
       "      <th class=\"blank col0\" >&nbsp;</th>\n",
       "      <th class=\"blank col1\" >&nbsp;</th>\n",
       "    </tr>\n",
       "  </thead>\n",
       "  <tbody>\n",
       "    <tr>\n",
       "      <th id=\"T_989cb_level0_row0\" class=\"row_heading level0 row0\" >0.000000</th>\n",
       "      <td id=\"T_989cb_row0_col0\" class=\"data row0 col0\" >169261</td>\n",
       "      <td id=\"T_989cb_row0_col1\" class=\"data row0 col1\" >60526</td>\n",
       "    </tr>\n",
       "    <tr>\n",
       "      <th id=\"T_989cb_level0_row1\" class=\"row_heading level0 row1\" >1.000000</th>\n",
       "      <td id=\"T_989cb_row1_col0\" class=\"data row1 col0\" >4897</td>\n",
       "      <td id=\"T_989cb_row1_col1\" class=\"data row1 col1\" >18996</td>\n",
       "    </tr>\n",
       "  </tbody>\n",
       "</table>\n"
      ],
      "text/plain": [
       "<pandas.io.formats.style.Styler at 0x7f50e4f66fd0>"
      ]
     },
     "metadata": {},
     "output_type": "display_data"
    }
   ],
   "source": [
    "dt_logit, model_logit = train_binary(\n",
    "    df, target='HeartDiseaseorAttack',\n",
    "    feature_names=X.columns,\n",
    "    plot_feature='Age',\n",
    "    model_type='logit', pkg='sklearn',\n",
    "    class_weight=\"balanced\")"
   ]
  },
  {
   "cell_type": "markdown",
   "metadata": {},
   "source": [
    "#### Вывод по результатам:"
   ]
  },
  {
   "cell_type": "markdown",
   "metadata": {},
   "source": [
    "**1. Precision и Recall:**\n",
    "- Precision измеряет, насколько точными были предсказания положительного класса. В нашем случае точность того, что мы предсказали человека с заболеванием составляет 0.24, что довольно мало и означает что довольно много здоровых людей были отнесены моделью к тем, у кого есть заболевание. \n",
    "- Recall измеряет, какую часть истинно положительных примеров модель смогла выявить. Данный показатель для положительного класса составляет 0.8, что является хорошим результатом и означает, что примерно 80% из всех людей с заболеванием сердца наша модель смогла обнаружить. \n",
    "\n",
    "**2. F-score:**\n",
    "- F1-score объединяет точность и полноту в одну метрику. Это гармоническое среднее между точностью и полнотой. У полученой модели эта метрика для положительного класса равна 0.37, что довольно низко, но это объясняется низким значением Precision. Однако для нашей задачи гораздо важнее найти человека с заболеванием, т.е. максимизировать Recall.\n",
    "\n",
    "**3. Roc-auc:**\n",
    "- ROC-AUC является метрикой, используемой для оценки качества бинарной классификации. В нашем случае эта метрика принимает значение 0.841, что довольно хорошо и указывает указывает на хорошую разделимость классов нашей моделью."
   ]
  },
  {
   "cell_type": "markdown",
   "metadata": {},
   "source": [
    "**Скольким людям из 100 наша модель выдаст верный диагноз:**\n",
    "\n",
    "$100*accuracy = 100*0.74 = 74$\n",
    "\n",
    "**Скольким людям из 100 наша модель выдаст неверный диагноз:**\n",
    "\n",
    "$100-74 = 26$\n",
    "\n",
    "**Сколько людей из 100 наша модель не посчитала больным и ошиблась:**\n",
    "\n",
    "$100*FN = 100*\\frac{4897}{253680} \\approx 2$"
   ]
  },
  {
   "cell_type": "markdown",
   "metadata": {},
   "source": [
    "### Итог\n",
    "\n",
    "Модель получилась довольно хорошей для поставленой задачи, ведь нам важнее найти человека с заболеванием, чтобы начать лечение за ранее, чем мы отнесем его к здоровым, что может привести потом к плохим последствиям. Поэтому в этой проблеме нужно получить высокий показатель Recall, что у нас и получилось. Поднятие уровня Precision тоже важно, ведь всех подряд относить к больным тоже не вариант. Но удалось получить только значение 0.24, что уже неплохо, но и не идеально."
   ]
  }
 ],
 "metadata": {
  "kernelspec": {
   "display_name": ".main-venv",
   "language": "python",
   "name": "python3"
  },
  "language_info": {
   "codemirror_mode": {
    "name": "ipython",
    "version": 3
   },
   "file_extension": ".py",
   "mimetype": "text/x-python",
   "name": "python",
   "nbconvert_exporter": "python",
   "pygments_lexer": "ipython3",
   "version": "3.11.7"
  }
 },
 "nbformat": 4,
 "nbformat_minor": 2
}
