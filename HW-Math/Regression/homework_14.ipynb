{
 "cells": [
  {
   "cell_type": "markdown",
   "metadata": {},
   "source": [
    "# Домашнее задание №14"
   ]
  },
  {
   "cell_type": "markdown",
   "metadata": {},
   "source": [
    "## Номер 1"
   ]
  },
  {
   "cell_type": "markdown",
   "metadata": {},
   "source": [
    "#### Доказать: \n",
    "$$\\frac{(RSS_{restricted} - RSS_{unrestricted})/q}{RSS_{unrestricted}/(n-k-1)}=\n",
    "\\frac{(R^2_{unrestricted} - R^2_{restricted})/q}{(1-R^2_{unrestricted})/(n-k-1)}\n",
    "$$\n",
    "\n",
    "#### Доказательство:\n",
    "$R^2 = 1 - \\frac{RSS}{TSS} \\Rightarrow TSS\\cdot R^2 = TSS - RSS \\Rightarrow \n",
    "RSS = TSS(1-R^2)$\n",
    "\n",
    "т.к. $\\ TSS = \\sum^n_{i=1}(y_i - \\bar{y})^2 \\Rightarrow TSS $ не зависит от типа модели и всегда одно и тоже $\\Rightarrow$ \n",
    "\n",
    "$RSS_{restricted} = TSS(1-R_{restricted}^2)$\n",
    "\n",
    "$RSS_{unrestricted} = TSS(1-R_{unrestricted}^2)$\n",
    "\n",
    "$$\\frac{(RSS_{restricted} - RSS_{unrestricted})/q}{RSS_{unrestricted}/(n-k-1)}=\n",
    "\\frac{(TSS(1-R_{restricted}^2) - TSS(1-R_{unrestricted}^2))/q}{TSS(1-R_{unrestricted}^2)/(n-k-1)} = $$\n",
    "$$\\frac{(1-R_{restricted}^2 - 1 + R_{unrestricted}^2)/q}{(1-R_{unrestricted}^2)/(n-k-1)}=\n",
    "\\frac{(R^2_{unrestricted} - R^2_{restricted})/q}{(1-R^2_{unrestricted})/(n-k-1)}\n",
    "$$"
   ]
  },
  {
   "cell_type": "markdown",
   "metadata": {},
   "source": [
    "## Номер 2"
   ]
  },
  {
   "cell_type": "markdown",
   "metadata": {},
   "source": [
    "#### Подключение библиотек"
   ]
  },
  {
   "cell_type": "code",
   "execution_count": 2,
   "metadata": {},
   "outputs": [],
   "source": [
    "from matplotlib import pyplot as plt\n",
    "\n",
    "from utils import *\n",
    "\n",
    "import warnings\n",
    "warnings.filterwarnings('ignore')\n",
    "%load_ext autoreload\n",
    "%autoreload 2"
   ]
  },
  {
   "cell_type": "markdown",
   "metadata": {},
   "source": [
    "#### Определение параметров для модели"
   ]
  },
  {
   "cell_type": "code",
   "execution_count": 3,
   "metadata": {},
   "outputs": [],
   "source": [
    "dist_params = dict(\n",
    "\n",
    "    # Зададим параметры распределения факторов\n",
    "    x1_mean = 5,\n",
    "    x1_std = 3,\n",
    "    x2_mean = 9,\n",
    "    x2_std = 2,\n",
    "    x3_mean = -5,\n",
    "    x3_std = 1,\n",
    "    corr_12 = 0,\n",
    "    corr_13 = 0,\n",
    "    corr_23 = 0.8,\n",
    "    \n",
    "    \n",
    "    # Зададим параметры распределения ошибки\n",
    "    e_mean = 0,\n",
    "    e_std = 7,\n",
    "\n",
    "    # Укажем размер выборки\n",
    "    N = 1000,\n",
    "\n",
    "    # Зададим действительные параметры модели\n",
    "    beta0 = 3,\n",
    "    beta1 = 10.3,\n",
    "    beta2 = -7.2,\n",
    "    beta3 = 3.9\n",
    ")\n",
    "\n",
    "# Установим стартовую точку для алгоритма генерации случайных чисел\n",
    "RANDOM_SEED = 42"
   ]
  },
  {
   "cell_type": "code",
   "execution_count": 4,
   "metadata": {},
   "outputs": [
    {
     "data": {
      "text/html": [
       "<div>\n",
       "<style scoped>\n",
       "    .dataframe tbody tr th:only-of-type {\n",
       "        vertical-align: middle;\n",
       "    }\n",
       "\n",
       "    .dataframe tbody tr th {\n",
       "        vertical-align: top;\n",
       "    }\n",
       "\n",
       "    .dataframe thead th {\n",
       "        text-align: right;\n",
       "    }\n",
       "</style>\n",
       "<table border=\"1\" class=\"dataframe\">\n",
       "  <thead>\n",
       "    <tr style=\"text-align: right;\">\n",
       "      <th></th>\n",
       "      <th>x1</th>\n",
       "      <th>x2</th>\n",
       "      <th>x3</th>\n",
       "      <th>e</th>\n",
       "      <th>y</th>\n",
       "    </tr>\n",
       "  </thead>\n",
       "  <tbody>\n",
       "    <tr>\n",
       "      <th>0</th>\n",
       "      <td>6.490142</td>\n",
       "      <td>9.132227</td>\n",
       "      <td>-4.551725</td>\n",
       "      <td>-13.354653</td>\n",
       "      <td>-27.009944</td>\n",
       "    </tr>\n",
       "    <tr>\n",
       "      <th>1</th>\n",
       "      <td>9.569090</td>\n",
       "      <td>9.517017</td>\n",
       "      <td>-4.917353</td>\n",
       "      <td>-6.022695</td>\n",
       "      <td>7.838730</td>\n",
       "    </tr>\n",
       "    <tr>\n",
       "      <th>2</th>\n",
       "      <td>9.737638</td>\n",
       "      <td>7.577840</td>\n",
       "      <td>-5.899533</td>\n",
       "      <td>-2.895239</td>\n",
       "      <td>22.833812</td>\n",
       "    </tr>\n",
       "    <tr>\n",
       "      <th>3</th>\n",
       "      <td>6.627680</td>\n",
       "      <td>10.023754</td>\n",
       "      <td>-4.837624</td>\n",
       "      <td>13.213814</td>\n",
       "      <td>-6.558846</td>\n",
       "    </tr>\n",
       "    <tr>\n",
       "      <th>4</th>\n",
       "      <td>5.725887</td>\n",
       "      <td>13.183124</td>\n",
       "      <td>-4.229018</td>\n",
       "      <td>3.895872</td>\n",
       "      <td>-45.539155</td>\n",
       "    </tr>\n",
       "    <tr>\n",
       "      <th>...</th>\n",
       "      <td>...</td>\n",
       "      <td>...</td>\n",
       "      <td>...</td>\n",
       "      <td>...</td>\n",
       "      <td>...</td>\n",
       "    </tr>\n",
       "    <tr>\n",
       "      <th>995</th>\n",
       "      <td>2.119861</td>\n",
       "      <td>9.223365</td>\n",
       "      <td>-4.846865</td>\n",
       "      <td>0.199203</td>\n",
       "      <td>-60.277231</td>\n",
       "    </tr>\n",
       "    <tr>\n",
       "      <th>996</th>\n",
       "      <td>1.609389</td>\n",
       "      <td>3.872060</td>\n",
       "      <td>-6.306186</td>\n",
       "      <td>-14.544683</td>\n",
       "      <td>-47.440938</td>\n",
       "    </tr>\n",
       "    <tr>\n",
       "      <th>997</th>\n",
       "      <td>6.806355</td>\n",
       "      <td>8.903531</td>\n",
       "      <td>-5.169898</td>\n",
       "      <td>-2.242085</td>\n",
       "      <td>-13.404650</td>\n",
       "    </tr>\n",
       "    <tr>\n",
       "      <th>998</th>\n",
       "      <td>2.144245</td>\n",
       "      <td>8.789224</td>\n",
       "      <td>-4.935717</td>\n",
       "      <td>11.503647</td>\n",
       "      <td>-45.942344</td>\n",
       "    </tr>\n",
       "    <tr>\n",
       "      <th>999</th>\n",
       "      <td>1.274718</td>\n",
       "      <td>8.369898</td>\n",
       "      <td>-5.366705</td>\n",
       "      <td>2.524535</td>\n",
       "      <td>-62.539286</td>\n",
       "    </tr>\n",
       "  </tbody>\n",
       "</table>\n",
       "<p>1000 rows × 5 columns</p>\n",
       "</div>"
      ],
      "text/plain": [
       "           x1         x2        x3          e          y\n",
       "0    6.490142   9.132227 -4.551725 -13.354653 -27.009944\n",
       "1    9.569090   9.517017 -4.917353  -6.022695   7.838730\n",
       "2    9.737638   7.577840 -5.899533  -2.895239  22.833812\n",
       "3    6.627680  10.023754 -4.837624  13.213814  -6.558846\n",
       "4    5.725887  13.183124 -4.229018   3.895872 -45.539155\n",
       "..        ...        ...       ...        ...        ...\n",
       "995  2.119861   9.223365 -4.846865   0.199203 -60.277231\n",
       "996  1.609389   3.872060 -6.306186 -14.544683 -47.440938\n",
       "997  6.806355   8.903531 -5.169898  -2.242085 -13.404650\n",
       "998  2.144245   8.789224 -4.935717  11.503647 -45.942344\n",
       "999  1.274718   8.369898 -5.366705   2.524535 -62.539286\n",
       "\n",
       "[1000 rows x 5 columns]"
      ]
     },
     "metadata": {},
     "output_type": "display_data"
    }
   ],
   "source": [
    "data = gen_data(y_type='multivariate', params=dist_params, seed=RANDOM_SEED)\n",
    "\n",
    "display(data)"
   ]
  },
  {
   "cell_type": "code",
   "execution_count": 10,
   "metadata": {},
   "outputs": [
    {
     "name": "stdout",
     "output_type": "stream",
     "text": [
      "                            OLS Regression Results                            \n",
      "==============================================================================\n",
      "Dep. Variable:                      y   R-squared:                       0.951\n",
      "Model:                            OLS   Adj. R-squared:                  0.951\n",
      "Method:                 Least Squares   F-statistic:                     6449.\n",
      "Date:                Sun, 03 Mar 2024   Prob (F-statistic):               0.00\n",
      "Time:                        18:02:07   Log-Likelihood:                -3389.9\n",
      "No. Observations:                1000   AIC:                             6788.\n",
      "Df Residuals:                     996   BIC:                             6807.\n",
      "Df Model:                           3                                         \n",
      "Covariance Type:            nonrobust                                         \n",
      "==============================================================================\n",
      "                 coef    std err          t      P>|t|      [0.025      0.975]\n",
      "------------------------------------------------------------------------------\n",
      "const         -1.7953      3.471     -0.517      0.605      -8.607       5.016\n",
      "x1            10.3397      0.078    132.087      0.000      10.186      10.493\n",
      "x2            -6.9298      0.189    -36.608      0.000      -7.301      -6.558\n",
      "x3             3.4923      0.388      8.998      0.000       2.731       4.254\n",
      "==============================================================================\n",
      "Omnibus:                        2.961   Durbin-Watson:                   2.045\n",
      "Prob(Omnibus):                  0.228   Jarque-Bera (JB):                2.542\n",
      "Skew:                          -0.010   Prob(JB):                        0.281\n",
      "Kurtosis:                       2.754   Cond. No.                         180.\n",
      "==============================================================================\n",
      "\n",
      "Notes:\n",
      "[1] Standard Errors assume that the covariance matrix of the errors is correctly specified.\n"
     ]
    }
   ],
   "source": [
    "data, model_linearity = train_model(data, target='y', feature_names=['x1', 'x2', 'x3'], show_results=True, show_plots=False, pairwise=False, return_norm_tests=True)\n"
   ]
  },
  {
   "cell_type": "markdown",
   "metadata": {},
   "source": [
    "Попробуем взять только по два признака ($x_1$ и $x_2$) или ($x_1$ и $x_3$):"
   ]
  },
  {
   "cell_type": "code",
   "execution_count": 9,
   "metadata": {},
   "outputs": [
    {
     "name": "stdout",
     "output_type": "stream",
     "text": [
      "                            OLS Regression Results                            \n",
      "==============================================================================\n",
      "Dep. Variable:                      y   R-squared:                       0.947\n",
      "Model:                            OLS   Adj. R-squared:                  0.947\n",
      "Method:                 Least Squares   F-statistic:                     8918.\n",
      "Date:                Sun, 03 Mar 2024   Prob (F-statistic):               0.00\n",
      "Time:                        18:02:03   Log-Likelihood:                -3429.0\n",
      "No. Observations:                1000   AIC:                             6864.\n",
      "Df Residuals:                     997   BIC:                             6879.\n",
      "Df Model:                           2                                         \n",
      "Covariance Type:            nonrobust                                         \n",
      "==============================================================================\n",
      "                 coef    std err          t      P>|t|      [0.025      0.975]\n",
      "------------------------------------------------------------------------------\n",
      "const        -31.4294      1.139    -27.584      0.000     -33.665     -29.193\n",
      "x1            10.3294      0.081    126.976      0.000      10.170      10.489\n",
      "x2            -5.5603      0.117    -47.529      0.000      -5.790      -5.331\n",
      "==============================================================================\n",
      "Omnibus:                        1.721   Durbin-Watson:                   2.032\n",
      "Prob(Omnibus):                  0.423   Jarque-Bera (JB):                1.628\n",
      "Skew:                          -0.014   Prob(JB):                        0.443\n",
      "Kurtosis:                       2.804   Cond. No.                         51.7\n",
      "==============================================================================\n",
      "\n",
      "Notes:\n",
      "[1] Standard Errors assume that the covariance matrix of the errors is correctly specified.\n"
     ]
    }
   ],
   "source": [
    "data, model_linearity = train_model(data, target='y', feature_names=['x1', 'x2'], show_results=True, show_plots=False, pairwise=False, return_norm_tests=True)"
   ]
  },
  {
   "cell_type": "code",
   "execution_count": 11,
   "metadata": {},
   "outputs": [
    {
     "name": "stdout",
     "output_type": "stream",
     "text": [
      "                            OLS Regression Results                            \n",
      "==============================================================================\n",
      "Dep. Variable:                      y   R-squared:                       0.885\n",
      "Model:                            OLS   Adj. R-squared:                  0.885\n",
      "Method:                 Least Squares   F-statistic:                     3842.\n",
      "Date:                Sun, 03 Mar 2024   Prob (F-statistic):               0.00\n",
      "Time:                        18:03:36   Log-Likelihood:                -3816.2\n",
      "No. Observations:                1000   AIC:                             7638.\n",
      "Df Residuals:                     997   BIC:                             7653.\n",
      "Df Model:                           2                                         \n",
      "Covariance Type:            nonrobust                                         \n",
      "==============================================================================\n",
      "                 coef    std err          t      P>|t|      [0.025      0.975]\n",
      "------------------------------------------------------------------------------\n",
      "const       -120.3576      1.912    -62.962      0.000    -124.109    -116.606\n",
      "x1            10.2230      0.120     85.386      0.000       9.988      10.458\n",
      "x3            -7.9313      0.353    -22.450      0.000      -8.625      -7.238\n",
      "==============================================================================\n",
      "Omnibus:                        1.065   Durbin-Watson:                   2.067\n",
      "Prob(Omnibus):                  0.587   Jarque-Bera (JB):                1.101\n",
      "Skew:                           0.023   Prob(JB):                        0.577\n",
      "Kurtosis:                       2.844   Cond. No.                         42.2\n",
      "==============================================================================\n",
      "\n",
      "Notes:\n",
      "[1] Standard Errors assume that the covariance matrix of the errors is correctly specified.\n"
     ]
    }
   ],
   "source": [
    "data, model_linearity = train_model(data, target='y', feature_names=['x1', 'x3'], show_results=True, show_plots=False, pairwise=False, return_norm_tests=True)\n"
   ]
  },
  {
   "cell_type": "markdown",
   "metadata": {},
   "source": [
    "#### Вывод"
   ]
  },
  {
   "cell_type": "markdown",
   "metadata": {},
   "source": [
    "**1. Оценки коэффициентов модели:**\n",
    "- Коэффициент ​$\\beta_0$ оценен как $−1.7953$, что отличается от реального значения $3$. Смещение довольно большое.\n",
    "- Оценка для ​$\\beta_1$ составляет $10.3397$, близкая к реальному значению \n",
    "$10.3$, что может указывать на хорошую оценку этого коэффициента.\n",
    "- Оценка ​$\\beta_2$ равна $-6.9298$, тоже близкое к истинному значению $-7.2$.\n",
    "- Оценка для ​$\\beta_3$ равна $3.4923$, что близко к реальному значению $3.9$\n",
    "\n",
    "**2. Стандартные ошибки, t-статистики, p-value и доверительные интервалы:**\n",
    "- **Коэффициент ​$\\beta_1$:**\n",
    "\n",
    "> Стандартная ошибка коэффициента составляет 0.078. Это относительно низкое значение, что указывает на высокую точность оценки.\n",
    "\n",
    "> Значение t-статистики равно 132.087, а p-value равно 0.00, что говорит о статистической значимости коэффициента.\n",
    "\n",
    "> Доверительный интервал для коэффициента находится в диапазоне от 10.186 до 10.493. Истинное значение коэффициента попадает в интервал.\n",
    "\n",
    "- **Коэффициент ​$\\beta_2$:**\n",
    "\n",
    "> Стандартная ошибка коэффициента равна 0.189. Относительно низкое значение, что указывает на высокую точность оценки.\n",
    "\n",
    "> Значение t-статистики составляет -36.608, а p-value равно 0.00, что говорит о статистической значимости коэффициента.\n",
    "\n",
    "> Доверительный интервал для коэффициента находится в диапазоне от -7.301 до -6.558. Истинное значение коэффициента попадает в интервал.\n",
    "\n",
    "- **Коэффициент ​$\\beta_3$:**\n",
    "\n",
    "> Стандартная ошибка коэффициента равна 0.388. Это относительно низкое значение, что указывает на высокую точность оценки.\n",
    "\n",
    "> Значение t-статистики составляет 8.998, а p-value равно 0.00, что говорит о статистической значимости коэффициента.\n",
    "\n",
    "> Доверительный интервал для коэффициента находится в диапазоне от 2.731 до 4.254. Истинное значение коэффициента попадает в интервал.\n",
    "\n",
    "**3. F-статистика, критерии AIC и BIC:**\n",
    "- Значение **F-статистики** равно 6449. Это высокое значение F-статистики говорит о том, что в целом наша модель является статистически значимой. Это подтверждает, что как минимум один из коэффициентов в модели отличен от нуля.\n",
    "- **AIC и BIC**: AIC составляет 6788, BIC равно 6808. Критерии AIC и BIC оценивают качество модели, учитывая баланс между точностью и сложностью модели. Меньшее значение критерия указывает на более предпочтительную модель, в результате чего модель с тремя параметрами оказалась предпочтительнее моделей с двумя параметрами.\n"
   ]
  },
  {
   "cell_type": "markdown",
   "metadata": {},
   "source": []
  }
 ],
 "metadata": {
  "kernelspec": {
   "display_name": ".main-venv",
   "language": "python",
   "name": "python3"
  },
  "language_info": {
   "codemirror_mode": {
    "name": "ipython",
    "version": 3
   },
   "file_extension": ".py",
   "mimetype": "text/x-python",
   "name": "python",
   "nbconvert_exporter": "python",
   "pygments_lexer": "ipython3",
   "version": "3.11.7"
  }
 },
 "nbformat": 4,
 "nbformat_minor": 2
}
