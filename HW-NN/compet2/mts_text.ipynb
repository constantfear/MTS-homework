{
  "cells": [
    {
      "cell_type": "markdown",
      "metadata": {
        "id": "w4OTy0xKuTSL"
      },
      "source": [
        "# MTS ШАД NN text"
      ]
    },
    {
      "cell_type": "markdown",
      "metadata": {
        "id": "nZLhoFH1uhno"
      },
      "source": [
        "## Libs"
      ]
    },
    {
      "cell_type": "code",
      "execution_count": null,
      "metadata": {
        "execution": {
          "iopub.execute_input": "2024-08-19T05:53:02.014740Z",
          "iopub.status.busy": "2024-08-19T05:53:02.014367Z",
          "iopub.status.idle": "2024-08-19T05:53:18.394775Z",
          "shell.execute_reply": "2024-08-19T05:53:18.393688Z",
          "shell.execute_reply.started": "2024-08-19T05:53:02.014710Z"
        },
        "id": "73qhnQx8uQWz",
        "outputId": "ca9bcb1a-b278-45b7-cef1-01fedc79225a",
        "trusted": true
      },
      "outputs": [
        {
          "name": "stdout",
          "output_type": "stream",
          "text": [
            "Collecting peft\n",
            "  Downloading peft-0.12.0-py3-none-any.whl.metadata (13 kB)\n",
            "Requirement already satisfied: numpy>=1.17 in /opt/conda/lib/python3.10/site-packages (from peft) (1.26.4)\n",
            "Requirement already satisfied: packaging>=20.0 in /opt/conda/lib/python3.10/site-packages (from peft) (21.3)\n",
            "Requirement already satisfied: psutil in /opt/conda/lib/python3.10/site-packages (from peft) (5.9.3)\n",
            "Requirement already satisfied: pyyaml in /opt/conda/lib/python3.10/site-packages (from peft) (6.0.1)\n",
            "Requirement already satisfied: torch>=1.13.0 in /opt/conda/lib/python3.10/site-packages (from peft) (2.1.2)\n",
            "Requirement already satisfied: transformers in /opt/conda/lib/python3.10/site-packages (from peft) (4.42.3)\n",
            "Requirement already satisfied: tqdm in /opt/conda/lib/python3.10/site-packages (from peft) (4.66.4)\n",
            "Requirement already satisfied: accelerate>=0.21.0 in /opt/conda/lib/python3.10/site-packages (from peft) (0.32.1)\n",
            "Requirement already satisfied: safetensors in /opt/conda/lib/python3.10/site-packages (from peft) (0.4.3)\n",
            "Requirement already satisfied: huggingface-hub>=0.17.0 in /opt/conda/lib/python3.10/site-packages (from peft) (0.23.4)\n",
            "Requirement already satisfied: filelock in /opt/conda/lib/python3.10/site-packages (from huggingface-hub>=0.17.0->peft) (3.13.1)\n",
            "Requirement already satisfied: fsspec>=2023.5.0 in /opt/conda/lib/python3.10/site-packages (from huggingface-hub>=0.17.0->peft) (2024.5.0)\n",
            "Requirement already satisfied: requests in /opt/conda/lib/python3.10/site-packages (from huggingface-hub>=0.17.0->peft) (2.32.3)\n",
            "Requirement already satisfied: typing-extensions>=3.7.4.3 in /opt/conda/lib/python3.10/site-packages (from huggingface-hub>=0.17.0->peft) (4.9.0)\n",
            "Requirement already satisfied: pyparsing!=3.0.5,>=2.0.2 in /opt/conda/lib/python3.10/site-packages (from packaging>=20.0->peft) (3.1.1)\n",
            "Requirement already satisfied: sympy in /opt/conda/lib/python3.10/site-packages (from torch>=1.13.0->peft) (1.13.0)\n",
            "Requirement already satisfied: networkx in /opt/conda/lib/python3.10/site-packages (from torch>=1.13.0->peft) (3.2.1)\n",
            "Requirement already satisfied: jinja2 in /opt/conda/lib/python3.10/site-packages (from torch>=1.13.0->peft) (3.1.2)\n",
            "Requirement already satisfied: regex!=2019.12.17 in /opt/conda/lib/python3.10/site-packages (from transformers->peft) (2023.12.25)\n",
            "Requirement already satisfied: tokenizers<0.20,>=0.19 in /opt/conda/lib/python3.10/site-packages (from transformers->peft) (0.19.1)\n",
            "Requirement already satisfied: MarkupSafe>=2.0 in /opt/conda/lib/python3.10/site-packages (from jinja2->torch>=1.13.0->peft) (2.1.3)\n",
            "Requirement already satisfied: charset-normalizer<4,>=2 in /opt/conda/lib/python3.10/site-packages (from requests->huggingface-hub>=0.17.0->peft) (3.3.2)\n",
            "Requirement already satisfied: idna<4,>=2.5 in /opt/conda/lib/python3.10/site-packages (from requests->huggingface-hub>=0.17.0->peft) (3.6)\n",
            "Requirement already satisfied: urllib3<3,>=1.21.1 in /opt/conda/lib/python3.10/site-packages (from requests->huggingface-hub>=0.17.0->peft) (1.26.18)\n",
            "Requirement already satisfied: certifi>=2017.4.17 in /opt/conda/lib/python3.10/site-packages (from requests->huggingface-hub>=0.17.0->peft) (2024.7.4)\n",
            "Requirement already satisfied: mpmath<1.4,>=1.1.0 in /opt/conda/lib/python3.10/site-packages (from sympy->torch>=1.13.0->peft) (1.3.0)\n",
            "Downloading peft-0.12.0-py3-none-any.whl (296 kB)\n",
            "\u001b[2K   \u001b[90m━━━━━━━━━━━━━━━━━━━━━━━━━━━━━━━━━━━━━━━━\u001b[0m \u001b[32m296.4/296.4 kB\u001b[0m \u001b[31m1.9 MB/s\u001b[0m eta \u001b[36m0:00:00\u001b[0ma \u001b[36m0:00:01\u001b[0m\n",
            "\u001b[?25hInstalling collected packages: peft\n",
            "Successfully installed peft-0.12.0\n"
          ]
        }
      ],
      "source": [
        "# ! pip install peft"
      ]
    },
    {
      "cell_type": "code",
      "execution_count": null,
      "metadata": {
        "_cell_guid": "b1076dfc-b9ad-4769-8c92-a6c4dae69d19",
        "_uuid": "8f2839f25d086af736a60e9eeb907d3b93b6e0e5",
        "execution": {
          "iopub.execute_input": "2024-08-19T05:53:18.397145Z",
          "iopub.status.busy": "2024-08-19T05:53:18.396848Z",
          "iopub.status.idle": "2024-08-19T05:53:45.546171Z",
          "shell.execute_reply": "2024-08-19T05:53:45.545419Z",
          "shell.execute_reply.started": "2024-08-19T05:53:18.397116Z"
        },
        "id": "8KPyFufguQW2",
        "outputId": "51890562-1a9d-4604-a863-23c17f4fe868",
        "trusted": true
      },
      "outputs": [
        {
          "name": "stdout",
          "output_type": "stream",
          "text": [
            "[nltk_data] Downloading package stopwords to /usr/share/nltk_data...\n",
            "[nltk_data]   Package stopwords is already up-to-date!\n"
          ]
        },
        {
          "name": "stderr",
          "output_type": "stream",
          "text": [
            "2024-08-19 05:53:29.576348: E external/local_xla/xla/stream_executor/cuda/cuda_dnn.cc:9261] Unable to register cuDNN factory: Attempting to register factory for plugin cuDNN when one has already been registered\n",
            "2024-08-19 05:53:29.576482: E external/local_xla/xla/stream_executor/cuda/cuda_fft.cc:607] Unable to register cuFFT factory: Attempting to register factory for plugin cuFFT when one has already been registered\n",
            "2024-08-19 05:53:29.871338: E external/local_xla/xla/stream_executor/cuda/cuda_blas.cc:1515] Unable to register cuBLAS factory: Attempting to register factory for plugin cuBLAS when one has already been registered\n"
          ]
        }
      ],
      "source": [
        "import pandas as pd\n",
        "import numpy as np\n",
        "from sklearn.model_selection import train_test_split\n",
        "\n",
        "import nltk\n",
        "nltk.download('stopwords')\n",
        "from nltk.corpus import stopwords\n",
        "from nltk.stem import SnowballStemmer\n",
        "\n",
        "import torch\n",
        "import torch.nn as nn\n",
        "import torch.optim as optim\n",
        "from torch.utils.data import Dataset, DataLoader\n",
        "\n",
        "from transformers import AutoTokenizer\n",
        "from transformers import AutoModelForSequenceClassification\n",
        "from transformers import RobertaModel, RobertaTokenizer, TrainingArguments, Trainer, DataCollatorWithPadding\n",
        "from peft import LoraConfig, get_peft_model\n",
        "\n",
        "from datasets import Dataset as Dataset_hf\n",
        "from datasets import DatasetDict\n",
        "\n",
        "from sklearn.linear_model import LogisticRegression\n",
        "from sklearn.metrics import accuracy_score, confusion_matrix\n",
        "\n",
        "from tqdm import tqdm\n",
        "\n",
        "import re"
      ]
    },
    {
      "cell_type": "markdown",
      "metadata": {
        "id": "7kuXON0Uu0Pv"
      },
      "source": [
        "## Data"
      ]
    },
    {
      "cell_type": "code",
      "execution_count": null,
      "metadata": {
        "execution": {
          "iopub.execute_input": "2024-08-19T05:53:45.548275Z",
          "iopub.status.busy": "2024-08-19T05:53:45.547532Z",
          "iopub.status.idle": "2024-08-19T05:53:45.927337Z",
          "shell.execute_reply": "2024-08-19T05:53:45.926255Z",
          "shell.execute_reply.started": "2024-08-19T05:53:45.548238Z"
        },
        "id": "yZMueIcxuQW4",
        "trusted": true
      },
      "outputs": [],
      "source": [
        "df_train = pd.read_csv('/kaggle/input/nn-text/train.csv')\n",
        "df_test = pd.read_csv('/kaggle/input/nn-text/test.csv')"
      ]
    },
    {
      "cell_type": "code",
      "execution_count": null,
      "metadata": {
        "execution": {
          "iopub.execute_input": "2024-08-19T05:53:45.930656Z",
          "iopub.status.busy": "2024-08-19T05:53:45.930306Z",
          "iopub.status.idle": "2024-08-19T05:53:45.958620Z",
          "shell.execute_reply": "2024-08-19T05:53:45.957683Z",
          "shell.execute_reply.started": "2024-08-19T05:53:45.930627Z"
        },
        "id": "SC6Q4mZruQW4",
        "trusted": true
      },
      "outputs": [],
      "source": [
        "df_train['Rating'] = df_train['Rating'].apply(lambda x: 0 if x==999 else x)"
      ]
    },
    {
      "cell_type": "markdown",
      "metadata": {
        "id": "T5j0NNIxuQW5"
      },
      "source": [
        "### Text preprocessing"
      ]
    },
    {
      "cell_type": "code",
      "execution_count": null,
      "metadata": {
        "execution": {
          "iopub.execute_input": "2024-08-19T05:53:45.960506Z",
          "iopub.status.busy": "2024-08-19T05:53:45.960055Z",
          "iopub.status.idle": "2024-08-19T05:53:45.965482Z",
          "shell.execute_reply": "2024-08-19T05:53:45.964494Z",
          "shell.execute_reply.started": "2024-08-19T05:53:45.960472Z"
        },
        "id": "XOPuh2l8uQW6",
        "trusted": true
      },
      "outputs": [],
      "source": [
        "from nltk.stem.porter import PorterStemmer"
      ]
    },
    {
      "cell_type": "code",
      "execution_count": null,
      "metadata": {
        "execution": {
          "iopub.execute_input": "2024-08-19T05:53:45.967053Z",
          "iopub.status.busy": "2024-08-19T05:53:45.966617Z",
          "iopub.status.idle": "2024-08-19T05:53:45.987697Z",
          "shell.execute_reply": "2024-08-19T05:53:45.986825Z",
          "shell.execute_reply.started": "2024-08-19T05:53:45.967015Z"
        },
        "id": "Bwk33coxuQW6",
        "trusted": true
      },
      "outputs": [],
      "source": [
        "stop_words = set(stopwords.words('english'))\n",
        "text_cleaning_re = \"@\\S+|https?:\\S+|http?:\\S|[^A-Za-z0-9]+\"\n",
        "stemmer = PorterStemmer()"
      ]
    },
    {
      "cell_type": "code",
      "execution_count": null,
      "metadata": {
        "execution": {
          "iopub.execute_input": "2024-08-19T05:53:45.989583Z",
          "iopub.status.busy": "2024-08-19T05:53:45.988940Z",
          "iopub.status.idle": "2024-08-19T05:53:45.995625Z",
          "shell.execute_reply": "2024-08-19T05:53:45.994601Z",
          "shell.execute_reply.started": "2024-08-19T05:53:45.989548Z"
        },
        "id": "mZxi49T3uQW6",
        "trusted": true
      },
      "outputs": [],
      "source": [
        "def preprocess_text(text):\n",
        "    text = text.lower()\n",
        "    text = re.sub(text_cleaning_re, ' ', text).strip()\n",
        "    text = \" \".join([stemmer.stem(word) for word in text.split() if word not in stop_words])\n",
        "    return text"
      ]
    },
    {
      "cell_type": "code",
      "execution_count": null,
      "metadata": {
        "execution": {
          "iopub.execute_input": "2024-08-19T05:53:45.997024Z",
          "iopub.status.busy": "2024-08-19T05:53:45.996716Z",
          "iopub.status.idle": "2024-08-19T05:54:39.852637Z",
          "shell.execute_reply": "2024-08-19T05:54:39.851550Z",
          "shell.execute_reply.started": "2024-08-19T05:53:45.996987Z"
        },
        "id": "un9d__XKuQW7",
        "trusted": true
      },
      "outputs": [],
      "source": [
        "df_train['text_prepared'] = df_train['Review'].apply(lambda x: preprocess_text(x))"
      ]
    },
    {
      "cell_type": "code",
      "execution_count": null,
      "metadata": {
        "execution": {
          "iopub.execute_input": "2024-08-19T05:54:39.854249Z",
          "iopub.status.busy": "2024-08-19T05:54:39.853865Z",
          "iopub.status.idle": "2024-08-19T05:54:39.860879Z",
          "shell.execute_reply": "2024-08-19T05:54:39.859965Z",
          "shell.execute_reply.started": "2024-08-19T05:54:39.854196Z"
        },
        "id": "HGaRHhREuQW7",
        "trusted": true
      },
      "outputs": [],
      "source": [
        "X = np.array(df_train['text_prepared'])\n",
        "X_roberta = np.array(df_train['Review'])\n",
        "y = np.array(df_train['Rating'])"
      ]
    },
    {
      "cell_type": "code",
      "execution_count": null,
      "metadata": {
        "execution": {
          "iopub.execute_input": "2024-08-19T05:54:39.864965Z",
          "iopub.status.busy": "2024-08-19T05:54:39.864618Z",
          "iopub.status.idle": "2024-08-19T05:54:39.902467Z",
          "shell.execute_reply": "2024-08-19T05:54:39.901655Z",
          "shell.execute_reply.started": "2024-08-19T05:54:39.864931Z"
        },
        "id": "ZcYBvw9uuQW8",
        "outputId": "5cecd058-b03e-4bd8-b20e-e56e29e392e0",
        "trusted": true
      },
      "outputs": [
        {
          "name": "stdout",
          "output_type": "stream",
          "text": [
            "Train Data size: 11474\n",
            "Test Data size 2869\n"
          ]
        }
      ],
      "source": [
        "X_train, X_test, y_train, y_test = train_test_split(X, y,\n",
        "                                                    stratify=y,\n",
        "                                                    test_size=0.2)\n",
        "\n",
        "X_roberta_train, X_roberta_test, y_roberta_train, y_roberta_test = train_test_split(X_roberta, y,\n",
        "                                                    stratify=y,\n",
        "                                                    test_size=0.2)\n",
        "\n",
        "print(\"Train Data size:\", len(X_train))\n",
        "print(\"Test Data size\", len(X_test))"
      ]
    },
    {
      "cell_type": "markdown",
      "metadata": {
        "id": "meFCVo-AuQW8"
      },
      "source": [
        "### Prepare for submission"
      ]
    },
    {
      "cell_type": "code",
      "execution_count": null,
      "metadata": {
        "execution": {
          "iopub.execute_input": "2024-08-19T05:54:39.903841Z",
          "iopub.status.busy": "2024-08-19T05:54:39.903546Z",
          "iopub.status.idle": "2024-08-19T05:55:02.879050Z",
          "shell.execute_reply": "2024-08-19T05:55:02.878136Z",
          "shell.execute_reply.started": "2024-08-19T05:54:39.903816Z"
        },
        "id": "oQ8fgTf5uQW8",
        "trusted": true
      },
      "outputs": [],
      "source": [
        "df_test['text_prepared'] = df_test['Review'].apply(lambda x: preprocess_text(x))"
      ]
    },
    {
      "cell_type": "code",
      "execution_count": null,
      "metadata": {
        "execution": {
          "iopub.execute_input": "2024-08-19T05:55:02.880679Z",
          "iopub.status.busy": "2024-08-19T05:55:02.880347Z",
          "iopub.status.idle": "2024-08-19T05:55:02.885780Z",
          "shell.execute_reply": "2024-08-19T05:55:02.884830Z",
          "shell.execute_reply.started": "2024-08-19T05:55:02.880652Z"
        },
        "id": "Vtr2gki3uQW8",
        "trusted": true
      },
      "outputs": [],
      "source": [
        "test_data = np.array(df_test['text_prepared'])"
      ]
    },
    {
      "cell_type": "code",
      "execution_count": null,
      "metadata": {
        "execution": {
          "iopub.execute_input": "2024-08-19T05:55:02.887374Z",
          "iopub.status.busy": "2024-08-19T05:55:02.886966Z",
          "iopub.status.idle": "2024-08-19T05:55:02.901976Z",
          "shell.execute_reply": "2024-08-19T05:55:02.901231Z",
          "shell.execute_reply.started": "2024-08-19T05:55:02.887334Z"
        },
        "id": "uxIN4bWRuQW8",
        "trusted": true
      },
      "outputs": [],
      "source": [
        "test_data_roberta = np.array(df_test['Review'])"
      ]
    },
    {
      "cell_type": "code",
      "execution_count": null,
      "metadata": {
        "execution": {
          "iopub.execute_input": "2024-08-19T05:55:02.903759Z",
          "iopub.status.busy": "2024-08-19T05:55:02.903338Z",
          "iopub.status.idle": "2024-08-19T05:55:02.917883Z",
          "shell.execute_reply": "2024-08-19T05:55:02.917104Z",
          "shell.execute_reply.started": "2024-08-19T05:55:02.903707Z"
        },
        "id": "s1ZCX4F3uQW8",
        "trusted": true
      },
      "outputs": [],
      "source": [
        "def predict(model, dataloader_test):\n",
        "    logits = []\n",
        "    model.eval()\n",
        "    with torch.no_grad():\n",
        "        for inputs, _ in tqdm(dataloader_test):\n",
        "            inputs = inputs.to(device)\n",
        "            outputs = model(inputs, torch.sum(inputs != PAD_IDX, dim=1).cpu()).cpu()\n",
        "            logits.append(outputs)\n",
        "    probs = nn.functional.softmax(torch.cat(logits), dim=-1).numpy()\n",
        "    return probs"
      ]
    },
    {
      "cell_type": "code",
      "execution_count": null,
      "metadata": {
        "execution": {
          "iopub.execute_input": "2024-08-19T05:55:02.919413Z",
          "iopub.status.busy": "2024-08-19T05:55:02.919102Z",
          "iopub.status.idle": "2024-08-19T05:55:02.931963Z",
          "shell.execute_reply": "2024-08-19T05:55:02.931061Z",
          "shell.execute_reply.started": "2024-08-19T05:55:02.919387Z"
        },
        "id": "7-yOmWlCuQW8",
        "trusted": true
      },
      "outputs": [],
      "source": [
        "def predict_to_submission(model, name, dataloader_test, is_torch=True):\n",
        "    if is_torch:\n",
        "        probs = predict(model, dataloader_test)\n",
        "        preds = np.argmax(probs, axis=1)\n",
        "    else:\n",
        "        preds = model.predict(dataloader_test)\n",
        "    submission = pd.read_csv('/kaggle/input/nn-text/sample_submission.csv')\n",
        "    submission['Rating'] = preds\n",
        "    submission.to_csv('./'+name+'.csv', index=False)"
      ]
    },
    {
      "cell_type": "markdown",
      "metadata": {
        "id": "MiuogK-AuQW9"
      },
      "source": [
        "## Modeling"
      ]
    },
    {
      "cell_type": "markdown",
      "metadata": {
        "id": "9R-bSfsTuQW9"
      },
      "source": [
        "### LogReg with TF-IDF"
      ]
    },
    {
      "cell_type": "code",
      "execution_count": null,
      "metadata": {
        "execution": {
          "iopub.execute_input": "2024-08-17T09:59:54.024298Z",
          "iopub.status.busy": "2024-08-17T09:59:54.024032Z",
          "iopub.status.idle": "2024-08-17T09:59:54.033779Z",
          "shell.execute_reply": "2024-08-17T09:59:54.033029Z",
          "shell.execute_reply.started": "2024-08-17T09:59:54.024260Z"
        },
        "id": "uaG6w9JIuQW9",
        "trusted": true
      },
      "outputs": [],
      "source": [
        "from sklearn.feature_extraction.text import TfidfVectorizer"
      ]
    },
    {
      "cell_type": "code",
      "execution_count": null,
      "metadata": {
        "execution": {
          "iopub.execute_input": "2024-08-17T09:59:54.035063Z",
          "iopub.status.busy": "2024-08-17T09:59:54.034772Z",
          "iopub.status.idle": "2024-08-17T09:59:55.694363Z",
          "shell.execute_reply": "2024-08-17T09:59:55.693491Z",
          "shell.execute_reply.started": "2024-08-17T09:59:54.035033Z"
        },
        "id": "HQgVbY-QuQW9",
        "trusted": true
      },
      "outputs": [],
      "source": [
        "vectorizer_tfidf = TfidfVectorizer()\n",
        "X_train_tfidf = vectorizer_tfidf.fit_transform(X_train)\n",
        "X_text_tfidf = vectorizer_tfidf.transform(X_test)"
      ]
    },
    {
      "cell_type": "code",
      "execution_count": null,
      "metadata": {
        "execution": {
          "iopub.execute_input": "2024-08-17T09:59:55.695861Z",
          "iopub.status.busy": "2024-08-17T09:59:55.695559Z",
          "iopub.status.idle": "2024-08-17T10:00:15.319178Z",
          "shell.execute_reply": "2024-08-17T10:00:15.318036Z",
          "shell.execute_reply.started": "2024-08-17T09:59:55.695835Z"
        },
        "id": "ZV1FMOmPuQW9",
        "outputId": "5b586e79-559c-416c-f50a-c51e2971c3bc",
        "trusted": true
      },
      "outputs": [
        {
          "data": {
            "text/html": [
              "<style>#sk-container-id-1 {color: black;background-color: white;}#sk-container-id-1 pre{padding: 0;}#sk-container-id-1 div.sk-toggleable {background-color: white;}#sk-container-id-1 label.sk-toggleable__label {cursor: pointer;display: block;width: 100%;margin-bottom: 0;padding: 0.3em;box-sizing: border-box;text-align: center;}#sk-container-id-1 label.sk-toggleable__label-arrow:before {content: \"▸\";float: left;margin-right: 0.25em;color: #696969;}#sk-container-id-1 label.sk-toggleable__label-arrow:hover:before {color: black;}#sk-container-id-1 div.sk-estimator:hover label.sk-toggleable__label-arrow:before {color: black;}#sk-container-id-1 div.sk-toggleable__content {max-height: 0;max-width: 0;overflow: hidden;text-align: left;background-color: #f0f8ff;}#sk-container-id-1 div.sk-toggleable__content pre {margin: 0.2em;color: black;border-radius: 0.25em;background-color: #f0f8ff;}#sk-container-id-1 input.sk-toggleable__control:checked~div.sk-toggleable__content {max-height: 200px;max-width: 100%;overflow: auto;}#sk-container-id-1 input.sk-toggleable__control:checked~label.sk-toggleable__label-arrow:before {content: \"▾\";}#sk-container-id-1 div.sk-estimator input.sk-toggleable__control:checked~label.sk-toggleable__label {background-color: #d4ebff;}#sk-container-id-1 div.sk-label input.sk-toggleable__control:checked~label.sk-toggleable__label {background-color: #d4ebff;}#sk-container-id-1 input.sk-hidden--visually {border: 0;clip: rect(1px 1px 1px 1px);clip: rect(1px, 1px, 1px, 1px);height: 1px;margin: -1px;overflow: hidden;padding: 0;position: absolute;width: 1px;}#sk-container-id-1 div.sk-estimator {font-family: monospace;background-color: #f0f8ff;border: 1px dotted black;border-radius: 0.25em;box-sizing: border-box;margin-bottom: 0.5em;}#sk-container-id-1 div.sk-estimator:hover {background-color: #d4ebff;}#sk-container-id-1 div.sk-parallel-item::after {content: \"\";width: 100%;border-bottom: 1px solid gray;flex-grow: 1;}#sk-container-id-1 div.sk-label:hover label.sk-toggleable__label {background-color: #d4ebff;}#sk-container-id-1 div.sk-serial::before {content: \"\";position: absolute;border-left: 1px solid gray;box-sizing: border-box;top: 0;bottom: 0;left: 50%;z-index: 0;}#sk-container-id-1 div.sk-serial {display: flex;flex-direction: column;align-items: center;background-color: white;padding-right: 0.2em;padding-left: 0.2em;position: relative;}#sk-container-id-1 div.sk-item {position: relative;z-index: 1;}#sk-container-id-1 div.sk-parallel {display: flex;align-items: stretch;justify-content: center;background-color: white;position: relative;}#sk-container-id-1 div.sk-item::before, #sk-container-id-1 div.sk-parallel-item::before {content: \"\";position: absolute;border-left: 1px solid gray;box-sizing: border-box;top: 0;bottom: 0;left: 50%;z-index: -1;}#sk-container-id-1 div.sk-parallel-item {display: flex;flex-direction: column;z-index: 1;position: relative;background-color: white;}#sk-container-id-1 div.sk-parallel-item:first-child::after {align-self: flex-end;width: 50%;}#sk-container-id-1 div.sk-parallel-item:last-child::after {align-self: flex-start;width: 50%;}#sk-container-id-1 div.sk-parallel-item:only-child::after {width: 0;}#sk-container-id-1 div.sk-dashed-wrapped {border: 1px dashed gray;margin: 0 0.4em 0.5em 0.4em;box-sizing: border-box;padding-bottom: 0.4em;background-color: white;}#sk-container-id-1 div.sk-label label {font-family: monospace;font-weight: bold;display: inline-block;line-height: 1.2em;}#sk-container-id-1 div.sk-label-container {text-align: center;}#sk-container-id-1 div.sk-container {/* jupyter's `normalize.less` sets `[hidden] { display: none; }` but bootstrap.min.css set `[hidden] { display: none !important; }` so we also need the `!important` here to be able to override the default hidden behavior on the sphinx rendered scikit-learn.org. See: https://github.com/scikit-learn/scikit-learn/issues/21755 */display: inline-block !important;position: relative;}#sk-container-id-1 div.sk-text-repr-fallback {display: none;}</style><div id=\"sk-container-id-1\" class=\"sk-top-container\"><div class=\"sk-text-repr-fallback\"><pre>LogisticRegression(max_iter=1000)</pre><b>In a Jupyter environment, please rerun this cell to show the HTML representation or trust the notebook. <br />On GitHub, the HTML representation is unable to render, please try loading this page with nbviewer.org.</b></div><div class=\"sk-container\" hidden><div class=\"sk-item\"><div class=\"sk-estimator sk-toggleable\"><input class=\"sk-toggleable__control sk-hidden--visually\" id=\"sk-estimator-id-1\" type=\"checkbox\" checked><label for=\"sk-estimator-id-1\" class=\"sk-toggleable__label sk-toggleable__label-arrow\">LogisticRegression</label><div class=\"sk-toggleable__content\"><pre>LogisticRegression(max_iter=1000)</pre></div></div></div></div></div>"
            ],
            "text/plain": [
              "LogisticRegression(max_iter=1000)"
            ]
          },
          "execution_count": 16,
          "metadata": {},
          "output_type": "execute_result"
        }
      ],
      "source": [
        "model_tfidf = LogisticRegression(solver='lbfgs', max_iter=1000)\n",
        "model_tfidf.fit(X_train_tfidf, y_train)"
      ]
    },
    {
      "cell_type": "code",
      "execution_count": null,
      "metadata": {
        "execution": {
          "iopub.execute_input": "2024-08-17T10:00:15.322759Z",
          "iopub.status.busy": "2024-08-17T10:00:15.321205Z",
          "iopub.status.idle": "2024-08-17T10:00:15.348000Z",
          "shell.execute_reply": "2024-08-17T10:00:15.347032Z",
          "shell.execute_reply.started": "2024-08-17T10:00:15.322722Z"
        },
        "id": "49qnxh2auQW9",
        "outputId": "511d12de-51d4-42fa-c5ec-9d98188bb77a",
        "trusted": true
      },
      "outputs": [
        {
          "name": "stdout",
          "output_type": "stream",
          "text": [
            "Accuracy: 0.6117113976995469\n",
            "Confusion Matrix:\n",
            " [[   0    0    0    0    0    1]\n",
            " [   0  132   40    6    5   16]\n",
            " [   0   38   84   35   58   36]\n",
            " [   0   11   25   56  158   56]\n",
            " [   0    3   10   23  430  379]\n",
            " [   0    0    2    5  207 1053]]\n"
          ]
        }
      ],
      "source": [
        "y_pred = model_tfidf.predict(X_text_tfidf)\n",
        "print(\"Accuracy:\", accuracy_score(y_test, y_pred))\n",
        "print(\"Confusion Matrix:\\n\", confusion_matrix(y_test, y_pred))"
      ]
    },
    {
      "cell_type": "code",
      "execution_count": null,
      "metadata": {
        "execution": {
          "iopub.execute_input": "2024-08-17T10:00:15.350608Z",
          "iopub.status.busy": "2024-08-17T10:00:15.349289Z",
          "iopub.status.idle": "2024-08-17T10:00:16.063931Z",
          "shell.execute_reply": "2024-08-17T10:00:16.063189Z",
          "shell.execute_reply.started": "2024-08-17T10:00:15.350577Z"
        },
        "id": "tdPZ30CGuQW9",
        "trusted": true
      },
      "outputs": [],
      "source": [
        "predict_to_submission(model_tfidf, 'log_reg_and_tfidf', vectorizer_tfidf.transform(test_data), is_torch=False)"
      ]
    },
    {
      "cell_type": "markdown",
      "metadata": {
        "id": "mvcO9c_euQW9"
      },
      "source": [
        "![image.png](data:image/png;base64,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)"
      ]
    },
    {
      "cell_type": "markdown",
      "metadata": {
        "id": "h029zZmuuQW-"
      },
      "source": [
        "### LSTM"
      ]
    },
    {
      "cell_type": "code",
      "execution_count": null,
      "metadata": {
        "execution": {
          "iopub.execute_input": "2024-08-17T10:00:16.065213Z",
          "iopub.status.busy": "2024-08-17T10:00:16.064952Z",
          "iopub.status.idle": "2024-08-17T10:00:16.069435Z",
          "shell.execute_reply": "2024-08-17T10:00:16.068429Z",
          "shell.execute_reply.started": "2024-08-17T10:00:16.065189Z"
        },
        "id": "euSgyBKEuQW-",
        "trusted": true
      },
      "outputs": [],
      "source": [
        "from collections import Counter"
      ]
    },
    {
      "cell_type": "code",
      "execution_count": null,
      "metadata": {
        "execution": {
          "iopub.execute_input": "2024-08-17T10:00:16.070852Z",
          "iopub.status.busy": "2024-08-17T10:00:16.070593Z",
          "iopub.status.idle": "2024-08-17T10:00:16.082161Z",
          "shell.execute_reply": "2024-08-17T10:00:16.081382Z",
          "shell.execute_reply.started": "2024-08-17T10:00:16.070830Z"
        },
        "id": "Il43r0WjuQW-",
        "trusted": true
      },
      "outputs": [],
      "source": [
        "class MyTokenizer():\n",
        "    def __init__(self, max_words):\n",
        "        self.max_words = max_words\n",
        "\n",
        "    def fit(self, texts):\n",
        "        words = Counter()\n",
        "        for text in texts:\n",
        "            for word in text.split():\n",
        "                words[word] += 1\n",
        "        top_words = sorted(words.items(), key=lambda item: item[1], reverse=True)[:self.max_words]\n",
        "\n",
        "        self.vocab = {word[0]: i+1 for i, word in enumerate(top_words)}\n",
        "        self.vocab['<PAD>'] = 0\n",
        "        self.vocab['<UNK>'] = self.max_words+1\n",
        "        self.decode_vocab = {v: k for k, v in self.vocab.items()}\n",
        "\n",
        "    def token_to_id(self, token):\n",
        "        if token in self.vocab:\n",
        "            return self.vocab[token]\n",
        "        else:\n",
        "            return self.vocab['<UNK>']\n",
        "\n",
        "    def encode(self, text):\n",
        "        arr = []\n",
        "        for word in text.split():\n",
        "            if word in self.vocab:\n",
        "                arr.append(self.vocab[word])\n",
        "            else:\n",
        "                arr.append(self.vocab['<UNK>'])\n",
        "        return arr\n",
        "\n",
        "    def decode(self, sequence):\n",
        "        arr = []\n",
        "        for token in sequence:\n",
        "            if token in self.decode_vocab:\n",
        "                arr.append(self.decode_vocab[token])\n",
        "            else:\n",
        "                arr.append('<UNK>')\n",
        "        return ' '.join(arr)\n"
      ]
    },
    {
      "cell_type": "code",
      "execution_count": null,
      "metadata": {
        "execution": {
          "iopub.execute_input": "2024-08-17T10:39:54.288023Z",
          "iopub.status.busy": "2024-08-17T10:39:54.287404Z",
          "iopub.status.idle": "2024-08-17T10:39:54.292178Z",
          "shell.execute_reply": "2024-08-17T10:39:54.291198Z",
          "shell.execute_reply.started": "2024-08-17T10:39:54.287989Z"
        },
        "id": "urEEkYoeuQW-",
        "trusted": true
      },
      "outputs": [],
      "source": [
        "tokenizer = MyTokenizer(8000)"
      ]
    },
    {
      "cell_type": "code",
      "execution_count": null,
      "metadata": {
        "execution": {
          "iopub.execute_input": "2024-08-17T10:39:54.539760Z",
          "iopub.status.busy": "2024-08-17T10:39:54.539153Z",
          "iopub.status.idle": "2024-08-17T10:39:55.016102Z",
          "shell.execute_reply": "2024-08-17T10:39:55.015307Z",
          "shell.execute_reply.started": "2024-08-17T10:39:54.539733Z"
        },
        "id": "fCcYtMAYuQW-",
        "trusted": true
      },
      "outputs": [],
      "source": [
        "tokenizer.fit(X_train)"
      ]
    },
    {
      "cell_type": "code",
      "execution_count": null,
      "metadata": {
        "execution": {
          "iopub.execute_input": "2024-08-17T10:39:55.018058Z",
          "iopub.status.busy": "2024-08-17T10:39:55.017463Z",
          "iopub.status.idle": "2024-08-17T10:39:55.025017Z",
          "shell.execute_reply": "2024-08-17T10:39:55.023984Z",
          "shell.execute_reply.started": "2024-08-17T10:39:55.018020Z"
        },
        "id": "v0tVhqcbuQW-",
        "outputId": "79e06f7f-20c7-4793-d648-2428e86e45f8",
        "trusted": true
      },
      "outputs": [
        {
          "data": {
            "text/plain": [
              "'fluentli brighten nice quiet vacat return week long stay excel overal nice imho vacat immedi say return nice laid think saw book read vacat travel 2 time year 25 year opinion aspect resort faciliit clean maintain restaur good good food wait 10 minut group 8 split 2 group eat french restaur use tabl prepar spend 2 hour dinner realli time bring cours pool nice especi larg pool day lot debri float pool pretti nasti reason skim pool previou night cascad pool desert week peopl sit read book bar conveni locat resort good varieti alcohol includ bud bud light mgd cours president actual good tequila drinker like better varieti cuervo premium tequila best show resort show quit entertain wast time go noth even good fun night outroom larg comfort power issu virtual day power daili inconveni day wash dinner resort probabl 1 2 capac stay includ 30 40 peopl new york came srping break come distract'"
            ]
          },
          "execution_count": 84,
          "metadata": {},
          "output_type": "execute_result"
        }
      ],
      "source": [
        "X_train[3]"
      ]
    },
    {
      "cell_type": "code",
      "execution_count": null,
      "metadata": {
        "execution": {
          "iopub.execute_input": "2024-08-17T10:39:55.026384Z",
          "iopub.status.busy": "2024-08-17T10:39:55.026075Z",
          "iopub.status.idle": "2024-08-17T10:39:55.036155Z",
          "shell.execute_reply": "2024-08-17T10:39:55.035179Z",
          "shell.execute_reply.started": "2024-08-17T10:39:55.026359Z"
        },
        "id": "kdlCMAgAuQW-",
        "outputId": "79788ad6-fd22-4b70-b740-9ee6f03f6875",
        "trusted": true
      },
      "outputs": [
        {
          "data": {
            "text/plain": [
              "'<UNK> <UNK> 5 star servic hotel wow vacat new york palac amaz let tell servic servic amaz right need help maid nicer nice desk gave rate reason servic superb let tell room stay 36 floor overlook cathedr saint patrick die room neat cleaner bed confort unlik bed slept room servic door give ask minut mayb second <UNK> spectacular room permiss rest eat breakfast lunch dinner appet desert <UNK> loung worth abl eat loung overlook cathedr <UNK> luxuri room execut loung spa <UNK> room amaz took nice refresh sauna shower robe slipper 18 older use excercis room work tv hook <UNK> equip enjoy nice movi moment watch movi tv abl overlook cathedr better view room execut loung well that got say hotel worth went new york citi 2 time trip stay trump tower plaza 5 star servic hotel <UNK>'"
            ]
          },
          "execution_count": 85,
          "metadata": {},
          "output_type": "execute_result"
        }
      ],
      "source": [
        "tokenizer.decode(tokenizer.encode('sharaton flightw 5 star servic hotel wow vacat new york palac amaz let tell servic servic amaz right need help maid nicer nice desk gave rate reason servic superb let tell room stay 36 floor overlook cathedr saint patrick die room neat cleaner bed confort unlik bed slept room servic door give ask minut mayb second beyound spectacular room permiss rest eat breakfast lunch dinner appet desert exectut loung worth abl eat loung overlook cathedr beyound luxuri room execut loung spa excersic room amaz took nice refresh sauna shower robe slipper 18 older use excercis room work tv hook tredmeel equip enjoy nice movi moment watch movi tv abl overlook cathedr better view room execut loung well that got say hotel worth went new york citi 2 time trip stay trump tower plaza 5 star servic hotel oranienburg'))"
      ]
    },
    {
      "cell_type": "code",
      "execution_count": null,
      "metadata": {
        "execution": {
          "iopub.execute_input": "2024-08-17T10:39:55.037953Z",
          "iopub.status.busy": "2024-08-17T10:39:55.037660Z",
          "iopub.status.idle": "2024-08-17T10:39:55.050223Z",
          "shell.execute_reply": "2024-08-17T10:39:55.049356Z",
          "shell.execute_reply.started": "2024-08-17T10:39:55.037929Z"
        },
        "id": "5mZ-DLH2uQW_",
        "trusted": true
      },
      "outputs": [],
      "source": [
        "class TextDataset(Dataset):\n",
        "    def __init__(self, texts, labels, tokenizer, max_len=150):\n",
        "        self.texts = texts\n",
        "        self.labels = labels\n",
        "        self.tokenizer = tokenizer\n",
        "        self.max_len = max_len\n",
        "\n",
        "    def __len__(self):\n",
        "        return len(self.texts)\n",
        "\n",
        "    def __getitem__(self, idx):\n",
        "        text = self.texts[idx]\n",
        "        label = self.labels[idx]\n",
        "        encoded_text = self.tokenizer.encode(text)\n",
        "        if len(encoded_text) > self.max_len:\n",
        "            encoded_text = encoded_text[:self.max_len]\n",
        "        else:\n",
        "            encoded_text += [self.tokenizer.token_to_id(\"<PAD>\")] * (self.max_len - len(encoded_text))\n",
        "        return torch.tensor(encoded_text), torch.tensor(label)"
      ]
    },
    {
      "cell_type": "code",
      "execution_count": null,
      "metadata": {
        "execution": {
          "iopub.execute_input": "2024-08-17T10:39:55.176810Z",
          "iopub.status.busy": "2024-08-17T10:39:55.176476Z",
          "iopub.status.idle": "2024-08-17T10:39:55.181521Z",
          "shell.execute_reply": "2024-08-17T10:39:55.180658Z",
          "shell.execute_reply.started": "2024-08-17T10:39:55.176786Z"
        },
        "id": "y3zMJ8QPuQW_",
        "trusted": true
      },
      "outputs": [],
      "source": [
        "train_dataset = TextDataset(X_train, y_train, tokenizer)\n",
        "train_dataloader = DataLoader(train_dataset, batch_size=16, shuffle=True)\n",
        "\n",
        "test_dataset = TextDataset(X_test, y_test, tokenizer)\n",
        "test_dataloader = DataLoader(test_dataset, batch_size=16, shuffle=True)"
      ]
    },
    {
      "cell_type": "code",
      "execution_count": null,
      "metadata": {
        "execution": {
          "iopub.execute_input": "2024-08-17T10:39:55.968604Z",
          "iopub.status.busy": "2024-08-17T10:39:55.967810Z",
          "iopub.status.idle": "2024-08-17T10:39:55.976462Z",
          "shell.execute_reply": "2024-08-17T10:39:55.975498Z",
          "shell.execute_reply.started": "2024-08-17T10:39:55.968574Z"
        },
        "id": "vx6cZfspuQW_",
        "trusted": true
      },
      "outputs": [],
      "source": [
        "class TextLSTM(nn.Module):\n",
        "    def __init__(self, vocab_size, embedding_dim, hidden_dim, output_dim, n_layers, pad_idx):\n",
        "        super().__init__()\n",
        "        self.embedding = nn.Embedding(vocab_size, embedding_dim, padding_idx=pad_idx)\n",
        "        self.lstm = nn.LSTM(embedding_dim, hidden_dim, n_layers, bidirectional=True, batch_first=True)\n",
        "        self.fc = nn.Sequential(\n",
        "            nn.Dropout(0.5),\n",
        "            nn.Linear(hidden_dim, 1024),\n",
        "            nn.ReLU(),\n",
        "            nn.Linear(1024, output_dim)\n",
        ")\n",
        "\n",
        "    def forward(self, text, text_lengths):\n",
        "        embedded = self.embedding(text)\n",
        "        packed_embedded = nn.utils.rnn.pack_padded_sequence(embedded, text_lengths, batch_first=True, enforce_sorted=False)\n",
        "        packed_output, (hidden, cell) = self.lstm(packed_embedded)\n",
        "        output, output_lengths = nn.utils.rnn.pad_packed_sequence(packed_output, batch_first=True)\n",
        "        hidden = hidden[-1,:,:]\n",
        "        return self.fc(hidden)"
      ]
    },
    {
      "cell_type": "code",
      "execution_count": null,
      "metadata": {
        "execution": {
          "iopub.execute_input": "2024-08-17T10:46:22.102694Z",
          "iopub.status.busy": "2024-08-17T10:46:22.101981Z",
          "iopub.status.idle": "2024-08-17T10:46:22.137060Z",
          "shell.execute_reply": "2024-08-17T10:46:22.136384Z",
          "shell.execute_reply.started": "2024-08-17T10:46:22.102662Z"
        },
        "id": "ySjUvLkZuQW_",
        "trusted": true
      },
      "outputs": [],
      "source": [
        "INPUT_DIM = len(tokenizer.vocab)\n",
        "EMBEDDING_DIM = 100\n",
        "HIDDEN_DIM = 256\n",
        "OUTPUT_DIM = 6\n",
        "N_LAYERS = 2\n",
        "PAD_IDX = tokenizer.token_to_id(\"<pad>\")\n",
        "\n",
        "model_lstm = TextLSTM(INPUT_DIM, EMBEDDING_DIM, HIDDEN_DIM, OUTPUT_DIM, N_LAYERS, PAD_IDX)"
      ]
    },
    {
      "cell_type": "code",
      "execution_count": null,
      "metadata": {
        "execution": {
          "iopub.execute_input": "2024-08-17T10:46:22.422352Z",
          "iopub.status.busy": "2024-08-17T10:46:22.422051Z",
          "iopub.status.idle": "2024-08-17T10:46:22.428872Z",
          "shell.execute_reply": "2024-08-17T10:46:22.427823Z",
          "shell.execute_reply.started": "2024-08-17T10:46:22.422327Z"
        },
        "id": "ltkXcek9uQW_",
        "trusted": true
      },
      "outputs": [],
      "source": [
        "def train_model(model, dataloader, optimizer, criterion, device):\n",
        "    model.train()\n",
        "    epoch_loss = 0\n",
        "    for batch in tqdm(dataloader):\n",
        "        texts, labels = batch\n",
        "        texts, labels = texts.to(device), labels.to(device)\n",
        "        optimizer.zero_grad()\n",
        "        predictions = model(texts, torch.sum(texts != PAD_IDX, dim=1).cpu())\n",
        "        loss = criterion(predictions, labels)\n",
        "        loss.backward()\n",
        "        optimizer.step()\n",
        "        epoch_loss += loss.item()\n",
        "    return epoch_loss / len(dataloader)"
      ]
    },
    {
      "cell_type": "code",
      "execution_count": null,
      "metadata": {
        "execution": {
          "iopub.execute_input": "2024-08-17T10:46:22.577378Z",
          "iopub.status.busy": "2024-08-17T10:46:22.577063Z",
          "iopub.status.idle": "2024-08-17T10:46:22.584477Z",
          "shell.execute_reply": "2024-08-17T10:46:22.583596Z",
          "shell.execute_reply.started": "2024-08-17T10:46:22.577343Z"
        },
        "id": "NjjY7vWQuQW_",
        "trusted": true
      },
      "outputs": [],
      "source": [
        "def evaluate_model(model, dataloader, criterion, device):\n",
        "    model.eval()\n",
        "    epoch_loss = 0\n",
        "    correct = 0\n",
        "    total = 0\n",
        "    with torch.no_grad():\n",
        "        for batch in tqdm(dataloader):\n",
        "            texts, labels = batch\n",
        "            texts, labels = texts.to(device), labels.to(device)\n",
        "            predictions = model(texts, torch.sum(texts != PAD_IDX, dim=1).cpu())\n",
        "            loss = criterion(predictions, labels)\n",
        "            epoch_loss += loss.item()\n",
        "            predicted = torch.argmax(predictions.squeeze(1), -1)\n",
        "            correct += (predicted == labels).sum().item()\n",
        "            total += labels.size(0)\n",
        "    return epoch_loss / len(dataloader), correct / total"
      ]
    },
    {
      "cell_type": "code",
      "execution_count": null,
      "metadata": {
        "execution": {
          "iopub.execute_input": "2024-08-19T05:55:02.933543Z",
          "iopub.status.busy": "2024-08-19T05:55:02.933171Z",
          "iopub.status.idle": "2024-08-19T05:55:03.003051Z",
          "shell.execute_reply": "2024-08-19T05:55:03.002252Z",
          "shell.execute_reply.started": "2024-08-19T05:55:02.933514Z"
        },
        "id": "mRLmZ9DZuQW_",
        "outputId": "af502180-58de-4e51-884d-ccaad649de02",
        "trusted": true
      },
      "outputs": [
        {
          "data": {
            "text/plain": [
              "device(type='cuda')"
            ]
          },
          "execution_count": 18,
          "metadata": {},
          "output_type": "execute_result"
        }
      ],
      "source": [
        "device = torch.device('cuda' if torch.cuda.is_available() else 'cpu')\n",
        "device"
      ]
    },
    {
      "cell_type": "code",
      "execution_count": null,
      "metadata": {
        "execution": {
          "iopub.execute_input": "2024-08-17T10:46:24.394420Z",
          "iopub.status.busy": "2024-08-17T10:46:24.393822Z",
          "iopub.status.idle": "2024-08-17T10:46:24.408647Z",
          "shell.execute_reply": "2024-08-17T10:46:24.407861Z",
          "shell.execute_reply.started": "2024-08-17T10:46:24.394388Z"
        },
        "id": "Pi5eFb6luQXD",
        "trusted": true
      },
      "outputs": [],
      "source": [
        "optimizer = optim.Adam(model_lstm.parameters(), lr=1e-3)\n",
        "criterion = nn.CrossEntropyLoss()\n",
        "model_lstm = model_lstm.to(device)\n",
        "criterion = criterion.to(device)"
      ]
    },
    {
      "cell_type": "code",
      "execution_count": null,
      "metadata": {
        "execution": {
          "iopub.execute_input": "2024-08-17T10:46:24.855432Z",
          "iopub.status.busy": "2024-08-17T10:46:24.854900Z",
          "iopub.status.idle": "2024-08-17T10:47:56.393820Z",
          "shell.execute_reply": "2024-08-17T10:47:56.392938Z",
          "shell.execute_reply.started": "2024-08-17T10:46:24.855405Z"
        },
        "id": "wIFObzaQuQXD",
        "outputId": "a89db807-104c-4ecd-91f2-756dedc03ad7",
        "trusted": true
      },
      "outputs": [
        {
          "name": "stderr",
          "output_type": "stream",
          "text": [
            "100%|██████████| 718/718 [00:16<00:00, 43.80it/s]\n"
          ]
        },
        {
          "name": "stdout",
          "output_type": "stream",
          "text": [
            "Epoch 1/5, Training Loss: 1.1821\n"
          ]
        },
        {
          "name": "stderr",
          "output_type": "stream",
          "text": [
            "100%|██████████| 180/180 [00:01<00:00, 101.36it/s]\n"
          ]
        },
        {
          "name": "stdout",
          "output_type": "stream",
          "text": [
            "Test Loss: 1.0935, Test Accuracy: 0.5539\n"
          ]
        },
        {
          "name": "stderr",
          "output_type": "stream",
          "text": [
            "100%|██████████| 718/718 [00:16<00:00, 42.89it/s]\n"
          ]
        },
        {
          "name": "stdout",
          "output_type": "stream",
          "text": [
            "Epoch 2/5, Training Loss: 1.0285\n"
          ]
        },
        {
          "name": "stderr",
          "output_type": "stream",
          "text": [
            "100%|██████████| 180/180 [00:01<00:00, 100.96it/s]\n"
          ]
        },
        {
          "name": "stdout",
          "output_type": "stream",
          "text": [
            "Test Loss: 0.9677, Test Accuracy: 0.5845\n"
          ]
        },
        {
          "name": "stderr",
          "output_type": "stream",
          "text": [
            "100%|██████████| 718/718 [00:16<00:00, 43.00it/s]\n"
          ]
        },
        {
          "name": "stdout",
          "output_type": "stream",
          "text": [
            "Epoch 3/5, Training Loss: 0.8582\n"
          ]
        },
        {
          "name": "stderr",
          "output_type": "stream",
          "text": [
            "100%|██████████| 180/180 [00:01<00:00, 102.24it/s]\n"
          ]
        },
        {
          "name": "stdout",
          "output_type": "stream",
          "text": [
            "Test Loss: 0.9525, Test Accuracy: 0.5932\n"
          ]
        },
        {
          "name": "stderr",
          "output_type": "stream",
          "text": [
            "100%|██████████| 718/718 [00:16<00:00, 43.92it/s]\n"
          ]
        },
        {
          "name": "stdout",
          "output_type": "stream",
          "text": [
            "Epoch 4/5, Training Loss: 0.7223\n"
          ]
        },
        {
          "name": "stderr",
          "output_type": "stream",
          "text": [
            "100%|██████████| 180/180 [00:01<00:00, 103.85it/s]\n"
          ]
        },
        {
          "name": "stdout",
          "output_type": "stream",
          "text": [
            "Test Loss: 0.9919, Test Accuracy: 0.5716\n"
          ]
        },
        {
          "name": "stderr",
          "output_type": "stream",
          "text": [
            "100%|██████████| 718/718 [00:16<00:00, 43.43it/s]\n"
          ]
        },
        {
          "name": "stdout",
          "output_type": "stream",
          "text": [
            "Epoch 5/5, Training Loss: 0.5764\n"
          ]
        },
        {
          "name": "stderr",
          "output_type": "stream",
          "text": [
            "100%|██████████| 180/180 [00:01<00:00, 103.83it/s]"
          ]
        },
        {
          "name": "stdout",
          "output_type": "stream",
          "text": [
            "Test Loss: 1.1008, Test Accuracy: 0.5985\n"
          ]
        },
        {
          "name": "stderr",
          "output_type": "stream",
          "text": [
            "\n"
          ]
        }
      ],
      "source": [
        "NUM_EPOCHS = 5\n",
        "for epoch in range(NUM_EPOCHS):\n",
        "    train_loss = train_model(model_lstm, train_dataloader, optimizer, criterion, device)\n",
        "    print(f'Epoch {epoch+1}/{NUM_EPOCHS}, Training Loss: {train_loss:.4f}')\n",
        "\n",
        "    test_loss, test_accuracy = evaluate_model(model_lstm, test_dataloader, criterion, device)\n",
        "    print(f'Test Loss: {test_loss:.4f}, Test Accuracy: {test_accuracy:.4f}')"
      ]
    },
    {
      "cell_type": "code",
      "execution_count": null,
      "metadata": {
        "execution": {
          "iopub.execute_input": "2024-08-19T05:59:13.762601Z",
          "iopub.status.busy": "2024-08-19T05:59:13.761772Z",
          "iopub.status.idle": "2024-08-19T05:59:13.777404Z",
          "shell.execute_reply": "2024-08-19T05:59:13.776490Z",
          "shell.execute_reply.started": "2024-08-19T05:59:13.762562Z"
        },
        "id": "FxYVTMXhuQXD",
        "trusted": true
      },
      "outputs": [],
      "source": [
        "submission_data = pd.read_csv('/kaggle/input/nn-text/sample_submission.csv')"
      ]
    },
    {
      "cell_type": "code",
      "execution_count": null,
      "metadata": {
        "execution": {
          "iopub.execute_input": "2024-08-17T11:02:01.940002Z",
          "iopub.status.busy": "2024-08-17T11:02:01.939583Z",
          "iopub.status.idle": "2024-08-17T11:02:01.944968Z",
          "shell.execute_reply": "2024-08-17T11:02:01.944061Z",
          "shell.execute_reply.started": "2024-08-17T11:02:01.939969Z"
        },
        "id": "vLQS-Y34uQXE",
        "trusted": true
      },
      "outputs": [],
      "source": [
        "dataset_test = TextDataset(test_data, np.array(submission_data['Rating']), tokenizer)\n",
        "dataloader_test = DataLoader(dataset_test, batch_size=16, shuffle=False)"
      ]
    },
    {
      "cell_type": "code",
      "execution_count": null,
      "metadata": {
        "execution": {
          "iopub.execute_input": "2024-08-17T11:04:40.089282Z",
          "iopub.status.busy": "2024-08-17T11:04:40.088928Z",
          "iopub.status.idle": "2024-08-17T11:04:43.875208Z",
          "shell.execute_reply": "2024-08-17T11:04:43.874312Z",
          "shell.execute_reply.started": "2024-08-17T11:04:40.089253Z"
        },
        "id": "Mhlty4IOuQXE",
        "outputId": "4a959429-7bc2-4508-ebc0-f623e7ce59d1",
        "trusted": true
      },
      "outputs": [
        {
          "name": "stderr",
          "output_type": "stream",
          "text": [
            "100%|██████████| 385/385 [00:03<00:00, 102.26it/s]\n"
          ]
        }
      ],
      "source": [
        "predict_to_submission(model_lstm, 'simple_lstm', dataloader_test)"
      ]
    },
    {
      "cell_type": "markdown",
      "metadata": {
        "id": "8eHkxobkuQXE"
      },
      "source": [
        "![image.png](data:image/png;base64,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)"
      ]
    },
    {
      "cell_type": "markdown",
      "metadata": {
        "id": "4MgK9FxxuQXE"
      },
      "source": [
        "### RoBerta"
      ]
    },
    {
      "cell_type": "code",
      "execution_count": null,
      "metadata": {
        "execution": {
          "iopub.execute_input": "2024-08-19T07:31:21.850299Z",
          "iopub.status.busy": "2024-08-19T07:31:21.849052Z",
          "iopub.status.idle": "2024-08-19T07:31:22.343077Z",
          "shell.execute_reply": "2024-08-19T07:31:22.342234Z",
          "shell.execute_reply.started": "2024-08-19T07:31:21.850250Z"
        },
        "id": "3MsmvTAfuQXE",
        "outputId": "33d4d2bb-175d-4421-cce0-0105bc622dcc",
        "trusted": true
      },
      "outputs": [
        {
          "name": "stderr",
          "output_type": "stream",
          "text": [
            "Some weights of RobertaForSequenceClassification were not initialized from the model checkpoint at roberta-base and are newly initialized: ['classifier.dense.bias', 'classifier.dense.weight', 'classifier.out_proj.bias', 'classifier.out_proj.weight']\n",
            "You should probably TRAIN this model on a down-stream task to be able to use it for predictions and inference.\n"
          ]
        }
      ],
      "source": [
        "model_name = 'cardiffnlp/twitter-roberta-base-sentiment-latest'\n",
        "model_name = 'roberta-base'\n",
        "\n",
        "id2label = {i: label for i, label in enumerate(list(range(6)))}\n",
        "\n",
        "roberta_tokenizer = RobertaTokenizer.from_pretrained(model_name)\n",
        "roberta_model = AutoModelForSequenceClassification.from_pretrained(model_name, id2label=id2label)\n",
        "\n",
        "data_collator = DataCollatorWithPadding(tokenizer=roberta_tokenizer, return_tensors=\"pt\")"
      ]
    },
    {
      "cell_type": "code",
      "execution_count": null,
      "metadata": {
        "execution": {
          "iopub.execute_input": "2024-08-19T07:31:51.237719Z",
          "iopub.status.busy": "2024-08-19T07:31:51.236800Z",
          "iopub.status.idle": "2024-08-19T07:31:51.279878Z",
          "shell.execute_reply": "2024-08-19T07:31:51.278873Z",
          "shell.execute_reply.started": "2024-08-19T07:31:51.237678Z"
        },
        "id": "iJY9pNyauQXE",
        "trusted": true
      },
      "outputs": [],
      "source": [
        "training_args = TrainingArguments(\n",
        "    run_name='mts-roberta-r_48',\n",
        "    output_dir='mts-roberta-model-r_48',\n",
        "    learning_rate=1e-3,\n",
        "    num_train_epochs=4,\n",
        "    per_device_train_batch_size=16,\n",
        "    weight_decay=0.01,\n",
        "    logging_steps=10,\n",
        "    eval_strategy='steps',\n",
        "    eval_steps=250,\n",
        "    save_steps=1e3,\n",
        ")"
      ]
    },
    {
      "cell_type": "code",
      "execution_count": null,
      "metadata": {
        "execution": {
          "iopub.execute_input": "2024-08-19T07:31:51.696551Z",
          "iopub.status.busy": "2024-08-19T07:31:51.695842Z",
          "iopub.status.idle": "2024-08-19T07:31:51.764014Z",
          "shell.execute_reply": "2024-08-19T07:31:51.763255Z",
          "shell.execute_reply.started": "2024-08-19T07:31:51.696518Z"
        },
        "id": "nKd-c-hWuQXF",
        "outputId": "387d46ee-113d-4b8a-8127-d2a65734a119",
        "trusted": true
      },
      "outputs": [
        {
          "name": "stdout",
          "output_type": "stream",
          "text": [
            "PEFT Model\n",
            "trainable params: 2,364,678 || all params: 127,014,924 || trainable%: 1.8617\n"
          ]
        }
      ],
      "source": [
        "peft_config = LoraConfig(task_type=\"SEQ_CLS\", inference_mode=False, r=48, lora_alpha=16, lora_dropout=0.1)\n",
        "peft_model = get_peft_model(roberta_model, peft_config)\n",
        "\n",
        "print('PEFT Model')\n",
        "peft_model.print_trainable_parameters()"
      ]
    },
    {
      "cell_type": "code",
      "execution_count": null,
      "metadata": {
        "execution": {
          "iopub.execute_input": "2024-08-19T07:31:52.198186Z",
          "iopub.status.busy": "2024-08-19T07:31:52.197430Z",
          "iopub.status.idle": "2024-08-19T07:31:52.212239Z",
          "shell.execute_reply": "2024-08-19T07:31:52.211156Z",
          "shell.execute_reply.started": "2024-08-19T07:31:52.198155Z"
        },
        "id": "mFWvyfavuQXF",
        "outputId": "8923c3f8-d5b0-4bc7-bad5-ff532ecc3c73",
        "trusted": true
      },
      "outputs": [
        {
          "data": {
            "text/plain": [
              "PeftModelForSequenceClassification(\n",
              "  (base_model): LoraModel(\n",
              "    (model): RobertaForSequenceClassification(\n",
              "      (roberta): RobertaModel(\n",
              "        (embeddings): RobertaEmbeddings(\n",
              "          (word_embeddings): Embedding(50265, 768, padding_idx=1)\n",
              "          (position_embeddings): Embedding(514, 768, padding_idx=1)\n",
              "          (token_type_embeddings): Embedding(1, 768)\n",
              "          (LayerNorm): LayerNorm((768,), eps=1e-05, elementwise_affine=True)\n",
              "          (dropout): Dropout(p=0.1, inplace=False)\n",
              "        )\n",
              "        (encoder): RobertaEncoder(\n",
              "          (layer): ModuleList(\n",
              "            (0-11): 12 x RobertaLayer(\n",
              "              (attention): RobertaAttention(\n",
              "                (self): RobertaSelfAttention(\n",
              "                  (query): lora.Linear(\n",
              "                    (base_layer): Linear(in_features=768, out_features=768, bias=True)\n",
              "                    (lora_dropout): ModuleDict(\n",
              "                      (default): Dropout(p=0.1, inplace=False)\n",
              "                    )\n",
              "                    (lora_A): ModuleDict(\n",
              "                      (default): Linear(in_features=768, out_features=48, bias=False)\n",
              "                    )\n",
              "                    (lora_B): ModuleDict(\n",
              "                      (default): Linear(in_features=48, out_features=768, bias=False)\n",
              "                    )\n",
              "                    (lora_embedding_A): ParameterDict()\n",
              "                    (lora_embedding_B): ParameterDict()\n",
              "                    (lora_magnitude_vector): ModuleDict()\n",
              "                  )\n",
              "                  (key): Linear(in_features=768, out_features=768, bias=True)\n",
              "                  (value): lora.Linear(\n",
              "                    (base_layer): Linear(in_features=768, out_features=768, bias=True)\n",
              "                    (lora_dropout): ModuleDict(\n",
              "                      (default): Dropout(p=0.1, inplace=False)\n",
              "                    )\n",
              "                    (lora_A): ModuleDict(\n",
              "                      (default): Linear(in_features=768, out_features=48, bias=False)\n",
              "                    )\n",
              "                    (lora_B): ModuleDict(\n",
              "                      (default): Linear(in_features=48, out_features=768, bias=False)\n",
              "                    )\n",
              "                    (lora_embedding_A): ParameterDict()\n",
              "                    (lora_embedding_B): ParameterDict()\n",
              "                    (lora_magnitude_vector): ModuleDict()\n",
              "                  )\n",
              "                  (dropout): Dropout(p=0.1, inplace=False)\n",
              "                )\n",
              "                (output): RobertaSelfOutput(\n",
              "                  (dense): Linear(in_features=768, out_features=768, bias=True)\n",
              "                  (LayerNorm): LayerNorm((768,), eps=1e-05, elementwise_affine=True)\n",
              "                  (dropout): Dropout(p=0.1, inplace=False)\n",
              "                )\n",
              "              )\n",
              "              (intermediate): RobertaIntermediate(\n",
              "                (dense): Linear(in_features=768, out_features=3072, bias=True)\n",
              "                (intermediate_act_fn): GELUActivation()\n",
              "              )\n",
              "              (output): RobertaOutput(\n",
              "                (dense): Linear(in_features=3072, out_features=768, bias=True)\n",
              "                (LayerNorm): LayerNorm((768,), eps=1e-05, elementwise_affine=True)\n",
              "                (dropout): Dropout(p=0.1, inplace=False)\n",
              "              )\n",
              "            )\n",
              "          )\n",
              "        )\n",
              "      )\n",
              "      (classifier): ModulesToSaveWrapper(\n",
              "        (original_module): RobertaClassificationHead(\n",
              "          (dense): Linear(in_features=768, out_features=768, bias=True)\n",
              "          (dropout): Dropout(p=0.1, inplace=False)\n",
              "          (out_proj): Linear(in_features=768, out_features=6, bias=True)\n",
              "        )\n",
              "        (modules_to_save): ModuleDict(\n",
              "          (default): RobertaClassificationHead(\n",
              "            (dense): Linear(in_features=768, out_features=768, bias=True)\n",
              "            (dropout): Dropout(p=0.1, inplace=False)\n",
              "            (out_proj): Linear(in_features=768, out_features=6, bias=True)\n",
              "          )\n",
              "        )\n",
              "      )\n",
              "    )\n",
              "  )\n",
              ")"
            ]
          },
          "execution_count": 52,
          "metadata": {},
          "output_type": "execute_result"
        }
      ],
      "source": [
        "peft_model"
      ]
    },
    {
      "cell_type": "code",
      "execution_count": null,
      "metadata": {
        "execution": {
          "iopub.execute_input": "2024-08-19T07:31:52.470049Z",
          "iopub.status.busy": "2024-08-19T07:31:52.469711Z",
          "iopub.status.idle": "2024-08-19T07:31:52.486040Z",
          "shell.execute_reply": "2024-08-19T07:31:52.484908Z",
          "shell.execute_reply.started": "2024-08-19T07:31:52.470021Z"
        },
        "id": "0LVVyHDluQXF",
        "outputId": "74a86097-631d-4cfb-9f4c-6777be3d7078",
        "trusted": true
      },
      "outputs": [
        {
          "data": {
            "text/html": [
              "<div>\n",
              "<style scoped>\n",
              "    .dataframe tbody tr th:only-of-type {\n",
              "        vertical-align: middle;\n",
              "    }\n",
              "\n",
              "    .dataframe tbody tr th {\n",
              "        vertical-align: top;\n",
              "    }\n",
              "\n",
              "    .dataframe thead th {\n",
              "        text-align: right;\n",
              "    }\n",
              "</style>\n",
              "<table border=\"1\" class=\"dataframe\">\n",
              "  <thead>\n",
              "    <tr style=\"text-align: right;\">\n",
              "      <th></th>\n",
              "      <th>index</th>\n",
              "      <th>Review</th>\n",
              "      <th>text_prepared</th>\n",
              "    </tr>\n",
              "  </thead>\n",
              "  <tbody>\n",
              "    <tr>\n",
              "      <th>0</th>\n",
              "      <td>0</td>\n",
              "      <td>saefood bubbas want iwant ro riu wow, riu bamb...</td>\n",
              "      <td>saefood bubba want iwant ro riu wow riu bambu ...</td>\n",
              "    </tr>\n",
              "    <tr>\n",
              "      <th>1</th>\n",
              "      <td>1</td>\n",
              "      <td>raging she__ç_éö enjoyably different just retu...</td>\n",
              "      <td>rage enjoy differ return 4 night stay comment ...</td>\n",
              "    </tr>\n",
              "    <tr>\n",
              "      <th>2</th>\n",
              "      <td>2</td>\n",
              "      <td>boading terrifying best vacation, husband went...</td>\n",
              "      <td>boad terrifi best vacat husband went excel pun...</td>\n",
              "    </tr>\n",
              "    <tr>\n",
              "      <th>3</th>\n",
              "      <td>3</td>\n",
              "      <td>blended enthusastic location location location...</td>\n",
              "      <td>blend enthusast locat locat locat 10 year stay...</td>\n",
              "    </tr>\n",
              "    <tr>\n",
              "      <th>4</th>\n",
              "      <td>4</td>\n",
              "      <td>peptol insulated love hk good hotel stay noise...</td>\n",
              "      <td>peptol insul love hk good hotel stay nois x ma...</td>\n",
              "    </tr>\n",
              "    <tr>\n",
              "      <th>...</th>\n",
              "      <td>...</td>\n",
              "      <td>...</td>\n",
              "      <td>...</td>\n",
              "    </tr>\n",
              "    <tr>\n",
              "      <th>6143</th>\n",
              "      <td>6143</td>\n",
              "      <td>particapated activce loved antiche figure husb...</td>\n",
              "      <td>particap activc love antich figur husband stay...</td>\n",
              "    </tr>\n",
              "    <tr>\n",
              "      <th>6144</th>\n",
              "      <td>6144</td>\n",
              "      <td>ubiquitous osmond blissfull stay tegal sari ju...</td>\n",
              "      <td>ubiquit osmond blissful stay tegal sari like s...</td>\n",
              "    </tr>\n",
              "    <tr>\n",
              "      <th>6145</th>\n",
              "      <td>6145</td>\n",
              "      <td>rican feeder nice hotel trip seattle wanted st...</td>\n",
              "      <td>rican feeder nice hotel trip seattl want stay ...</td>\n",
              "    </tr>\n",
              "    <tr>\n",
              "      <th>6146</th>\n",
              "      <td>6146</td>\n",
              "      <td>maintanace disembark basic good value chose ho...</td>\n",
              "      <td>maintanac disembark basic good valu chose hote...</td>\n",
              "    </tr>\n",
              "    <tr>\n",
              "      <th>6147</th>\n",
              "      <td>6147</td>\n",
              "      <td>lavender transamerica fairly good time renn, p...</td>\n",
              "      <td>lavend transamerica fairli good time renn pm s...</td>\n",
              "    </tr>\n",
              "  </tbody>\n",
              "</table>\n",
              "<p>6148 rows × 3 columns</p>\n",
              "</div>"
            ],
            "text/plain": [
              "      index                                             Review  \\\n",
              "0         0  saefood bubbas want iwant ro riu wow, riu bamb...   \n",
              "1         1  raging she__ç_éö enjoyably different just retu...   \n",
              "2         2  boading terrifying best vacation, husband went...   \n",
              "3         3  blended enthusastic location location location...   \n",
              "4         4  peptol insulated love hk good hotel stay noise...   \n",
              "...     ...                                                ...   \n",
              "6143   6143  particapated activce loved antiche figure husb...   \n",
              "6144   6144  ubiquitous osmond blissfull stay tegal sari ju...   \n",
              "6145   6145  rican feeder nice hotel trip seattle wanted st...   \n",
              "6146   6146  maintanace disembark basic good value chose ho...   \n",
              "6147   6147  lavender transamerica fairly good time renn, p...   \n",
              "\n",
              "                                          text_prepared  \n",
              "0     saefood bubba want iwant ro riu wow riu bambu ...  \n",
              "1     rage enjoy differ return 4 night stay comment ...  \n",
              "2     boad terrifi best vacat husband went excel pun...  \n",
              "3     blend enthusast locat locat locat 10 year stay...  \n",
              "4     peptol insul love hk good hotel stay nois x ma...  \n",
              "...                                                 ...  \n",
              "6143  particap activc love antich figur husband stay...  \n",
              "6144  ubiquit osmond blissful stay tegal sari like s...  \n",
              "6145  rican feeder nice hotel trip seattl want stay ...  \n",
              "6146  maintanac disembark basic good valu chose hote...  \n",
              "6147  lavend transamerica fairli good time renn pm s...  \n",
              "\n",
              "[6148 rows x 3 columns]"
            ]
          },
          "execution_count": 53,
          "metadata": {},
          "output_type": "execute_result"
        }
      ],
      "source": [
        "df_test"
      ]
    },
    {
      "cell_type": "code",
      "execution_count": null,
      "metadata": {
        "execution": {
          "iopub.execute_input": "2024-08-19T07:31:53.273026Z",
          "iopub.status.busy": "2024-08-19T07:31:53.272651Z",
          "iopub.status.idle": "2024-08-19T07:31:53.435645Z",
          "shell.execute_reply": "2024-08-19T07:31:53.434360Z",
          "shell.execute_reply.started": "2024-08-19T07:31:53.272995Z"
        },
        "id": "emrMCkP3uQXF",
        "trusted": true
      },
      "outputs": [],
      "source": [
        "dataset_d = {\n",
        "    'test': Dataset_hf.from_dict({'text': test_data_roberta, 'label': np.array(submission_data['Rating'])}),\n",
        "    'train': Dataset_hf.from_dict({'text': X_roberta_train, 'label': y_roberta_train}),\n",
        "    'validation': Dataset_hf.from_dict({'text': X_roberta_test, 'label': y_roberta_test})\n",
        "}\n",
        "\n",
        "dataset = DatasetDict(dataset_d)"
      ]
    },
    {
      "cell_type": "code",
      "execution_count": null,
      "metadata": {
        "execution": {
          "iopub.execute_input": "2024-08-19T07:31:53.738838Z",
          "iopub.status.busy": "2024-08-19T07:31:53.737930Z",
          "iopub.status.idle": "2024-08-19T07:31:53.745641Z",
          "shell.execute_reply": "2024-08-19T07:31:53.744253Z",
          "shell.execute_reply.started": "2024-08-19T07:31:53.738804Z"
        },
        "id": "w2DMkrwZuQXF",
        "trusted": true
      },
      "outputs": [],
      "source": [
        "def convert_examples_to_features(example_batch):\n",
        "    input_encodings = roberta_tokenizer(example_batch['text'], truncation=True, padding=True)\n",
        "\n",
        "    return {\n",
        "        'input_ids' : input_encodings['input_ids'],\n",
        "        'attention_mask': input_encodings['attention_mask']\n",
        "    }"
      ]
    },
    {
      "cell_type": "code",
      "execution_count": null,
      "metadata": {
        "colab": {
          "referenced_widgets": [
            "fddd205d98944fe0ad35e90387287c69",
            "67ad4b3cf3af4793baffb04205faef7b",
            "c6eb2fb3a100410ab24ac222cb39c17b"
          ]
        },
        "execution": {
          "iopub.execute_input": "2024-08-19T07:31:54.551283Z",
          "iopub.status.busy": "2024-08-19T07:31:54.550396Z",
          "iopub.status.idle": "2024-08-19T07:32:41.287315Z",
          "shell.execute_reply": "2024-08-19T07:32:41.286121Z",
          "shell.execute_reply.started": "2024-08-19T07:31:54.551249Z"
        },
        "id": "P1OBy9ovuQXF",
        "outputId": "777aed93-1be5-4878-cca9-9f99e8af9c26",
        "trusted": true
      },
      "outputs": [
        {
          "data": {
            "application/vnd.jupyter.widget-view+json": {
              "model_id": "fddd205d98944fe0ad35e90387287c69",
              "version_major": 2,
              "version_minor": 0
            },
            "text/plain": [
              "Map:   0%|          | 0/6148 [00:00<?, ? examples/s]"
            ]
          },
          "metadata": {},
          "output_type": "display_data"
        },
        {
          "data": {
            "application/vnd.jupyter.widget-view+json": {
              "model_id": "67ad4b3cf3af4793baffb04205faef7b",
              "version_major": 2,
              "version_minor": 0
            },
            "text/plain": [
              "Map:   0%|          | 0/11474 [00:00<?, ? examples/s]"
            ]
          },
          "metadata": {},
          "output_type": "display_data"
        },
        {
          "data": {
            "application/vnd.jupyter.widget-view+json": {
              "model_id": "c6eb2fb3a100410ab24ac222cb39c17b",
              "version_major": 2,
              "version_minor": 0
            },
            "text/plain": [
              "Map:   0%|          | 0/2869 [00:00<?, ? examples/s]"
            ]
          },
          "metadata": {},
          "output_type": "display_data"
        }
      ],
      "source": [
        "tokenized_dataset = dataset.map(convert_examples_to_features, batched=True, batch_size=16, remove_columns=[\"text\"])"
      ]
    },
    {
      "cell_type": "code",
      "execution_count": null,
      "metadata": {
        "execution": {
          "iopub.execute_input": "2024-08-19T07:32:41.290214Z",
          "iopub.status.busy": "2024-08-19T07:32:41.289798Z",
          "iopub.status.idle": "2024-08-19T07:32:41.452766Z",
          "shell.execute_reply": "2024-08-19T07:32:41.451467Z",
          "shell.execute_reply.started": "2024-08-19T07:32:41.290157Z"
        },
        "id": "weg14N5kuQXG",
        "trusted": true
      },
      "outputs": [],
      "source": [
        "roberta_trainer = Trainer(\n",
        "    model=peft_model,\n",
        "    args=training_args,\n",
        "    train_dataset=tokenized_dataset['train'],\n",
        "    eval_dataset=tokenized_dataset['validation'],\n",
        "    data_collator=data_collator,\n",
        ")"
      ]
    },
    {
      "cell_type": "code",
      "execution_count": null,
      "metadata": {
        "execution": {
          "iopub.execute_input": "2024-08-19T07:32:41.454172Z",
          "iopub.status.busy": "2024-08-19T07:32:41.453897Z",
          "iopub.status.idle": "2024-08-19T08:07:18.699357Z",
          "shell.execute_reply": "2024-08-19T08:07:18.698255Z",
          "shell.execute_reply.started": "2024-08-19T07:32:41.454146Z"
        },
        "id": "rviklHaBuQXG",
        "outputId": "470177c5-3fe1-4a86-9265-5bc6b581ba32",
        "trusted": true
      },
      "outputs": [
        {
          "name": "stderr",
          "output_type": "stream",
          "text": [
            "/opt/conda/lib/python3.10/site-packages/torch/nn/parallel/_functions.py:68: UserWarning: Was asked to gather along dimension 0, but all input tensors were scalars; will instead unsqueeze and return a vector.\n",
            "  warnings.warn('Was asked to gather along dimension 0, but all '\n"
          ]
        },
        {
          "data": {
            "text/html": [
              "\n",
              "    <div>\n",
              "      \n",
              "      <progress value='1436' max='1436' style='width:300px; height:20px; vertical-align: middle;'></progress>\n",
              "      [1436/1436 34:35, Epoch 4/4]\n",
              "    </div>\n",
              "    <table border=\"1\" class=\"dataframe\">\n",
              "  <thead>\n",
              " <tr style=\"text-align: left;\">\n",
              "      <th>Step</th>\n",
              "      <th>Training Loss</th>\n",
              "      <th>Validation Loss</th>\n",
              "    </tr>\n",
              "  </thead>\n",
              "  <tbody>\n",
              "    <tr>\n",
              "      <td>250</td>\n",
              "      <td>0.887800</td>\n",
              "      <td>0.782714</td>\n",
              "    </tr>\n",
              "    <tr>\n",
              "      <td>500</td>\n",
              "      <td>0.847500</td>\n",
              "      <td>0.740200</td>\n",
              "    </tr>\n",
              "    <tr>\n",
              "      <td>750</td>\n",
              "      <td>0.717100</td>\n",
              "      <td>0.809113</td>\n",
              "    </tr>\n",
              "    <tr>\n",
              "      <td>1000</td>\n",
              "      <td>0.665700</td>\n",
              "      <td>0.726895</td>\n",
              "    </tr>\n",
              "    <tr>\n",
              "      <td>1250</td>\n",
              "      <td>0.563100</td>\n",
              "      <td>0.727131</td>\n",
              "    </tr>\n",
              "  </tbody>\n",
              "</table><p>"
            ],
            "text/plain": [
              "<IPython.core.display.HTML object>"
            ]
          },
          "metadata": {},
          "output_type": "display_data"
        },
        {
          "name": "stderr",
          "output_type": "stream",
          "text": [
            "/opt/conda/lib/python3.10/site-packages/torch/nn/parallel/_functions.py:68: UserWarning: Was asked to gather along dimension 0, but all input tensors were scalars; will instead unsqueeze and return a vector.\n",
            "  warnings.warn('Was asked to gather along dimension 0, but all '\n"
          ]
        },
        {
          "data": {
            "text/plain": [
              "TrainOutput(global_step=1436, training_loss=0.7503436441873109, metrics={'train_runtime': 2076.5487, 'train_samples_per_second': 22.102, 'train_steps_per_second': 0.692, 'total_flos': 1.2409580581060608e+16, 'train_loss': 0.7503436441873109, 'epoch': 4.0})"
            ]
          },
          "execution_count": 58,
          "metadata": {},
          "output_type": "execute_result"
        }
      ],
      "source": [
        "roberta_trainer.train()"
      ]
    },
    {
      "cell_type": "code",
      "execution_count": null,
      "metadata": {
        "execution": {
          "iopub.execute_input": "2024-08-19T08:07:18.702059Z",
          "iopub.status.busy": "2024-08-19T08:07:18.701775Z",
          "iopub.status.idle": "2024-08-19T08:08:06.594044Z",
          "shell.execute_reply": "2024-08-19T08:08:06.593116Z",
          "shell.execute_reply.started": "2024-08-19T08:07:18.702033Z"
        },
        "id": "0ntN3BEZuQXG",
        "outputId": "8afc7e2c-cb3f-4940-fe77-b04f3de089c8",
        "trusted": true
      },
      "outputs": [
        {
          "name": "stderr",
          "output_type": "stream",
          "text": [
            "/opt/conda/lib/python3.10/site-packages/torch/nn/parallel/_functions.py:68: UserWarning: Was asked to gather along dimension 0, but all input tensors were scalars; will instead unsqueeze and return a vector.\n",
            "  warnings.warn('Was asked to gather along dimension 0, but all '\n"
          ]
        },
        {
          "data": {
            "text/html": [
              "\n",
              "    <div>\n",
              "      \n",
              "      <progress value='180' max='180' style='width:300px; height:20px; vertical-align: middle;'></progress>\n",
              "      [180/180 00:47]\n",
              "    </div>\n",
              "    "
            ],
            "text/plain": [
              "<IPython.core.display.HTML object>"
            ]
          },
          "metadata": {},
          "output_type": "display_data"
        },
        {
          "data": {
            "text/plain": [
              "{'eval_loss': 0.7258625030517578,\n",
              " 'eval_runtime': 47.8773,\n",
              " 'eval_samples_per_second': 59.924,\n",
              " 'eval_steps_per_second': 3.76,\n",
              " 'epoch': 4.0}"
            ]
          },
          "execution_count": 59,
          "metadata": {},
          "output_type": "execute_result"
        }
      ],
      "source": [
        "roberta_trainer.evaluate()"
      ]
    },
    {
      "cell_type": "code",
      "execution_count": null,
      "metadata": {
        "execution": {
          "iopub.execute_input": "2024-08-19T08:08:06.595538Z",
          "iopub.status.busy": "2024-08-19T08:08:06.595252Z",
          "iopub.status.idle": "2024-08-19T08:08:06.600272Z",
          "shell.execute_reply": "2024-08-19T08:08:06.599332Z",
          "shell.execute_reply.started": "2024-08-19T08:08:06.595513Z"
        },
        "id": "mi-ygE7quQXG",
        "trusted": true
      },
      "outputs": [],
      "source": [
        "peft_model_name = 'roberta-base-peft-r_48'"
      ]
    },
    {
      "cell_type": "code",
      "execution_count": null,
      "metadata": {
        "execution": {
          "iopub.execute_input": "2024-08-19T08:08:06.602437Z",
          "iopub.status.busy": "2024-08-19T08:08:06.601661Z",
          "iopub.status.idle": "2024-08-19T08:08:06.739619Z",
          "shell.execute_reply": "2024-08-19T08:08:06.738109Z",
          "shell.execute_reply.started": "2024-08-19T08:08:06.602402Z"
        },
        "id": "T8Yki9FquQXG",
        "trusted": true
      },
      "outputs": [],
      "source": [
        "peft_model.save_pretrained(peft_model_name)"
      ]
    },
    {
      "cell_type": "markdown",
      "metadata": {
        "id": "LIRx5qPauQXH"
      },
      "source": [
        "#### Test Roberta"
      ]
    },
    {
      "cell_type": "code",
      "execution_count": null,
      "metadata": {
        "execution": {
          "iopub.execute_input": "2024-08-19T08:08:06.742393Z",
          "iopub.status.busy": "2024-08-19T08:08:06.741886Z",
          "iopub.status.idle": "2024-08-19T08:08:06.750028Z",
          "shell.execute_reply": "2024-08-19T08:08:06.748756Z",
          "shell.execute_reply.started": "2024-08-19T08:08:06.742345Z"
        },
        "id": "2JoReNeEuQXH",
        "trusted": true
      },
      "outputs": [],
      "source": [
        "from peft import AutoPeftModelForSequenceClassification"
      ]
    },
    {
      "cell_type": "code",
      "execution_count": null,
      "metadata": {
        "execution": {
          "iopub.execute_input": "2024-08-19T08:08:06.754324Z",
          "iopub.status.busy": "2024-08-19T08:08:06.753957Z",
          "iopub.status.idle": "2024-08-19T08:08:07.391993Z",
          "shell.execute_reply": "2024-08-19T08:08:07.390927Z",
          "shell.execute_reply.started": "2024-08-19T08:08:06.754294Z"
        },
        "id": "GWRYU_5buQXH",
        "outputId": "bd6af2de-f050-4740-8aa7-487396e4cf24",
        "trusted": true
      },
      "outputs": [
        {
          "name": "stderr",
          "output_type": "stream",
          "text": [
            "Some weights of RobertaForSequenceClassification were not initialized from the model checkpoint at roberta-base and are newly initialized: ['classifier.dense.bias', 'classifier.dense.weight', 'classifier.out_proj.bias', 'classifier.out_proj.weight']\n",
            "You should probably TRAIN this model on a down-stream task to be able to use it for predictions and inference.\n"
          ]
        }
      ],
      "source": [
        "inference_model = AutoPeftModelForSequenceClassification.from_pretrained(peft_model_name, id2label=id2label)"
      ]
    },
    {
      "cell_type": "code",
      "execution_count": null,
      "metadata": {
        "execution": {
          "iopub.execute_input": "2024-08-19T08:08:07.394271Z",
          "iopub.status.busy": "2024-08-19T08:08:07.393643Z",
          "iopub.status.idle": "2024-08-19T08:08:07.402022Z",
          "shell.execute_reply": "2024-08-19T08:08:07.401136Z",
          "shell.execute_reply.started": "2024-08-19T08:08:07.394236Z"
        },
        "id": "fyozHB2OuQXH",
        "trusted": true
      },
      "outputs": [],
      "source": [
        "def evaluate_model_roberta(model):\n",
        "    model.eval()\n",
        "    correct = 0\n",
        "    total = 0\n",
        "    eval_dataloader = DataLoader(tokenized_dataset['validation'].rename_column(\"label\", \"labels\"), batch_size=8, collate_fn=data_collator)\n",
        "\n",
        "    model.to(device)\n",
        "    model.eval()\n",
        "\n",
        "    with torch.no_grad():\n",
        "        for batch in tqdm(eval_dataloader):\n",
        "            batch.to(device)\n",
        "            with torch.no_grad():\n",
        "                outputs = inference_model(**batch)\n",
        "            predictions = outputs.logits.argmax(dim=-1)\n",
        "            predictions, references = predictions, batch[\"labels\"]\n",
        "            correct += (predictions == references).sum().item()\n",
        "            total += references.size(0)\n",
        "    return correct / total"
      ]
    },
    {
      "cell_type": "code",
      "execution_count": null,
      "metadata": {
        "execution": {
          "iopub.execute_input": "2024-08-19T08:08:07.404824Z",
          "iopub.status.busy": "2024-08-19T08:08:07.404556Z",
          "iopub.status.idle": "2024-08-19T08:09:22.136793Z",
          "shell.execute_reply": "2024-08-19T08:09:22.135516Z",
          "shell.execute_reply.started": "2024-08-19T08:08:07.404800Z"
        },
        "id": "cRiM9iVTuQXH",
        "outputId": "f586a30d-e32d-42d4-b736-032c1688c427",
        "trusted": true
      },
      "outputs": [
        {
          "name": "stderr",
          "output_type": "stream",
          "text": [
            "100%|██████████| 359/359 [01:14<00:00,  4.81it/s]\n"
          ]
        },
        {
          "data": {
            "text/plain": [
              "0.6890902753572673"
            ]
          },
          "execution_count": 65,
          "metadata": {},
          "output_type": "execute_result"
        }
      ],
      "source": [
        "evaluate_model_roberta(inference_model)"
      ]
    },
    {
      "cell_type": "code",
      "execution_count": null,
      "metadata": {
        "execution": {
          "iopub.execute_input": "2024-08-19T08:09:29.185939Z",
          "iopub.status.busy": "2024-08-19T08:09:29.185552Z",
          "iopub.status.idle": "2024-08-19T08:09:29.198163Z",
          "shell.execute_reply": "2024-08-19T08:09:29.196983Z",
          "shell.execute_reply.started": "2024-08-19T08:09:29.185907Z"
        },
        "id": "AEtsza6suQXH",
        "trusted": true
      },
      "outputs": [],
      "source": [
        "test_dataloader = DataLoader(tokenized_dataset['test'].rename_column(\"label\", \"labels\"), batch_size=8, collate_fn=data_collator)"
      ]
    },
    {
      "cell_type": "code",
      "execution_count": null,
      "metadata": {
        "execution": {
          "iopub.execute_input": "2024-08-19T08:09:29.493874Z",
          "iopub.status.busy": "2024-08-19T08:09:29.493102Z",
          "iopub.status.idle": "2024-08-19T08:09:29.502945Z",
          "shell.execute_reply": "2024-08-19T08:09:29.501772Z",
          "shell.execute_reply.started": "2024-08-19T08:09:29.493839Z"
        },
        "id": "LbgOZpyruQXH",
        "trusted": true
      },
      "outputs": [],
      "source": [
        "def predict(model, dataloader_test):\n",
        "    preds = []\n",
        "    model.eval()\n",
        "    with torch.no_grad():\n",
        "        for batch in tqdm(dataloader_test):\n",
        "            batch.to(device)\n",
        "            with torch.no_grad():\n",
        "                outputs = inference_model(**batch)\n",
        "            predictions = outputs.logits.argmax(dim=-1)\n",
        "            preds.extend(predictions.tolist())\n",
        "    return preds\n",
        "\n",
        "def predict_to_submission(model, name, dataloader_test, is_torch=True):\n",
        "    if is_torch:\n",
        "        preds = predict(model, dataloader_test)\n",
        "    else:\n",
        "        preds = model.predict(dataloader_test)\n",
        "    submission = pd.read_csv('/kaggle/input/nn-text/sample_submission.csv')\n",
        "    submission['Rating'] = preds\n",
        "    submission.to_csv('./'+name+'.csv', index=False)"
      ]
    },
    {
      "cell_type": "code",
      "execution_count": null,
      "metadata": {
        "execution": {
          "iopub.execute_input": "2024-08-19T08:09:43.494080Z",
          "iopub.status.busy": "2024-08-19T08:09:43.493156Z",
          "iopub.status.idle": "2024-08-19T08:12:15.203527Z",
          "shell.execute_reply": "2024-08-19T08:12:15.202220Z",
          "shell.execute_reply.started": "2024-08-19T08:09:43.494045Z"
        },
        "id": "RZonqWoFuQXH",
        "outputId": "bd9c38b0-bef0-4b7d-b2a6-153ff6468806",
        "trusted": true
      },
      "outputs": [
        {
          "name": "stderr",
          "output_type": "stream",
          "text": [
            "100%|██████████| 769/769 [02:31<00:00,  5.07it/s]\n"
          ]
        }
      ],
      "source": [
        "predict_to_submission(inference_model, 'roberta_lora_r_48', test_dataloader)"
      ]
    },
    {
      "cell_type": "markdown",
      "metadata": {
        "id": "c4xVJXfBuQXI"
      },
      "source": [
        "![image.png](data:image/png;base64,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)"
      ]
    },
    {
      "cell_type": "code",
      "execution_count": null,
      "metadata": {
        "id": "5EAfL-BUuQXI"
      },
      "outputs": [],
      "source": []
    }
  ],
  "metadata": {
    "colab": {
      "provenance": []
    },
    "kaggle": {
      "accelerator": "nvidiaTeslaT4",
      "dataSources": [
        {
          "databundleVersionId": 9171440,
          "sourceId": 83101,
          "sourceType": "competition"
        }
      ],
      "dockerImageVersionId": 30747,
      "isGpuEnabled": true,
      "isInternetEnabled": true,
      "language": "python",
      "sourceType": "notebook"
    },
    "kernelspec": {
      "display_name": "Python 3",
      "language": "python",
      "name": "python3"
    },
    "language_info": {
      "codemirror_mode": {
        "name": "ipython",
        "version": 3
      },
      "file_extension": ".py",
      "mimetype": "text/x-python",
      "name": "python",
      "nbconvert_exporter": "python",
      "pygments_lexer": "ipython3",
      "version": "3.10.13"
    }
  },
  "nbformat": 4,
  "nbformat_minor": 0
}
