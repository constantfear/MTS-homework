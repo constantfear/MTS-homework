{
  "nbformat": 4,
  "nbformat_minor": 0,
  "metadata": {
    "colab": {
      "provenance": []
    },
    "kernelspec": {
      "name": "python3",
      "display_name": "Python 3"
    },
    "language_info": {
      "name": "python"
    }
  },
  "cells": [
    {
      "cell_type": "markdown",
      "source": [
        "# Домашнее задание NN-3\n"
      ],
      "metadata": {
        "id": "wUmDGyYggkuI"
      }
    },
    {
      "cell_type": "markdown",
      "source": [
        "### Импорт библиотек"
      ],
      "metadata": {
        "id": "wFEug7zyggyR"
      }
    },
    {
      "cell_type": "code",
      "source": [
        "# !pip install torchviz"
      ],
      "metadata": {
        "colab": {
          "base_uri": "https://localhost:8080/"
        },
        "id": "PFxfSjeYi3fR",
        "outputId": "8985acf9-c6ec-4188-8689-246d68de9d5d"
      },
      "execution_count": null,
      "outputs": [
        {
          "output_type": "stream",
          "name": "stdout",
          "text": [
            "Collecting torchviz\n",
            "  Downloading torchviz-0.0.2.tar.gz (4.9 kB)\n",
            "  Preparing metadata (setup.py) ... \u001b[?25l\u001b[?25hdone\n",
            "Requirement already satisfied: torch in /usr/local/lib/python3.10/dist-packages (from torchviz) (2.3.1+cu121)\n",
            "Requirement already satisfied: graphviz in /usr/local/lib/python3.10/dist-packages (from torchviz) (0.20.3)\n",
            "Requirement already satisfied: filelock in /usr/local/lib/python3.10/dist-packages (from torch->torchviz) (3.15.4)\n",
            "Requirement already satisfied: typing-extensions>=4.8.0 in /usr/local/lib/python3.10/dist-packages (from torch->torchviz) (4.12.2)\n",
            "Requirement already satisfied: sympy in /usr/local/lib/python3.10/dist-packages (from torch->torchviz) (1.13.1)\n",
            "Requirement already satisfied: networkx in /usr/local/lib/python3.10/dist-packages (from torch->torchviz) (3.3)\n",
            "Requirement already satisfied: jinja2 in /usr/local/lib/python3.10/dist-packages (from torch->torchviz) (3.1.4)\n",
            "Requirement already satisfied: fsspec in /usr/local/lib/python3.10/dist-packages (from torch->torchviz) (2024.6.1)\n",
            "Collecting nvidia-cuda-nvrtc-cu12==12.1.105 (from torch->torchviz)\n",
            "  Using cached nvidia_cuda_nvrtc_cu12-12.1.105-py3-none-manylinux1_x86_64.whl.metadata (1.5 kB)\n",
            "Collecting nvidia-cuda-runtime-cu12==12.1.105 (from torch->torchviz)\n",
            "  Using cached nvidia_cuda_runtime_cu12-12.1.105-py3-none-manylinux1_x86_64.whl.metadata (1.5 kB)\n",
            "Collecting nvidia-cuda-cupti-cu12==12.1.105 (from torch->torchviz)\n",
            "  Using cached nvidia_cuda_cupti_cu12-12.1.105-py3-none-manylinux1_x86_64.whl.metadata (1.6 kB)\n",
            "Collecting nvidia-cudnn-cu12==8.9.2.26 (from torch->torchviz)\n",
            "  Using cached nvidia_cudnn_cu12-8.9.2.26-py3-none-manylinux1_x86_64.whl.metadata (1.6 kB)\n",
            "Collecting nvidia-cublas-cu12==12.1.3.1 (from torch->torchviz)\n",
            "  Using cached nvidia_cublas_cu12-12.1.3.1-py3-none-manylinux1_x86_64.whl.metadata (1.5 kB)\n",
            "Collecting nvidia-cufft-cu12==11.0.2.54 (from torch->torchviz)\n",
            "  Using cached nvidia_cufft_cu12-11.0.2.54-py3-none-manylinux1_x86_64.whl.metadata (1.5 kB)\n",
            "Collecting nvidia-curand-cu12==10.3.2.106 (from torch->torchviz)\n",
            "  Using cached nvidia_curand_cu12-10.3.2.106-py3-none-manylinux1_x86_64.whl.metadata (1.5 kB)\n",
            "Collecting nvidia-cusolver-cu12==11.4.5.107 (from torch->torchviz)\n",
            "  Using cached nvidia_cusolver_cu12-11.4.5.107-py3-none-manylinux1_x86_64.whl.metadata (1.6 kB)\n",
            "Collecting nvidia-cusparse-cu12==12.1.0.106 (from torch->torchviz)\n",
            "  Using cached nvidia_cusparse_cu12-12.1.0.106-py3-none-manylinux1_x86_64.whl.metadata (1.6 kB)\n",
            "Collecting nvidia-nccl-cu12==2.20.5 (from torch->torchviz)\n",
            "  Using cached nvidia_nccl_cu12-2.20.5-py3-none-manylinux2014_x86_64.whl.metadata (1.8 kB)\n",
            "Collecting nvidia-nvtx-cu12==12.1.105 (from torch->torchviz)\n",
            "  Using cached nvidia_nvtx_cu12-12.1.105-py3-none-manylinux1_x86_64.whl.metadata (1.7 kB)\n",
            "Requirement already satisfied: triton==2.3.1 in /usr/local/lib/python3.10/dist-packages (from torch->torchviz) (2.3.1)\n",
            "Collecting nvidia-nvjitlink-cu12 (from nvidia-cusolver-cu12==11.4.5.107->torch->torchviz)\n",
            "  Using cached nvidia_nvjitlink_cu12-12.6.20-py3-none-manylinux2014_x86_64.whl.metadata (1.5 kB)\n",
            "Requirement already satisfied: MarkupSafe>=2.0 in /usr/local/lib/python3.10/dist-packages (from jinja2->torch->torchviz) (2.1.5)\n",
            "Requirement already satisfied: mpmath<1.4,>=1.1.0 in /usr/local/lib/python3.10/dist-packages (from sympy->torch->torchviz) (1.3.0)\n",
            "Using cached nvidia_cublas_cu12-12.1.3.1-py3-none-manylinux1_x86_64.whl (410.6 MB)\n",
            "Using cached nvidia_cuda_cupti_cu12-12.1.105-py3-none-manylinux1_x86_64.whl (14.1 MB)\n",
            "Using cached nvidia_cuda_nvrtc_cu12-12.1.105-py3-none-manylinux1_x86_64.whl (23.7 MB)\n",
            "Using cached nvidia_cuda_runtime_cu12-12.1.105-py3-none-manylinux1_x86_64.whl (823 kB)\n",
            "Using cached nvidia_cudnn_cu12-8.9.2.26-py3-none-manylinux1_x86_64.whl (731.7 MB)\n",
            "Using cached nvidia_cufft_cu12-11.0.2.54-py3-none-manylinux1_x86_64.whl (121.6 MB)\n",
            "Using cached nvidia_curand_cu12-10.3.2.106-py3-none-manylinux1_x86_64.whl (56.5 MB)\n",
            "Using cached nvidia_cusolver_cu12-11.4.5.107-py3-none-manylinux1_x86_64.whl (124.2 MB)\n",
            "Using cached nvidia_cusparse_cu12-12.1.0.106-py3-none-manylinux1_x86_64.whl (196.0 MB)\n",
            "Using cached nvidia_nccl_cu12-2.20.5-py3-none-manylinux2014_x86_64.whl (176.2 MB)\n",
            "Using cached nvidia_nvtx_cu12-12.1.105-py3-none-manylinux1_x86_64.whl (99 kB)\n",
            "Using cached nvidia_nvjitlink_cu12-12.6.20-py3-none-manylinux2014_x86_64.whl (19.7 MB)\n",
            "Building wheels for collected packages: torchviz\n",
            "  Building wheel for torchviz (setup.py) ... \u001b[?25l\u001b[?25hdone\n",
            "  Created wheel for torchviz: filename=torchviz-0.0.2-py3-none-any.whl size=4132 sha256=828c7526cf5f3280fd2a584560c261e26ca64b1ac25b2339d33e63a7a1cbfc60\n",
            "  Stored in directory: /root/.cache/pip/wheels/4c/97/88/a02973217949e0db0c9f4346d154085f4725f99c4f15a87094\n",
            "Successfully built torchviz\n",
            "Installing collected packages: nvidia-nvtx-cu12, nvidia-nvjitlink-cu12, nvidia-nccl-cu12, nvidia-curand-cu12, nvidia-cufft-cu12, nvidia-cuda-runtime-cu12, nvidia-cuda-nvrtc-cu12, nvidia-cuda-cupti-cu12, nvidia-cublas-cu12, nvidia-cusparse-cu12, nvidia-cudnn-cu12, nvidia-cusolver-cu12, torchviz\n",
            "Successfully installed nvidia-cublas-cu12-12.1.3.1 nvidia-cuda-cupti-cu12-12.1.105 nvidia-cuda-nvrtc-cu12-12.1.105 nvidia-cuda-runtime-cu12-12.1.105 nvidia-cudnn-cu12-8.9.2.26 nvidia-cufft-cu12-11.0.2.54 nvidia-curand-cu12-10.3.2.106 nvidia-cusolver-cu12-11.4.5.107 nvidia-cusparse-cu12-12.1.0.106 nvidia-nccl-cu12-2.20.5 nvidia-nvjitlink-cu12-12.6.20 nvidia-nvtx-cu12-12.1.105 torchviz-0.0.2\n"
          ]
        }
      ]
    },
    {
      "cell_type": "code",
      "execution_count": null,
      "metadata": {
        "id": "QGsIcy9JgToz"
      },
      "outputs": [],
      "source": [
        "import torch\n",
        "from torch import nn\n",
        "from torchviz import make_dot"
      ]
    },
    {
      "cell_type": "markdown",
      "source": [
        "### Сеть 1"
      ],
      "metadata": {
        "id": "7BT2NUO9gpzS"
      }
    },
    {
      "cell_type": "code",
      "source": [
        "class Net1(nn.Module):\n",
        "    def __init__(self, latent_dim=2):\n",
        "        super().__init__()\n",
        "        self.encode = nn.Sequential(\n",
        "            nn.Linear(784, 500),\n",
        "            nn.Linear(500, 300),\n",
        "            nn.Linear(300, latent_dim)\n",
        "        )\n",
        "        self.decode = nn.Sequential(\n",
        "            nn.Linear(latent_dim, 300),\n",
        "            nn.Linear(300, 500),\n",
        "            nn.Linear(500, 784)\n",
        "        )\n",
        "\n",
        "    def forward(self, input):\n",
        "        output = self.decode(self.encode(input))\n",
        "        return output\n",
        "\n"
      ],
      "metadata": {
        "id": "ZxI8MqsCgtDj"
      },
      "execution_count": null,
      "outputs": []
    },
    {
      "cell_type": "code",
      "source": [
        "model1 = Net1()"
      ],
      "metadata": {
        "id": "GTXba7uhiK3h"
      },
      "execution_count": null,
      "outputs": []
    },
    {
      "cell_type": "code",
      "source": [
        "model1"
      ],
      "metadata": {
        "colab": {
          "base_uri": "https://localhost:8080/"
        },
        "id": "HSvRGPHIjSb1",
        "outputId": "774d6af3-52c9-4c42-a3f3-572f127cd1fe"
      },
      "execution_count": null,
      "outputs": [
        {
          "output_type": "execute_result",
          "data": {
            "text/plain": [
              "Net1(\n",
              "  (encode): Sequential(\n",
              "    (0): Linear(in_features=784, out_features=500, bias=True)\n",
              "    (1): Linear(in_features=500, out_features=300, bias=True)\n",
              "    (2): Linear(in_features=300, out_features=2, bias=True)\n",
              "  )\n",
              "  (decode): Sequential(\n",
              "    (0): Linear(in_features=2, out_features=300, bias=True)\n",
              "    (1): Linear(in_features=300, out_features=500, bias=True)\n",
              "    (2): Linear(in_features=500, out_features=784, bias=True)\n",
              "  )\n",
              ")"
            ]
          },
          "metadata": {},
          "execution_count": 7
        }
      ]
    },
    {
      "cell_type": "code",
      "source": [
        "output = model1(torch.rand(784))\n",
        "output.shape"
      ],
      "metadata": {
        "colab": {
          "base_uri": "https://localhost:8080/"
        },
        "id": "zSJjA5Ezpzxq",
        "outputId": "5b738192-0b60-429c-f9df-320fa793b4a9"
      },
      "execution_count": null,
      "outputs": [
        {
          "output_type": "execute_result",
          "data": {
            "text/plain": [
              "torch.Size([784])"
            ]
          },
          "metadata": {},
          "execution_count": 47
        }
      ]
    },
    {
      "cell_type": "markdown",
      "source": [
        "### Сеть 2"
      ],
      "metadata": {
        "id": "lHIid1e2jiwl"
      }
    },
    {
      "cell_type": "code",
      "source": [
        "class Net2(nn.Module):\n",
        "    def __init__(self):\n",
        "        super().__init__()\n",
        "        self.linear1 = nn.Linear(1, 5)\n",
        "        self.relu = nn.ReLU()\n",
        "        self.linear3 = nn.Linear(5, 1)\n",
        "\n",
        "    def forward(self, input):\n",
        "        output = self.linear1(input)\n",
        "        output = self.relu(output)\n",
        "        output = self.linear3(output)\n",
        "        return output"
      ],
      "metadata": {
        "id": "O7d9B8aOjTTe"
      },
      "execution_count": null,
      "outputs": []
    },
    {
      "cell_type": "code",
      "source": [
        "model2 = Net2()"
      ],
      "metadata": {
        "id": "gIGAg55ZkSsm"
      },
      "execution_count": null,
      "outputs": []
    },
    {
      "cell_type": "code",
      "source": [
        "x = torch.randn(5, 1)\n",
        "y = model2(x)\n",
        "\n",
        "make_dot(y.mean(), params=dict(model2.named_parameters()))\n"
      ],
      "metadata": {
        "colab": {
          "base_uri": "https://localhost:8080/",
          "height": 645
        },
        "id": "58Tn6ELpkXzj",
        "outputId": "f63b6aa5-b39b-4f5f-840a-780edf1324dd"
      },
      "execution_count": null,
      "outputs": [
        {
          "output_type": "execute_result",
          "data": {
            "image/svg+xml": "<?xml version=\"1.0\" encoding=\"UTF-8\" standalone=\"no\"?>\n<!DOCTYPE svg PUBLIC \"-//W3C//DTD SVG 1.1//EN\"\n \"http://www.w3.org/Graphics/SVG/1.1/DTD/svg11.dtd\">\n<!-- Generated by graphviz version 2.43.0 (0)\n -->\n<!-- Title: %3 Pages: 1 -->\n<svg width=\"342pt\" height=\"468pt\"\n viewBox=\"0.00 0.00 342.00 468.00\" xmlns=\"http://www.w3.org/2000/svg\" xmlns:xlink=\"http://www.w3.org/1999/xlink\">\n<g id=\"graph0\" class=\"graph\" transform=\"scale(1 1) rotate(0) translate(4 464)\">\n<title>%3</title>\n<polygon fill=\"white\" stroke=\"transparent\" points=\"-4,4 -4,-464 338,-464 338,4 -4,4\"/>\n<!-- 136693186230320 -->\n<g id=\"node1\" class=\"node\">\n<title>136693186230320</title>\n<polygon fill=\"#caff70\" stroke=\"black\" points=\"193.5,-31 139.5,-31 139.5,0 193.5,0 193.5,-31\"/>\n<text text-anchor=\"middle\" x=\"166.5\" y=\"-7\" font-family=\"monospace\" font-size=\"10.00\"> ()</text>\n</g>\n<!-- 136693185369024 -->\n<g id=\"node2\" class=\"node\">\n<title>136693185369024</title>\n<polygon fill=\"lightgrey\" stroke=\"black\" points=\"214,-86 119,-86 119,-67 214,-67 214,-86\"/>\n<text text-anchor=\"middle\" x=\"166.5\" y=\"-74\" font-family=\"monospace\" font-size=\"10.00\">MeanBackward0</text>\n</g>\n<!-- 136693185369024&#45;&gt;136693186230320 -->\n<g id=\"edge14\" class=\"edge\">\n<title>136693185369024&#45;&gt;136693186230320</title>\n<path fill=\"none\" stroke=\"black\" d=\"M166.5,-66.79C166.5,-60.07 166.5,-50.4 166.5,-41.34\"/>\n<polygon fill=\"black\" stroke=\"black\" points=\"170,-41.19 166.5,-31.19 163,-41.19 170,-41.19\"/>\n</g>\n<!-- 136693185372240 -->\n<g id=\"node3\" class=\"node\">\n<title>136693185372240</title>\n<polygon fill=\"lightgrey\" stroke=\"black\" points=\"217,-141 116,-141 116,-122 217,-122 217,-141\"/>\n<text text-anchor=\"middle\" x=\"166.5\" y=\"-129\" font-family=\"monospace\" font-size=\"10.00\">AddmmBackward0</text>\n</g>\n<!-- 136693185372240&#45;&gt;136693185369024 -->\n<g id=\"edge1\" class=\"edge\">\n<title>136693185372240&#45;&gt;136693185369024</title>\n<path fill=\"none\" stroke=\"black\" d=\"M166.5,-121.75C166.5,-114.8 166.5,-104.85 166.5,-96.13\"/>\n<polygon fill=\"black\" stroke=\"black\" points=\"170,-96.09 166.5,-86.09 163,-96.09 170,-96.09\"/>\n</g>\n<!-- 136693185367008 -->\n<g id=\"node4\" class=\"node\">\n<title>136693185367008</title>\n<polygon fill=\"lightgrey\" stroke=\"black\" points=\"101,-196 0,-196 0,-177 101,-177 101,-196\"/>\n<text text-anchor=\"middle\" x=\"50.5\" y=\"-184\" font-family=\"monospace\" font-size=\"10.00\">AccumulateGrad</text>\n</g>\n<!-- 136693185367008&#45;&gt;136693185372240 -->\n<g id=\"edge2\" class=\"edge\">\n<title>136693185367008&#45;&gt;136693185372240</title>\n<path fill=\"none\" stroke=\"black\" d=\"M69.14,-176.98C87.8,-168.46 116.75,-155.23 138.24,-145.41\"/>\n<polygon fill=\"black\" stroke=\"black\" points=\"139.88,-148.51 147.52,-141.17 136.97,-142.14 139.88,-148.51\"/>\n</g>\n<!-- 136693186226960 -->\n<g id=\"node5\" class=\"node\">\n<title>136693186226960</title>\n<polygon fill=\"lightblue\" stroke=\"black\" points=\"95,-262 6,-262 6,-232 95,-232 95,-262\"/>\n<text text-anchor=\"middle\" x=\"50.5\" y=\"-250\" font-family=\"monospace\" font-size=\"10.00\">linear3.bias</text>\n<text text-anchor=\"middle\" x=\"50.5\" y=\"-239\" font-family=\"monospace\" font-size=\"10.00\"> (1)</text>\n</g>\n<!-- 136693186226960&#45;&gt;136693185367008 -->\n<g id=\"edge3\" class=\"edge\">\n<title>136693186226960&#45;&gt;136693185367008</title>\n<path fill=\"none\" stroke=\"black\" d=\"M50.5,-231.84C50.5,-224.21 50.5,-214.7 50.5,-206.45\"/>\n<polygon fill=\"black\" stroke=\"black\" points=\"54,-206.27 50.5,-196.27 47,-206.27 54,-206.27\"/>\n</g>\n<!-- 136693185374640 -->\n<g id=\"node6\" class=\"node\">\n<title>136693185374640</title>\n<polygon fill=\"lightgrey\" stroke=\"black\" points=\"214,-196 119,-196 119,-177 214,-177 214,-196\"/>\n<text text-anchor=\"middle\" x=\"166.5\" y=\"-184\" font-family=\"monospace\" font-size=\"10.00\">ReluBackward0</text>\n</g>\n<!-- 136693185374640&#45;&gt;136693185372240 -->\n<g id=\"edge4\" class=\"edge\">\n<title>136693185374640&#45;&gt;136693185372240</title>\n<path fill=\"none\" stroke=\"black\" d=\"M166.5,-176.75C166.5,-169.8 166.5,-159.85 166.5,-151.13\"/>\n<polygon fill=\"black\" stroke=\"black\" points=\"170,-151.09 166.5,-141.09 163,-151.09 170,-151.09\"/>\n</g>\n<!-- 136693185380256 -->\n<g id=\"node7\" class=\"node\">\n<title>136693185380256</title>\n<polygon fill=\"lightgrey\" stroke=\"black\" points=\"215,-256.5 114,-256.5 114,-237.5 215,-237.5 215,-256.5\"/>\n<text text-anchor=\"middle\" x=\"164.5\" y=\"-244.5\" font-family=\"monospace\" font-size=\"10.00\">AddmmBackward0</text>\n</g>\n<!-- 136693185380256&#45;&gt;136693185374640 -->\n<g id=\"edge5\" class=\"edge\">\n<title>136693185380256&#45;&gt;136693185374640</title>\n<path fill=\"none\" stroke=\"black\" d=\"M164.8,-237.37C165.07,-229.25 165.5,-216.81 165.85,-206.39\"/>\n<polygon fill=\"black\" stroke=\"black\" points=\"169.36,-206.28 166.2,-196.17 162.36,-206.04 169.36,-206.28\"/>\n</g>\n<!-- 136693185375552 -->\n<g id=\"node8\" class=\"node\">\n<title>136693185375552</title>\n<polygon fill=\"lightgrey\" stroke=\"black\" points=\"111,-322.5 10,-322.5 10,-303.5 111,-303.5 111,-322.5\"/>\n<text text-anchor=\"middle\" x=\"60.5\" y=\"-310.5\" font-family=\"monospace\" font-size=\"10.00\">AccumulateGrad</text>\n</g>\n<!-- 136693185375552&#45;&gt;136693185380256 -->\n<g id=\"edge6\" class=\"edge\">\n<title>136693185375552&#45;&gt;136693185380256</title>\n<path fill=\"none\" stroke=\"black\" d=\"M74.53,-303.37C91.74,-292.78 121.16,-274.67 141.65,-262.06\"/>\n<polygon fill=\"black\" stroke=\"black\" points=\"143.68,-264.92 150.36,-256.7 140.01,-258.96 143.68,-264.92\"/>\n</g>\n<!-- 136693186226640 -->\n<g id=\"node9\" class=\"node\">\n<title>136693186226640</title>\n<polygon fill=\"lightblue\" stroke=\"black\" points=\"104,-394 15,-394 15,-364 104,-364 104,-394\"/>\n<text text-anchor=\"middle\" x=\"59.5\" y=\"-382\" font-family=\"monospace\" font-size=\"10.00\">linear1.bias</text>\n<text text-anchor=\"middle\" x=\"59.5\" y=\"-371\" font-family=\"monospace\" font-size=\"10.00\"> (5)</text>\n</g>\n<!-- 136693186226640&#45;&gt;136693185375552 -->\n<g id=\"edge7\" class=\"edge\">\n<title>136693186226640&#45;&gt;136693185375552</title>\n<path fill=\"none\" stroke=\"black\" d=\"M59.72,-363.8C59.86,-354.7 60.05,-342.79 60.2,-332.9\"/>\n<polygon fill=\"black\" stroke=\"black\" points=\"63.71,-332.9 60.36,-322.84 56.71,-332.79 63.71,-332.9\"/>\n</g>\n<!-- 136693185369408 -->\n<g id=\"node10\" class=\"node\">\n<title>136693185369408</title>\n<polygon fill=\"lightgrey\" stroke=\"black\" points=\"209,-322.5 132,-322.5 132,-303.5 209,-303.5 209,-322.5\"/>\n<text text-anchor=\"middle\" x=\"170.5\" y=\"-310.5\" font-family=\"monospace\" font-size=\"10.00\">TBackward0</text>\n</g>\n<!-- 136693185369408&#45;&gt;136693185380256 -->\n<g id=\"edge8\" class=\"edge\">\n<title>136693185369408&#45;&gt;136693185380256</title>\n<path fill=\"none\" stroke=\"black\" d=\"M169.69,-303.37C168.82,-294.07 167.4,-278.98 166.27,-266.9\"/>\n<polygon fill=\"black\" stroke=\"black\" points=\"169.75,-266.53 165.33,-256.91 162.78,-267.19 169.75,-266.53\"/>\n</g>\n<!-- 136693185376416 -->\n<g id=\"node11\" class=\"node\">\n<title>136693185376416</title>\n<polygon fill=\"lightgrey\" stroke=\"black\" points=\"223,-388.5 122,-388.5 122,-369.5 223,-369.5 223,-388.5\"/>\n<text text-anchor=\"middle\" x=\"172.5\" y=\"-376.5\" font-family=\"monospace\" font-size=\"10.00\">AccumulateGrad</text>\n</g>\n<!-- 136693185376416&#45;&gt;136693185369408 -->\n<g id=\"edge9\" class=\"edge\">\n<title>136693185376416&#45;&gt;136693185369408</title>\n<path fill=\"none\" stroke=\"black\" d=\"M172.23,-369.37C171.94,-360.16 171.48,-345.29 171.1,-333.27\"/>\n<polygon fill=\"black\" stroke=\"black\" points=\"174.59,-332.79 170.78,-322.91 167.59,-333.01 174.59,-332.79\"/>\n</g>\n<!-- 136693185534672 -->\n<g id=\"node12\" class=\"node\">\n<title>136693185534672</title>\n<polygon fill=\"lightblue\" stroke=\"black\" points=\"223,-460 122,-460 122,-430 223,-430 223,-460\"/>\n<text text-anchor=\"middle\" x=\"172.5\" y=\"-448\" font-family=\"monospace\" font-size=\"10.00\">linear1.weight</text>\n<text text-anchor=\"middle\" x=\"172.5\" y=\"-437\" font-family=\"monospace\" font-size=\"10.00\"> (5, 1)</text>\n</g>\n<!-- 136693185534672&#45;&gt;136693185376416 -->\n<g id=\"edge10\" class=\"edge\">\n<title>136693185534672&#45;&gt;136693185376416</title>\n<path fill=\"none\" stroke=\"black\" d=\"M172.5,-429.8C172.5,-420.7 172.5,-408.79 172.5,-398.9\"/>\n<polygon fill=\"black\" stroke=\"black\" points=\"176,-398.84 172.5,-388.84 169,-398.84 176,-398.84\"/>\n</g>\n<!-- 136693185378768 -->\n<g id=\"node13\" class=\"node\">\n<title>136693185378768</title>\n<polygon fill=\"lightgrey\" stroke=\"black\" points=\"315,-196 238,-196 238,-177 315,-177 315,-196\"/>\n<text text-anchor=\"middle\" x=\"276.5\" y=\"-184\" font-family=\"monospace\" font-size=\"10.00\">TBackward0</text>\n</g>\n<!-- 136693185378768&#45;&gt;136693185372240 -->\n<g id=\"edge11\" class=\"edge\">\n<title>136693185378768&#45;&gt;136693185372240</title>\n<path fill=\"none\" stroke=\"black\" d=\"M258.83,-176.98C241.21,-168.5 213.92,-155.35 193.57,-145.54\"/>\n<polygon fill=\"black\" stroke=\"black\" points=\"195.02,-142.36 184.49,-141.17 191.98,-148.66 195.02,-142.36\"/>\n</g>\n<!-- 136693185377712 -->\n<g id=\"node14\" class=\"node\">\n<title>136693185377712</title>\n<polygon fill=\"lightgrey\" stroke=\"black\" points=\"334,-256.5 233,-256.5 233,-237.5 334,-237.5 334,-256.5\"/>\n<text text-anchor=\"middle\" x=\"283.5\" y=\"-244.5\" font-family=\"monospace\" font-size=\"10.00\">AccumulateGrad</text>\n</g>\n<!-- 136693185377712&#45;&gt;136693185378768 -->\n<g id=\"edge12\" class=\"edge\">\n<title>136693185377712&#45;&gt;136693185378768</title>\n<path fill=\"none\" stroke=\"black\" d=\"M282.47,-237.37C281.5,-229.25 280.01,-216.81 278.76,-206.39\"/>\n<polygon fill=\"black\" stroke=\"black\" points=\"282.2,-205.68 277.54,-196.17 275.25,-206.51 282.2,-205.68\"/>\n</g>\n<!-- 136693186226800 -->\n<g id=\"node15\" class=\"node\">\n<title>136693186226800</title>\n<polygon fill=\"lightblue\" stroke=\"black\" points=\"334,-328 233,-328 233,-298 334,-298 334,-328\"/>\n<text text-anchor=\"middle\" x=\"283.5\" y=\"-316\" font-family=\"monospace\" font-size=\"10.00\">linear3.weight</text>\n<text text-anchor=\"middle\" x=\"283.5\" y=\"-305\" font-family=\"monospace\" font-size=\"10.00\"> (1, 5)</text>\n</g>\n<!-- 136693186226800&#45;&gt;136693185377712 -->\n<g id=\"edge13\" class=\"edge\">\n<title>136693186226800&#45;&gt;136693185377712</title>\n<path fill=\"none\" stroke=\"black\" d=\"M283.5,-297.8C283.5,-288.7 283.5,-276.79 283.5,-266.9\"/>\n<polygon fill=\"black\" stroke=\"black\" points=\"287,-266.84 283.5,-256.84 280,-266.84 287,-266.84\"/>\n</g>\n</g>\n</svg>\n",
            "text/plain": [
              "<graphviz.graphs.Digraph at 0x7c525cc1db10>"
            ]
          },
          "metadata": {},
          "execution_count": 21
        }
      ]
    },
    {
      "cell_type": "markdown",
      "source": [
        "### Сеть 3"
      ],
      "metadata": {
        "id": "x5MT4JfclEo5"
      }
    },
    {
      "cell_type": "code",
      "source": [
        "class Net3(nn.Module):\n",
        "    def __init__(self, in_channels=1):\n",
        "        super().__init__()\n",
        "\n",
        "        self.conv_pool_1 = nn.Sequential(\n",
        "            nn.Conv2d(in_channels=in_channels, out_channels=6, kernel_size=(5, 5), stride=1),\n",
        "            nn.MaxPool2d(kernel_size=(2, 2), padding=0)\n",
        "        )\n",
        "        self.conv_pool_2 = nn.Sequential(\n",
        "            nn.Conv2d(in_channels=6, out_channels=16, kernel_size=(5, 5), stride=1),\n",
        "            nn.MaxPool2d(kernel_size=(2, 2), padding=0)\n",
        "        )\n",
        "        self.flatten = nn.Flatten(0)\n",
        "        self.out = nn.Sequential(\n",
        "            nn.Linear(5 * 5 * 16, 120),\n",
        "            nn.Linear(120, 84),\n",
        "            nn.Linear(84, 10)\n",
        "        )\n",
        "\n",
        "\n",
        "    def forward(self, input):\n",
        "        o = self.conv_pool_1(input)\n",
        "        o = self.conv_pool_2(o)\n",
        "        o = self.flatten(o)\n",
        "        o = self.out(o)\n",
        "        return o"
      ],
      "metadata": {
        "id": "FAPWUpCvklp1"
      },
      "execution_count": null,
      "outputs": []
    },
    {
      "cell_type": "code",
      "source": [
        "model3 = Net3()"
      ],
      "metadata": {
        "id": "mqlDGDZXnMCv"
      },
      "execution_count": null,
      "outputs": []
    },
    {
      "cell_type": "code",
      "source": [
        "model3"
      ],
      "metadata": {
        "colab": {
          "base_uri": "https://localhost:8080/"
        },
        "id": "IDRNvKUUnRN9",
        "outputId": "4bfc2a38-058e-4dc0-8881-de0a9ed49c0c"
      },
      "execution_count": null,
      "outputs": [
        {
          "output_type": "execute_result",
          "data": {
            "text/plain": [
              "Net3(\n",
              "  (conv_pool_1): Sequential(\n",
              "    (0): Conv2d(1, 6, kernel_size=(5, 5), stride=(1, 1))\n",
              "    (1): MaxPool2d(kernel_size=(2, 2), stride=(2, 2), padding=0, dilation=1, ceil_mode=False)\n",
              "  )\n",
              "  (conv_pool_2): Sequential(\n",
              "    (0): Conv2d(6, 16, kernel_size=(5, 5), stride=(1, 1))\n",
              "    (1): MaxPool2d(kernel_size=(2, 2), stride=(2, 2), padding=0, dilation=1, ceil_mode=False)\n",
              "  )\n",
              "  (flatten): Flatten(start_dim=0, end_dim=-1)\n",
              "  (out): Sequential(\n",
              "    (0): Linear(in_features=400, out_features=120, bias=True)\n",
              "    (1): Linear(in_features=120, out_features=84, bias=True)\n",
              "    (2): Linear(in_features=84, out_features=10, bias=True)\n",
              "  )\n",
              ")"
            ]
          },
          "metadata": {},
          "execution_count": 43
        }
      ]
    },
    {
      "cell_type": "code",
      "source": [
        "output = model3(torch.rand(1, 32, 32))"
      ],
      "metadata": {
        "id": "6bBPsp1cnSlz"
      },
      "execution_count": null,
      "outputs": []
    },
    {
      "cell_type": "code",
      "source": [
        "output.shape"
      ],
      "metadata": {
        "colab": {
          "base_uri": "https://localhost:8080/"
        },
        "id": "TE3cE95Zniil",
        "outputId": "d15aace0-2344-4097-da4f-390fb7a6b98f"
      },
      "execution_count": null,
      "outputs": [
        {
          "output_type": "execute_result",
          "data": {
            "text/plain": [
              "torch.Size([10])"
            ]
          },
          "metadata": {},
          "execution_count": 45
        }
      ]
    },
    {
      "cell_type": "code",
      "source": [],
      "metadata": {
        "id": "QfeMLMC9puFL"
      },
      "execution_count": null,
      "outputs": []
    }
  ]
}