{
 "cells": [
  {
   "cell_type": "code",
   "execution_count": 1,
   "id": "a2b06d19-8478-4df4-bb2d-99dfa4f07aad",
   "metadata": {},
   "outputs": [],
   "source": [
    "from pyspark.sql import SparkSession\n",
    "from pyspark.sql import functions as F"
   ]
  },
  {
   "cell_type": "code",
   "execution_count": 2,
   "id": "1e1909f1-a5fa-4393-8213-a0c8bca6525d",
   "metadata": {
    "scrolled": true
   },
   "outputs": [
    {
     "name": "stdout",
     "output_type": "stream",
     "text": [
      ":: loading settings :: url = jar:file:/usr/local/lib/python3.11/site-packages/pyspark/jars/ivy-2.5.1.jar!/org/apache/ivy/core/settings/ivysettings.xml\n"
     ]
    },
    {
     "name": "stderr",
     "output_type": "stream",
     "text": [
      "Ivy Default Cache set to: /root/.ivy2/cache\n",
      "The jars for the packages stored in: /root/.ivy2/jars\n",
      "org.apache.hadoop#hadoop-aws added as a dependency\n",
      "com.amazonaws#aws-java-sdk-pom added as a dependency\n",
      "org.apache.spark#spark-sql-kafka-0-10_2.12 added as a dependency\n",
      ":: resolving dependencies :: org.apache.spark#spark-submit-parent-e784d968-afd3-4ec7-b74a-ad76490e359d;1.0\n",
      "\tconfs: [default]\n",
      "\tfound org.apache.hadoop#hadoop-aws;3.3.2 in central\n",
      "\tfound com.amazonaws#aws-java-sdk-bundle;1.11.1026 in central\n",
      "\tfound org.wildfly.openssl#wildfly-openssl;1.0.7.Final in central\n",
      "\tfound com.amazonaws#aws-java-sdk-pom;1.12.365 in central\n",
      "\tfound org.apache.spark#spark-sql-kafka-0-10_2.12;3.5.1 in central\n",
      "\tfound org.apache.spark#spark-token-provider-kafka-0-10_2.12;3.5.1 in central\n",
      "\tfound org.apache.kafka#kafka-clients;3.4.1 in central\n",
      "\tfound org.lz4#lz4-java;1.8.0 in central\n",
      "\tfound org.xerial.snappy#snappy-java;1.1.10.3 in central\n",
      "\tfound org.slf4j#slf4j-api;2.0.7 in central\n",
      "\tfound org.apache.hadoop#hadoop-client-runtime;3.3.4 in central\n",
      "\tfound org.apache.hadoop#hadoop-client-api;3.3.4 in central\n",
      "\tfound commons-logging#commons-logging;1.1.3 in central\n",
      "\tfound com.google.code.findbugs#jsr305;3.0.0 in central\n",
      "\tfound org.apache.commons#commons-pool2;2.11.1 in central\n",
      ":: resolution report :: resolve 497ms :: artifacts dl 17ms\n",
      "\t:: modules in use:\n",
      "\tcom.amazonaws#aws-java-sdk-bundle;1.11.1026 from central in [default]\n",
      "\tcom.amazonaws#aws-java-sdk-pom;1.12.365 from central in [default]\n",
      "\tcom.google.code.findbugs#jsr305;3.0.0 from central in [default]\n",
      "\tcommons-logging#commons-logging;1.1.3 from central in [default]\n",
      "\torg.apache.commons#commons-pool2;2.11.1 from central in [default]\n",
      "\torg.apache.hadoop#hadoop-aws;3.3.2 from central in [default]\n",
      "\torg.apache.hadoop#hadoop-client-api;3.3.4 from central in [default]\n",
      "\torg.apache.hadoop#hadoop-client-runtime;3.3.4 from central in [default]\n",
      "\torg.apache.kafka#kafka-clients;3.4.1 from central in [default]\n",
      "\torg.apache.spark#spark-sql-kafka-0-10_2.12;3.5.1 from central in [default]\n",
      "\torg.apache.spark#spark-token-provider-kafka-0-10_2.12;3.5.1 from central in [default]\n",
      "\torg.lz4#lz4-java;1.8.0 from central in [default]\n",
      "\torg.slf4j#slf4j-api;2.0.7 from central in [default]\n",
      "\torg.wildfly.openssl#wildfly-openssl;1.0.7.Final from central in [default]\n",
      "\torg.xerial.snappy#snappy-java;1.1.10.3 from central in [default]\n",
      "\t---------------------------------------------------------------------\n",
      "\t|                  |            modules            ||   artifacts   |\n",
      "\t|       conf       | number| search|dwnlded|evicted|| number|dwnlded|\n",
      "\t---------------------------------------------------------------------\n",
      "\t|      default     |   15  |   0   |   0   |   0   ||   14  |   0   |\n",
      "\t---------------------------------------------------------------------\n",
      ":: retrieving :: org.apache.spark#spark-submit-parent-e784d968-afd3-4ec7-b74a-ad76490e359d\n",
      "\tconfs: [default]\n",
      "\t0 artifacts copied, 14 already retrieved (0kB/11ms)\n",
      "24/06/30 12:08:23 WARN NativeCodeLoader: Unable to load native-hadoop library for your platform... using builtin-java classes where applicable\n",
      "Setting default log level to \"WARN\".\n",
      "To adjust logging level use sc.setLogLevel(newLevel). For SparkR, use setLogLevel(newLevel).\n"
     ]
    }
   ],
   "source": [
    "ACCESS_KEY = \"ACCESS_KEY\"\n",
    "SECRET_KEY = \"SECRET_KEY\"\n",
    "MINIO_URL = \"http://minio:9000\"\n",
    "\n",
    "spark = SparkSession.builder \\\n",
    "    .master(\"spark://spark-master:7077\") \\\n",
    "    .appName(\"HW2\") \\\n",
    "    .config(\"spark.sql.adaptive.enabled\", False) \\\n",
    "    .config(\"spark.sql.autoBroadcastJoinThreshold\", -1) \\\n",
    "    .config(\"spark.sql.sources.bucketing.enabled\", True) \\\n",
    "    .config(\"spark.executor.memory\", \"450M\") \\\n",
    "    .config(\"spark.driver.memory\", \"450M\") \\\n",
    "    .config('spark.jars.packages', \n",
    "        \"org.apache.hadoop:hadoop-aws:3.3.2,com.amazonaws:aws-java-sdk-pom:1.12.365,org.apache.spark:spark-sql-kafka-0-10_2.12:3.5.1\"\n",
    "    ) \\\n",
    "    .config(\"spark.hadoop.fs.s3a.impl\", \"org.apache.hadoop.fs.s3a.S3AFileSystem\") \\\n",
    "    .config('spark.hadoop.fs.s3a.aws.credentials.provider', 'org.apache.hadoop.fs.s3a.SimpleAWSCredentialsProvider') \\\n",
    "    .config(\"spark.hadoop.fs.s3a.path.style.access\", \"true\") \\\n",
    "    .config(\"spark.hadoop.fs.s3a.access.key\", ACCESS_KEY) \\\n",
    "    .config(\"spark.hadoop.fs.s3a.secret.key\", SECRET_KEY) \\\n",
    "    .config(\"spark.hadoop.fs.s3a.endpoint\", MINIO_URL) \\\n",
    "    .getOrCreate()"
   ]
  },
  {
   "cell_type": "code",
   "execution_count": null,
   "id": "fb74cf6d",
   "metadata": {},
   "outputs": [],
   "source": []
  },
  {
   "cell_type": "markdown",
   "id": "02f9ece4-83c7-486a-84b6-192fca40d533",
   "metadata": {
    "jp-MarkdownHeadingCollapsed": true
   },
   "source": [
    "# Задание 1\n",
    "\n",
    "## Входные данные \n",
    "- Файл с данными по оттоку телеком оператора в США (churn.csv)\n",
    "- Справочник с названиями штатов (state.json)\n",
    "- Справочник с численностью населения территорий (определяется полем area code) внутри штатов (state.json)\n",
    "- Террия с численностью населения меньше 10_000 считается **мелкой**\n",
    "\n",
    "## Что нужно сделать\n",
    "1. Посчитать количество отточных и неотточных абонентов (поле churn), исключив **мелкие** территории\n",
    "2. Отчет должен быть выполнен в разрезе **каждого штата** с его полным наименованием\n",
    "3. Описать возникающие узкие места при выполнении данной операции\n",
    "4. Применить один из способов оптимизации для ускорения выполнения запроса (при допущении, что справочник численности населения **сильно меньше** основных данных)\n",
    "5. Если существует еще какой-то способ, применить также и его отдельно от п.4 (при допущении, что справочник численности населения **сопоставим по размеру** с основными данными)\n",
    "6. Кратко описать реализованные способы и в чем их практическая польза\n",
    "\n",
    "- P.S. Одним из выбранных способов должен быть Bucket specific join\n",
    "- P.P.S. При обосновании предлагаем прикладывать запуска команды df.explain()"
   ]
  },
  {
   "cell_type": "code",
   "execution_count": null,
   "id": "51fd39bc-4dbf-4deb-bab3-2a3ef7ee67ee",
   "metadata": {},
   "outputs": [],
   "source": []
  },
  {
   "cell_type": "code",
   "execution_count": 3,
   "id": "9b58da6b-e2ff-4cd6-9995-c4d35e5c2745",
   "metadata": {},
   "outputs": [
    {
     "name": "stderr",
     "output_type": "stream",
     "text": [
      "24/06/30 11:59:37 WARN MetricsConfig: Cannot locate configuration: tried hadoop-metrics2-s3a-file-system.properties,hadoop-metrics2.properties\n",
      "                                                                                \r"
     ]
    }
   ],
   "source": [
    "churn_df = spark.read.option(\"header\", True).csv(\"s3a://input/data/churn.csv\")\n",
    "state_dict = spark.read.json(\"s3a://input/data/state.json\")\n",
    "pop_dict = spark.read.json(\"s3a://input/data/population.json\")"
   ]
  },
  {
   "cell_type": "markdown",
   "id": "f18763c6",
   "metadata": {},
   "source": [
    "### Решение"
   ]
  },
  {
   "cell_type": "code",
   "execution_count": 4,
   "id": "d7bd521c",
   "metadata": {},
   "outputs": [],
   "source": [
    "large_areas_df = pop_dict.filter(F.col(\"population\") >= 10000)"
   ]
  },
  {
   "cell_type": "code",
   "execution_count": 5,
   "id": "ecaee4ae",
   "metadata": {},
   "outputs": [],
   "source": [
    "churn_with_states_df = churn_df.join(state_dict, state_dict['state_id']==churn_df['state'], \"inner\")\n",
    "churn_with_population_df = churn_with_states_df.join(large_areas_df, \n",
    "                                                     large_areas_df['area code']==churn_with_states_df['area code'],\n",
    "                                                     \"inner\").drop(churn_df[\"area code\"])"
   ]
  },
  {
   "cell_type": "code",
   "execution_count": 6,
   "id": "72a76574-d3b3-46c8-b4d1-7fa0c271f65a",
   "metadata": {},
   "outputs": [],
   "source": [
    "result_df = churn_with_population_df.groupBy(\"state_name\", \"churn\").count().orderBy(\"state_name\")"
   ]
  },
  {
   "cell_type": "code",
   "execution_count": 7,
   "id": "a14b64c8",
   "metadata": {},
   "outputs": [
    {
     "name": "stdout",
     "output_type": "stream",
     "text": [
      "== Physical Plan ==\n",
      "*(11) Sort [state_name#72 ASC NULLS FIRST], true, 0\n",
      "+- Exchange rangepartitioning(state_name#72 ASC NULLS FIRST, 200), ENSURE_REQUIREMENTS, [plan_id=145]\n",
      "   +- *(10) HashAggregate(keys=[state_name#72, churn#38], functions=[count(1)])\n",
      "      +- Exchange hashpartitioning(state_name#72, churn#38, 200), ENSURE_REQUIREMENTS, [plan_id=141]\n",
      "         +- *(9) HashAggregate(keys=[state_name#72, churn#38], functions=[partial_count(1)])\n",
      "            +- *(9) Project [churn#38, state_name#72]\n",
      "               +- *(9) SortMergeJoin [cast(area code#20 as bigint)], [area code#83L], Inner\n",
      "                  :- *(6) Sort [cast(area code#20 as bigint) ASC NULLS FIRST], false, 0\n",
      "                  :  +- Exchange hashpartitioning(cast(area code#20 as bigint), 200), ENSURE_REQUIREMENTS, [plan_id=123]\n",
      "                  :     +- *(5) Project [area code#20, churn#38, state_name#72]\n",
      "                  :        +- *(5) SortMergeJoin [state#18], [state_id#71], Inner\n",
      "                  :           :- *(2) Sort [state#18 ASC NULLS FIRST], false, 0\n",
      "                  :           :  +- Exchange hashpartitioning(state#18, 200), ENSURE_REQUIREMENTS, [plan_id=107]\n",
      "                  :           :     +- *(1) Filter (isnotnull(state#18) AND isnotnull(area code#20))\n",
      "                  :           :        +- FileScan csv [state#18,area code#20,churn#38] Batched: false, DataFilters: [isnotnull(state#18), isnotnull(area code#20)], Format: CSV, Location: InMemoryFileIndex(1 paths)[s3a://input/data/churn.csv], PartitionFilters: [], PushedFilters: [IsNotNull(state), IsNotNull(area code)], ReadSchema: struct<state:string,area code:string,churn:string>\n",
      "                  :           +- *(4) Sort [state_id#71 ASC NULLS FIRST], false, 0\n",
      "                  :              +- Exchange hashpartitioning(state_id#71, 200), ENSURE_REQUIREMENTS, [plan_id=115]\n",
      "                  :                 +- *(3) Filter isnotnull(state_id#71)\n",
      "                  :                    +- FileScan json [state_id#71,state_name#72] Batched: false, DataFilters: [isnotnull(state_id#71)], Format: JSON, Location: InMemoryFileIndex(1 paths)[s3a://input/data/state.json], PartitionFilters: [], PushedFilters: [IsNotNull(state_id)], ReadSchema: struct<state_id:string,state_name:string>\n",
      "                  +- *(8) Sort [area code#83L ASC NULLS FIRST], false, 0\n",
      "                     +- Exchange hashpartitioning(area code#83L, 200), ENSURE_REQUIREMENTS, [plan_id=132]\n",
      "                        +- *(7) Project [area code#83L]\n",
      "                           +- *(7) Filter ((isnotnull(population#84L) AND (population#84L >= 10000)) AND isnotnull(area code#83L))\n",
      "                              +- FileScan json [area code#83L,population#84L] Batched: false, DataFilters: [isnotnull(population#84L), (population#84L >= 10000), isnotnull(area code#83L)], Format: JSON, Location: InMemoryFileIndex(1 paths)[s3a://input/data/population.json], PartitionFilters: [], PushedFilters: [IsNotNull(population), GreaterThanOrEqual(population,10000), IsNotNull(area code)], ReadSchema: struct<area code:bigint,population:bigint>\n",
      "\n",
      "\n"
     ]
    },
    {
     "name": "stderr",
     "output_type": "stream",
     "text": [
      "[Stage 8:===================================>                   (130 + 2) / 200]\r"
     ]
    },
    {
     "name": "stdout",
     "output_type": "stream",
     "text": [
      "+--------------------+-----+-----+\n",
      "|state_name          |churn|count|\n",
      "+--------------------+-----+-----+\n",
      "|Alabama             |False|58   |\n",
      "|Alabama             |True |7    |\n",
      "|Alaska              |True |3    |\n",
      "|Alaska              |False|44   |\n",
      "|Arizona             |True |4    |\n",
      "|Arizona             |False|53   |\n",
      "|Arkansas            |True |9    |\n",
      "|Arkansas            |False|35   |\n",
      "|California          |False|21   |\n",
      "|California          |True |8    |\n",
      "|Colorado            |True |7    |\n",
      "|Colorado            |False|49   |\n",
      "|Connecticut         |True |8    |\n",
      "|Connecticut         |False|56   |\n",
      "|Delaware            |True |8    |\n",
      "|Delaware            |False|48   |\n",
      "|District of Columbia|True |4    |\n",
      "|District of Columbia|False|43   |\n",
      "|Florida             |True |8    |\n",
      "|Florida             |False|45   |\n",
      "+--------------------+-----+-----+\n",
      "only showing top 20 rows\n",
      "\n"
     ]
    },
    {
     "name": "stderr",
     "output_type": "stream",
     "text": [
      "                                                                                \r"
     ]
    }
   ],
   "source": [
    "# Здесь необходимо вывести результат:\n",
    "result_df.explain()\n",
    "result_df.show(truncate=False)"
   ]
  },
  {
   "cell_type": "markdown",
   "id": "d58ca16c",
   "metadata": {},
   "source": [
    "### Оптимизация 1\n",
    "**Bucket Specific Join**"
   ]
  },
  {
   "cell_type": "code",
   "execution_count": 8,
   "id": "4663dabd",
   "metadata": {},
   "outputs": [
    {
     "name": "stderr",
     "output_type": "stream",
     "text": [
      "                                                                                \r"
     ]
    }
   ],
   "source": [
    "churn_with_population = churn_df.join(large_areas_df, \n",
    "                                      churn_df[\"area code\"] == large_areas_df[\"area code\"], \"inner\").drop(churn_df[\"area code\"])\n",
    "churn_with_population.write \\\n",
    "                     .mode(\"overwrite\") \\\n",
    "                     .bucketBy(10, \"state\") \\\n",
    "                     .sortBy(\"state\") \\\n",
    "                     .option(\"path\", \"s3a://input/data/bucketed/churn\") \\\n",
    "                     .saveAsTable(\"churn_with_population\")"
   ]
  },
  {
   "cell_type": "code",
   "execution_count": 9,
   "id": "b8db731b",
   "metadata": {},
   "outputs": [],
   "source": [
    "bucketed_churn_with_population = spark.table(\"churn_with_population\")\n",
    "optimized_df = bucketed_churn_with_population.join(state_dict, \n",
    "                                                   bucketed_churn_with_population[\"state\"] == state_dict[\"state_id\"], \"inner\")\n",
    "\n",
    "# Подсчет количества отточных и неотточных абонентов\n",
    "optimized_result_df = optimized_df.groupBy(\"state_name\", \"churn\").count().orderBy(\"state_name\")"
   ]
  },
  {
   "cell_type": "code",
   "execution_count": 10,
   "id": "cea922ac",
   "metadata": {},
   "outputs": [
    {
     "name": "stdout",
     "output_type": "stream",
     "text": [
      "== Physical Plan ==\n",
      "*(6) Sort [state_name#72 ASC NULLS FIRST], true, 0\n",
      "+- Exchange rangepartitioning(state_name#72 ASC NULLS FIRST, 200), ENSURE_REQUIREMENTS, [plan_id=566]\n",
      "   +- *(5) HashAggregate(keys=[state_name#72, churn#416], functions=[count(1)])\n",
      "      +- Exchange hashpartitioning(state_name#72, churn#416, 200), ENSURE_REQUIREMENTS, [plan_id=562]\n",
      "         +- *(4) HashAggregate(keys=[state_name#72, churn#416], functions=[partial_count(1)])\n",
      "            +- *(4) Project [churn#416, state_name#72]\n",
      "               +- *(4) SortMergeJoin [state#397], [state_id#71], Inner\n",
      "                  :- *(1) Sort [state#397 ASC NULLS FIRST], false, 0\n",
      "                  :  +- *(1) Filter isnotnull(state#397)\n",
      "                  :     +- *(1) ColumnarToRow\n",
      "                  :        +- FileScan parquet spark_catalog.default.churn_with_population[state#397,churn#416] Batched: true, Bucketed: true, DataFilters: [isnotnull(state#397)], Format: Parquet, Location: InMemoryFileIndex(1 paths)[s3a://input/data/bucketed/churn], PartitionFilters: [], PushedFilters: [IsNotNull(state)], ReadSchema: struct<state:string,churn:string>, SelectedBucketsCount: 10 out of 10\n",
      "                  +- *(3) Sort [state_id#71 ASC NULLS FIRST], false, 0\n",
      "                     +- Exchange hashpartitioning(state_id#71, 10), ENSURE_REQUIREMENTS, [plan_id=553]\n",
      "                        +- *(2) Filter isnotnull(state_id#71)\n",
      "                           +- FileScan json [state_id#71,state_name#72] Batched: false, DataFilters: [isnotnull(state_id#71)], Format: JSON, Location: InMemoryFileIndex(1 paths)[s3a://input/data/state.json], PartitionFilters: [], PushedFilters: [IsNotNull(state_id)], ReadSchema: struct<state_id:string,state_name:string>\n",
      "\n",
      "\n"
     ]
    },
    {
     "name": "stderr",
     "output_type": "stream",
     "text": [
      "[Stage 14:==================================================>   (188 + 3) / 200]\r"
     ]
    },
    {
     "name": "stdout",
     "output_type": "stream",
     "text": [
      "+--------------------+-----+-----+\n",
      "|state_name          |churn|count|\n",
      "+--------------------+-----+-----+\n",
      "|Alabama             |False|58   |\n",
      "|Alabama             |True |7    |\n",
      "|Alaska              |True |3    |\n",
      "|Alaska              |False|44   |\n",
      "|Arizona             |True |4    |\n",
      "|Arizona             |False|53   |\n",
      "|Arkansas            |True |9    |\n",
      "|Arkansas            |False|35   |\n",
      "|California          |False|21   |\n",
      "|California          |True |8    |\n",
      "|Colorado            |True |7    |\n",
      "|Colorado            |False|49   |\n",
      "|Connecticut         |True |8    |\n",
      "|Connecticut         |False|56   |\n",
      "|Delaware            |True |8    |\n",
      "|Delaware            |False|48   |\n",
      "|District of Columbia|True |4    |\n",
      "|District of Columbia|False|43   |\n",
      "|Florida             |True |8    |\n",
      "|Florida             |False|45   |\n",
      "+--------------------+-----+-----+\n",
      "only showing top 20 rows\n",
      "\n"
     ]
    },
    {
     "name": "stderr",
     "output_type": "stream",
     "text": [
      "                                                                                \r"
     ]
    }
   ],
   "source": [
    "# Здесь необходимо вывести результат:\n",
    "optimized_result_df.explain()\n",
    "optimized_result_df.show(truncate=False)"
   ]
  },
  {
   "cell_type": "markdown",
   "id": "1ac80fd0",
   "metadata": {},
   "source": [
    "### Оптимизация 2\n",
    "**Broadcast Join**"
   ]
  },
  {
   "cell_type": "code",
   "execution_count": 11,
   "id": "36c18f89",
   "metadata": {},
   "outputs": [],
   "source": [
    "broadcast_state_df = F.broadcast(state_dict)\n",
    "broadcast_pop_df = F.broadcast(pop_dict)\n",
    "\n",
    "large_areas_df = pop_dict.filter(F.col(\"population\") >= 10000)\n",
    "churn_with_population = churn_df.join(large_areas_df, \n",
    "                                      churn_df[\"area code\"] == large_areas_df[\"area code\"], \"inner\").drop(churn_df[\"area code\"])\n",
    "\n",
    "broadcast_optimized_df = churn_with_population.join(broadcast_state_df, churn_with_population[\"state\"] == state_dict[\"state_id\"], \"inner\")\n"
   ]
  },
  {
   "cell_type": "code",
   "execution_count": 12,
   "id": "92a71375",
   "metadata": {},
   "outputs": [],
   "source": [
    "broadcast_result_df = broadcast_optimized_df.groupBy(\"state_name\", \"churn\").count().orderBy(\"state_name\")"
   ]
  },
  {
   "cell_type": "code",
   "execution_count": 13,
   "id": "8d446130",
   "metadata": {},
   "outputs": [
    {
     "name": "stdout",
     "output_type": "stream",
     "text": [
      "== Physical Plan ==\n",
      "*(8) Sort [state_name#72 ASC NULLS FIRST], true, 0\n",
      "+- Exchange rangepartitioning(state_name#72 ASC NULLS FIRST, 200), ENSURE_REQUIREMENTS, [plan_id=825]\n",
      "   +- *(7) HashAggregate(keys=[state_name#72, churn#38], functions=[count(1)])\n",
      "      +- Exchange hashpartitioning(state_name#72, churn#38, 200), ENSURE_REQUIREMENTS, [plan_id=821]\n",
      "         +- *(6) HashAggregate(keys=[state_name#72, churn#38], functions=[partial_count(1)])\n",
      "            +- *(6) Project [churn#38, state_name#72]\n",
      "               +- *(6) BroadcastHashJoin [state#18], [state_id#71], Inner, BuildRight, false\n",
      "                  :- *(6) Project [state#18, churn#38]\n",
      "                  :  +- *(6) SortMergeJoin [cast(area code#20 as bigint)], [area code#83L], Inner\n",
      "                  :     :- *(2) Sort [cast(area code#20 as bigint) ASC NULLS FIRST], false, 0\n",
      "                  :     :  +- Exchange hashpartitioning(cast(area code#20 as bigint), 200), ENSURE_REQUIREMENTS, [plan_id=796]\n",
      "                  :     :     +- *(1) Filter (isnotnull(area code#20) AND isnotnull(state#18))\n",
      "                  :     :        +- FileScan csv [state#18,area code#20,churn#38] Batched: false, DataFilters: [isnotnull(area code#20), isnotnull(state#18)], Format: CSV, Location: InMemoryFileIndex(1 paths)[s3a://input/data/churn.csv], PartitionFilters: [], PushedFilters: [IsNotNull(area code), IsNotNull(state)], ReadSchema: struct<state:string,area code:string,churn:string>\n",
      "                  :     +- *(4) Sort [area code#83L ASC NULLS FIRST], false, 0\n",
      "                  :        +- Exchange hashpartitioning(area code#83L, 200), ENSURE_REQUIREMENTS, [plan_id=805]\n",
      "                  :           +- *(3) Project [area code#83L]\n",
      "                  :              +- *(3) Filter ((isnotnull(population#84L) AND (population#84L >= 10000)) AND isnotnull(area code#83L))\n",
      "                  :                 +- FileScan json [area code#83L,population#84L] Batched: false, DataFilters: [isnotnull(population#84L), (population#84L >= 10000), isnotnull(area code#83L)], Format: JSON, Location: InMemoryFileIndex(1 paths)[s3a://input/data/population.json], PartitionFilters: [], PushedFilters: [IsNotNull(population), GreaterThanOrEqual(population,10000), IsNotNull(area code)], ReadSchema: struct<area code:bigint,population:bigint>\n",
      "                  +- BroadcastExchange HashedRelationBroadcastMode(List(input[0, string, false]),false), [plan_id=815]\n",
      "                     +- *(5) Filter isnotnull(state_id#71)\n",
      "                        +- FileScan json [state_id#71,state_name#72] Batched: false, DataFilters: [isnotnull(state_id#71)], Format: JSON, Location: InMemoryFileIndex(1 paths)[s3a://input/data/state.json], PartitionFilters: [], PushedFilters: [IsNotNull(state_id)], ReadSchema: struct<state_id:string,state_name:string>\n",
      "\n",
      "\n"
     ]
    },
    {
     "name": "stderr",
     "output_type": "stream",
     "text": [
      "[Stage 19:=====================================================>(199 + 1) / 200]\r"
     ]
    },
    {
     "name": "stdout",
     "output_type": "stream",
     "text": [
      "+--------------------+-----+-----+\n",
      "|state_name          |churn|count|\n",
      "+--------------------+-----+-----+\n",
      "|Alabama             |False|58   |\n",
      "|Alabama             |True |7    |\n",
      "|Alaska              |True |3    |\n",
      "|Alaska              |False|44   |\n",
      "|Arizona             |True |4    |\n",
      "|Arizona             |False|53   |\n",
      "|Arkansas            |True |9    |\n",
      "|Arkansas            |False|35   |\n",
      "|California          |False|21   |\n",
      "|California          |True |8    |\n",
      "|Colorado            |True |7    |\n",
      "|Colorado            |False|49   |\n",
      "|Connecticut         |True |8    |\n",
      "|Connecticut         |False|56   |\n",
      "|Delaware            |True |8    |\n",
      "|Delaware            |False|48   |\n",
      "|District of Columbia|True |4    |\n",
      "|District of Columbia|False|43   |\n",
      "|Florida             |True |8    |\n",
      "|Florida             |False|45   |\n",
      "+--------------------+-----+-----+\n",
      "only showing top 20 rows\n",
      "\n"
     ]
    },
    {
     "name": "stderr",
     "output_type": "stream",
     "text": [
      "                                                                                \r"
     ]
    }
   ],
   "source": [
    "# Здесь необходимо вывести результат:\n",
    "broadcast_result_df.explain()\n",
    "broadcast_result_df.show(truncate=False)"
   ]
  },
  {
   "cell_type": "markdown",
   "id": "977af1d6-249f-4707-afc1-06b3861c241a",
   "metadata": {},
   "source": [
    "### Описание узких мест и способов оптимизации\n",
    "**Узкие места:**\n",
    "1. Объем данных при соединении больших таблиц.\n",
    "2. Время выполнения групповых операций.\n",
    "\n",
    "**Способы оптимизации:**\n",
    "1. *Bucket Specific Join*: помогает оптимизировать операции соединения за счет предварительной сортировки и разделения данных на бакеты.\n",
    "Практическая польза: уменьшает объем данных для сравнения и ускоряет соединение.\n",
    "2. *Broadcast Join*: при использовании маленькой таблицы как broadcast, вся таблица передается всем узлам, что уменьшает затраты на шеффлинг.\n",
    "Практическая польза: значительно ускоряет соединения, когда одна из таблиц достаточно маленькая, чтобы поместиться в памяти."
   ]
  },
  {
   "cell_type": "markdown",
   "id": "40f06364",
   "metadata": {
    "jp-MarkdownHeadingCollapsed": true
   },
   "source": [
    "# Задание 2\n",
    "\n",
    "## Входные данные \n",
    "\n",
    "*skew_transactions.csv* - информация о длительности просомтра контента пользователям\n",
    "колонки:\n",
    "1. user_uid — уникальный идентификатор пользователя\n",
    "2. element_uid — уникальный идентификатор контента\n",
    "3. watched_time — время просмотра в секундах\n",
    "\n",
    "*catalogue.json* - каталог с описанием контента и метаинформации по нему\n",
    "колонки:\n",
    "1. type — тип элемента\n",
    "2. duration — длительность в минутах (средняя длительность эпизода в случае с сериалами и многосерийными фильмами), округлённая до десятков\n",
    "3. attributes — анонимизированные атрибуты данного элемента\n",
    "4. availability — доступные права на элемент(subscription, purchase, rent)\n",
    "5. feature_1 — анонимизированная вещественная переменная\n",
    "6. feature_2 — анонимизированная вещественная переменная\n",
    "7. feature_3 — анонимизированная порядковая переменная\n",
    "8. feature_4 — анонимизированная вещественная переменная\n",
    "9. feature_5 — анонимизированная вещественная переменная\n",
    "\n",
    "## Что нужно сделать\n",
    "1. Выполните join основных данных со справочником используя DataFrame API (по колонке id для контента - `element_uid`)\n",
    "2. Описать проблему в датасетах с точки зрения обработки Spark\n",
    "3. Решить задачу любым способом\n",
    "4. Решить задачу с помощью salt-join подхода\n",
    "\n",
    "P.S. Как вы можете заметить при просмотре данных по пользователями, нужный нам ключ для операции будет перекошен (90% строк представлены на фильм, очень популярный среди смотревших) - это нужно доказать в рамках п.2"
   ]
  },
  {
   "cell_type": "markdown",
   "id": "0740055d",
   "metadata": {},
   "source": [
    "### Решение "
   ]
  },
  {
   "cell_type": "code",
   "execution_count": 64,
   "id": "0f7cb3c8-0784-4d19-a0e0-8aaea67d889b",
   "metadata": {
    "scrolled": true
   },
   "outputs": [],
   "source": [
    "# !pip install pandas"
   ]
  },
  {
   "cell_type": "code",
   "execution_count": 42,
   "id": "ca4634b9-a584-4646-a39d-cfa72738ab21",
   "metadata": {},
   "outputs": [],
   "source": [
    "import pandas as pd\n",
    "import pyspark.sql.types as T"
   ]
  },
  {
   "cell_type": "code",
   "execution_count": 51,
   "id": "15f5aea7-212a-4add-9ecd-5915d696e142",
   "metadata": {},
   "outputs": [],
   "source": [
    "catalogue_df_pandas = pd.read_json(\"./catalogue.json\").transpose()\n",
    "catalogue_df_pandas['feature_5'] = catalogue_df_pandas['feature_5'].astype('float')\n",
    "catalogue_df_pandas['element_uid'] = catalogue_df_pandas.index\n",
    "mySchema = T.StructType([\n",
    "    T.StructField(\"type\", T.StringType(), True),\n",
    "    T.StructField(\"availability\", T.ArrayType(T.StringType()), True),\n",
    "    T.StructField(\"duration\", T.IntegerType(), True),\n",
    "    T.StructField(\"feature_1\", T.FloatType(), True),\n",
    "    T.StructField(\"feature_2\", T.FloatType(), True),\n",
    "    T.StructField(\"feature_3\", T.IntegerType(), True),\n",
    "    T.StructField(\"feature_4\", T.FloatType(), True),\n",
    "    T.StructField(\"feature_5\", T.FloatType(), True),\n",
    "    T.StructField(\"attributes\", T.ArrayType(T.IntegerType()), True), \n",
    "    T.StructField(\"element_uid\", T.IntegerType(), True),\n",
    "])"
   ]
  },
  {
   "cell_type": "code",
   "execution_count": 52,
   "id": "5e2e8c69",
   "metadata": {},
   "outputs": [],
   "source": [
    "transactions_df = spark.read.option(\"header\", True).csv(\"s3a://input/data/skew_transactions.csv\")\n",
    "catalogue_df = spark.createDataFrame(catalogue_df_pandas, mySchema)"
   ]
  },
  {
   "cell_type": "code",
   "execution_count": 53,
   "id": "07b198e0-ca03-4700-9fa9-155f881aa27c",
   "metadata": {},
   "outputs": [
    {
     "name": "stdout",
     "output_type": "stream",
     "text": [
      "+-----+--------------------+--------+-----------+----------+---------+---------+----------+--------------------+-----------+\n",
      "| type|        availability|duration|  feature_1| feature_2|feature_3|feature_4| feature_5|          attributes|element_uid|\n",
      "+-----+--------------------+--------+-----------+----------+---------+---------+----------+--------------------+-----------+\n",
      "|movie|[purchase, rent, ...|     140|  1657223.4|0.75360966|       39|1.1194091|       0.0|[1, 2, 3, 4, 5, 6...|       1983|\n",
      "|movie|[purchase, rent, ...|     110|3.5565208E7|0.76625377|       41|1.1386044| 0.6547074|[1, 26, 27, 28, 2...|       3783|\n",
      "|movie|[purchase, rent, ...|      90|1.3270677E7|0.76542467|       27|1.1318073| 0.5927161|[1, 38, 39, 40, 7...|       5208|\n",
      "|movie|[purchase, rent, ...|     120|2.1749918E7| 0.7578744|       26|1.1335255| 0.6547074|[1, 47, 48, 49, 5...|       9744|\n",
      "|movie|    [purchase, rent]|     110|  9212964.0| 0.7595661|        7|1.1101274| 0.6547074|[1, 59, 60, 61, 6...|       1912|\n",
      "|movie|[purchase, rent, ...|     110|1.3214708E7|0.75360966|       20|1.1300764| 0.6547074|[1, 66, 67, 68, 7...|       7944|\n",
      "|movie|                  []|     110|  9045059.0|0.73781914|        0|1.1138849| 0.6547074|[1, 72, 73, 74, 7...|      10021|\n",
      "|movie|                  []|      90| 1.491855E7| 0.7044613|        0|1.1063077|0.68040967|[1, 79, 80, 81, 8...|       2166|\n",
      "|movie|                  []|      90|  5589007.0|0.75102603|        0| 1.096473|0.68040967|[1, 87, 88, 89, 9...|       6833|\n",
      "|movie|[purchase, rent, ...|     120|3.2362004E7| 0.7029806|       12|1.1386044|0.68040967|[1, 109, 110, 111...|       7904|\n",
      "|movie|[purchase, rent, ...|     100| 3.200617E7| 0.7222342|        9|1.1369238|      -1.0|[117, 118, 119, 1...|       7825|\n",
      "|movie|[purchase, rent, ...|     120|4.2570404E7|0.69294876|       27|1.1419294|0.68040967|[117, 126, 127, 1...|       9817|\n",
      "|movie|[purchase, rent, ...|      80| 3.193704E7| 0.7112909|       16|1.1386044|0.68040967|[117, 133, 134, 1...|       1405|\n",
      "|movie|    [purchase, rent]|     110|  1601255.0| 0.7620888|        6|1.1248043| 0.6547074|[117, 142, 143, 5...|       7271|\n",
      "|movie|[purchase, rent, ...|      90|  6470510.0| 0.7360206|        8|1.1283324|0.68040967|[117, 153, 154, 1...|       6459|\n",
      "|movie|    [purchase, rent]|     110|4.0962256E7|0.73781914|       16|1.1402729|0.68040967|[117, 160, 161, 1...|       2158|\n",
      "|movie|    [purchase, rent]|     110| 3.620546E7| 0.7531804|       13|1.1386044|0.68040967|[117, 166, 167, 1...|        525|\n",
      "|movie|[purchase, rent, ...|      90|3.4862912E7| 0.6638087|       11|1.1386044|0.68040967|[117, 172, 142, 1...|       2261|\n",
      "|movie|[purchase, rent, ...|     120|1.3214708E7| 0.7355696|        9|1.1300764| 0.6547074|[117, 176, 177, 1...|       5867|\n",
      "|movie|[purchase, rent, ...|      80|1.4138187E7|0.72035503|       14|1.1318073| 0.6547074|[117, 182, 183, 1...|       7951|\n",
      "+-----+--------------------+--------+-----------+----------+---------+---------+----------+--------------------+-----------+\n",
      "only showing top 20 rows\n",
      "\n"
     ]
    }
   ],
   "source": [
    "catalogue_df.show()"
   ]
  },
  {
   "cell_type": "code",
   "execution_count": 65,
   "id": "186de751-114d-47dc-a8ae-a69dd0a9142f",
   "metadata": {},
   "outputs": [],
   "source": [
    "result = transactions_df.join(catalogue_df, on=\"element_uid\", how=\"left\")"
   ]
  },
  {
   "cell_type": "code",
   "execution_count": 66,
   "id": "df30c61d",
   "metadata": {
    "scrolled": true
   },
   "outputs": [
    {
     "name": "stdout",
     "output_type": "stream",
     "text": [
      "== Physical Plan ==\n",
      "*(4) Project [element_uid#171, user_uid#172, watched_time#173, type#177, availability#178, duration#179, feature_1#180, feature_2#181, feature_3#182, feature_4#183, feature_5#184, attributes#185]\n",
      "+- *(4) SortMergeJoin [cast(element_uid#171 as int)], [element_uid#186], LeftOuter\n",
      "   :- *(1) Sort [cast(element_uid#171 as int) ASC NULLS FIRST], false, 0\n",
      "   :  +- Exchange hashpartitioning(cast(element_uid#171 as int), 200), ENSURE_REQUIREMENTS, [plan_id=496]\n",
      "   :     +- FileScan csv [element_uid#171,user_uid#172,watched_time#173] Batched: false, DataFilters: [], Format: CSV, Location: InMemoryFileIndex(1 paths)[s3a://input/data/skew_transactions.csv], PartitionFilters: [], PushedFilters: [], ReadSchema: struct<element_uid:string,user_uid:string,watched_time:string>\n",
      "   +- *(3) Sort [element_uid#186 ASC NULLS FIRST], false, 0\n",
      "      +- Exchange hashpartitioning(element_uid#186, 200), ENSURE_REQUIREMENTS, [plan_id=507]\n",
      "         +- *(2) Filter isnotnull(element_uid#186)\n",
      "            +- *(2) Scan ExistingRDD[type#177,availability#178,duration#179,feature_1#180,feature_2#181,feature_3#182,feature_4#183,feature_5#184,attributes#185,element_uid#186]\n",
      "\n",
      "\n"
     ]
    },
    {
     "name": "stderr",
     "output_type": "stream",
     "text": [
      "                                                                                \r"
     ]
    },
    {
     "name": "stdout",
     "output_type": "stream",
     "text": [
      "+-----------+--------+------------+---------------+------------------------------+--------+-----------+----------+---------+---------+----------+-------------------------------------------------------------------------------------------------------------+\n",
      "|element_uid|user_uid|watched_time|type           |availability                  |duration|feature_1  |feature_2 |feature_3|feature_4|feature_5 |attributes                                                                                                   |\n",
      "+-----------+--------+------------+---------------+------------------------------+--------+-----------+----------+---------+---------+----------+-------------------------------------------------------------------------------------------------------------+\n",
      "|9324       |300486  |597         |movie          |[subscription]                |40      |100.62478  |0.74050003|8        |1.1369238|0.5927161 |[32144, 7, 32145, 1134, 14, 15, 1135, 25]                                                                    |\n",
      "|9898       |367499  |8533        |movie          |[purchase, rent, subscription]|90      |3.4309312E7|0.6878249 |12       |1.1138849|0.6547074 |[2785, 2725, 3723, 6272, 1652, 7, 51, 6273, 31, 10, 308, 42, 54, 14, 15, 17, 18, 19, 20, 21, 6274, 6275, 284]|\n",
      "|2771       |133315  |10557       |series         |[purchase, subscription]      |40      |3.8554572E7|0.7127375 |12       |1.1386044|0.6547074 |[3224, 34069, 34070, 34071, 270, 15686, 123, 43, 14, 15, 328, 32811, 44, 25]                                 |\n",
      "|984        |290104  |6845        |movie          |[purchase, rent, subscription]|120     |2.5555764E7|0.7231701 |9        |1.1352309|0.6547074 |[1131, 13393, 3127, 2898, 1119, 2664, 83, 51, 3664, 42, 14, 15, 17, 18, 19, 20, 21, 25319, 361, 25]          |\n",
      "|2692       |167038  |0           |multipart_movie|[purchase, rent, subscription]|60      |1.2976842E7|0.77605546|11       |1.0944548|0.5927161 |[32924, 10471, 10422, 396, 83, 32925, 3771, 14, 15, 3274, 272, 9719, 16097, 32926]                           |\n",
      "|5900       |425857  |3477        |movie          |[purchase, rent]              |70      |6316597.0  |0.7748449 |6        |1.1194091|0.5927161 |[13887, 7890, 772, 885, 1743, 7, 52, 13888, 1744, 11, 1492, 17, 18, 20, 388, 2548, 1405, 9830, 197]          |\n",
      "|6112       |121418  |2628        |series         |[subscription]                |50      |3.3248262E7|0.7391621 |6        |1.1352309|0.6547074 |[11959, 12905, 3778, 13002, 10421, 270, 35403, 130, 42, 328, 28272, 25]                                      |\n",
      "|6980       |385385  |2734        |series         |[purchase, subscription]      |40      |4.045158E7 |0.74050003|10       |1.1335255|0.44966668|[35281, 577, 35282, 1134, 14, 15, 1135, 25]                                                                  |\n",
      "|9369       |248224  |5346        |movie          |[purchase, rent, subscription]|100     |1.484588E7 |0.7699611 |9        |1.1300764|0.5927161 |[2696, 1706, 5859, 52, 5860, 42, 11, 14, 15, 17, 19, 20, 151, 21, 5861]                                      |\n",
      "|7423       |93339   |170         |movie          |[purchase, rent, subscription]|80      |3.764508E7 |0.66491115|11       |1.1352309|0.6547074 |[3181, 3278, 3279, 3280, 3281, 52, 3282, 43, 14, 15, 17, 18, 19, 20, 21, 3283, 3284, 25]                     |\n",
      "|10012      |347241  |10379       |movie          |[purchase, rent]              |100     |4231772.0  |0.7098384 |3        |1.1265751|0.6547074 |[803, 1976, 9902, 9903, 9904, 9905, 9906, 7, 2060, 31, 42, 9907, 9908, 9909, 19, 20, 9910]                   |\n",
      "|2540       |401587  |477         |movie          |[purchase, rent, subscription]|10      |5491062.0  |0.7796626 |12       |1.0547432|0.0       |[5043, 5044, 396, 5045, 3771, 5046, 14, 15, 3273, 16, 3274, 3275, 5047, 5048]                                |\n",
      "|6757       |522509  |20081       |series         |[subscription]                |40      |2.7678048E7|0.7373704 |12       |1.1369238|0.6547074 |[35231, 35232, 5507, 2616, 2604, 7, 35233, 7484, 33789, 42, 43, 14, 15, 21, 35234, 33890, 5306, 25]          |\n",
      "|1767       |314843  |5013        |movie          |[purchase, rent, subscription]|80      |1.6961874E7|0.65202165|10       |1.1300764|0.6547074 |[362, 8928, 7061, 1207, 4995, 7, 3372, 308, 14, 15, 17, 19, 20, 21, 700, 3373, 25]                           |\n",
      "|2714       |408794  |7583        |movie          |[purchase, rent, subscription]|130     |4.2346732E7|0.74050003|45       |1.1419294|0.5927161 |[4052, 4123, 4124, 4125, 270, 4126, 1241, 42, 14, 15, 131, 170, 33, 17, 328, 272, 25]                        |\n",
      "|2714       |247546  |4450        |movie          |[purchase, rent, subscription]|130     |4.2346732E7|0.74050003|45       |1.1419294|0.5927161 |[4052, 4123, 4124, 4125, 270, 4126, 1241, 42, 14, 15, 131, 170, 33, 17, 328, 272, 25]                        |\n",
      "|2714       |43556   |7569        |movie          |[purchase, rent, subscription]|130     |4.2346732E7|0.74050003|45       |1.1419294|0.5927161 |[4052, 4123, 4124, 4125, 270, 4126, 1241, 42, 14, 15, 131, 170, 33, 17, 328, 272, 25]                        |\n",
      "|2714       |169048  |7577        |movie          |[purchase, rent, subscription]|130     |4.2346732E7|0.74050003|45       |1.1419294|0.5927161 |[4052, 4123, 4124, 4125, 270, 4126, 1241, 42, 14, 15, 131, 170, 33, 17, 328, 272, 25]                        |\n",
      "|2714       |542158  |8834        |movie          |[purchase, rent, subscription]|130     |4.2346732E7|0.74050003|45       |1.1419294|0.5927161 |[4052, 4123, 4124, 4125, 270, 4126, 1241, 42, 14, 15, 131, 170, 33, 17, 328, 272, 25]                        |\n",
      "|2714       |356858  |7763        |movie          |[purchase, rent, subscription]|130     |4.2346732E7|0.74050003|45       |1.1419294|0.5927161 |[4052, 4123, 4124, 4125, 270, 4126, 1241, 42, 14, 15, 131, 170, 33, 17, 328, 272, 25]                        |\n",
      "+-----------+--------+------------+---------------+------------------------------+--------+-----------+----------+---------+---------+----------+-------------------------------------------------------------------------------------------------------------+\n",
      "only showing top 20 rows\n",
      "\n"
     ]
    }
   ],
   "source": [
    "# Здесь необходимо вывести результат:\n",
    "result.explain()\n",
    "result.show(truncate=False)"
   ]
  },
  {
   "cell_type": "markdown",
   "id": "3ac1e9d8-e4f4-426b-999a-decf0d801fe9",
   "metadata": {},
   "source": [
    "В данных наблюдается проблема перекоса. Она возникает, когда некоторые ключи значительно более частые, чем остальные. Данная проблема может вызвать неравномерное распределение данных по узлам кластера, что приведет к следующим проблемам:\n",
    "- **Неравномерная нагрузка**: Один узел может обрабатывать намного больше данных, чем другие, что вызывает узкие места и увеличивает общее время выполнения.\n",
    "- **Повышенное потребление памяти**: Узлы, обрабатывающие перекошенные ключи, могут столкнуться с нехваткой памяти.\n",
    "\n",
    "Покажем перекос в данных:"
   ]
  },
  {
   "cell_type": "code",
   "execution_count": 71,
   "id": "ed0af4ed-07bd-4d0f-95e6-2c2ffbf27e20",
   "metadata": {},
   "outputs": [
    {
     "name": "stderr",
     "output_type": "stream",
     "text": [
      "                                                                                \r"
     ]
    },
    {
     "name": "stdout",
     "output_type": "stream",
     "text": [
      "+-----------+-------+\n",
      "|element_uid|  count|\n",
      "+-----------+-------+\n",
      "|       2714|2732800|\n",
      "|        747|  61272|\n",
      "|      10170|    299|\n",
      "|       9898|    299|\n",
      "|       9837|    299|\n",
      "|       3469|    299|\n",
      "|       8763|    299|\n",
      "|       6796|    298|\n",
      "|       4107|    298|\n",
      "|       9108|    298|\n",
      "|       2028|    298|\n",
      "|       6591|    298|\n",
      "|       6812|    298|\n",
      "|       2231|    298|\n",
      "|        311|    297|\n",
      "|       8563|    297|\n",
      "|        381|    297|\n",
      "|       4874|    297|\n",
      "|       7720|    297|\n",
      "|       5858|    296|\n",
      "+-----------+-------+\n",
      "only showing top 20 rows\n",
      "\n",
      "Всего наблюдений: 2938865\n"
     ]
    }
   ],
   "source": [
    "element_count_df = transactions_df.groupBy(\"element_uid\").count()\n",
    "\n",
    "element_count_df.orderBy(F.col(\"count\").desc()).show()\n",
    "print(f'Всего наблюдений: {transactions_df.count()}')"
   ]
  },
  {
   "cell_type": "markdown",
   "id": "108c868f",
   "metadata": {},
   "source": [
    "### Решение с оптимизацией"
   ]
  },
  {
   "cell_type": "markdown",
   "id": "cea40539-0a41-4efc-b39e-7240b967a44a",
   "metadata": {},
   "source": [
    "#### Решение 1 (Broadcast)"
   ]
  },
  {
   "cell_type": "code",
   "execution_count": 74,
   "id": "6445a89e",
   "metadata": {},
   "outputs": [],
   "source": [
    "broadcast_result = transactions_df.join(F.broadcast(catalogue_df), transactions_df[\"element_uid\"] == catalogue_df[\"element_uid\"], \"inner\")"
   ]
  },
  {
   "cell_type": "code",
   "execution_count": 75,
   "id": "c875e042",
   "metadata": {
    "scrolled": true
   },
   "outputs": [
    {
     "name": "stdout",
     "output_type": "stream",
     "text": [
      "== Physical Plan ==\n",
      "*(2) BroadcastHashJoin [cast(element_uid#171 as int)], [element_uid#186], Inner, BuildRight, false\n",
      ":- *(2) Filter isnotnull(element_uid#171)\n",
      ":  +- FileScan csv [element_uid#171,user_uid#172,watched_time#173] Batched: false, DataFilters: [isnotnull(element_uid#171)], Format: CSV, Location: InMemoryFileIndex(1 paths)[s3a://input/data/skew_transactions.csv], PartitionFilters: [], PushedFilters: [IsNotNull(element_uid)], ReadSchema: struct<element_uid:string,user_uid:string,watched_time:string>\n",
      "+- BroadcastExchange HashedRelationBroadcastMode(List(cast(input[9, int, false] as bigint)),false), [plan_id=785]\n",
      "   +- *(1) Filter isnotnull(element_uid#186)\n",
      "      +- *(1) Scan ExistingRDD[type#177,availability#178,duration#179,feature_1#180,feature_2#181,feature_3#182,feature_4#183,feature_5#184,attributes#185,element_uid#186]\n",
      "\n",
      "\n"
     ]
    },
    {
     "name": "stderr",
     "output_type": "stream",
     "text": [
      "                                                                                \r"
     ]
    },
    {
     "name": "stdout",
     "output_type": "stream",
     "text": [
      "+-----------+--------+------------+---------------+------------------------------+--------+-----------+----------+---------+---------+----------+----------------------------------------------------------------------------------------------------------------------+-----------+\n",
      "|element_uid|user_uid|watched_time|type           |availability                  |duration|feature_1  |feature_2 |feature_3|feature_4|feature_5 |attributes                                                                                                            |element_uid|\n",
      "+-----------+--------+------------+---------------+------------------------------+--------+-----------+----------+---------+---------+----------+----------------------------------------------------------------------------------------------------------------------+-----------+\n",
      "|6130       |563180  |3264        |movie          |[purchase, rent]              |90      |3182363.8  |0.76542467|8        |1.0882922|0.0       |[516, 1699, 4265, 7224, 7225, 7226, 7227, 342, 7, 51, 6905, 54, 43, 7228, 7229, 7230, 17, 18, 19, 20, 7231, 7232, 689]|6130       |\n",
      "|2771       |133315  |10557       |series         |[purchase, subscription]      |40      |3.8554572E7|0.7127375 |12       |1.1386044|0.6547074 |[3224, 34069, 34070, 34071, 270, 15686, 123, 43, 14, 15, 328, 32811, 44, 25]                                          |2771       |\n",
      "|984        |290104  |6845        |movie          |[purchase, rent, subscription]|120     |2.5555764E7|0.7231701 |9        |1.1352309|0.6547074 |[1131, 13393, 3127, 2898, 1119, 2664, 83, 51, 3664, 42, 14, 15, 17, 18, 19, 20, 21, 25319, 361, 25]                   |984        |\n",
      "|6980       |385385  |2734        |series         |[purchase, subscription]      |40      |4.045158E7 |0.74050003|10       |1.1335255|0.44966668|[35281, 577, 35282, 1134, 14, 15, 1135, 25]                                                                           |6980       |\n",
      "|2714       |408794  |7583        |movie          |[purchase, rent, subscription]|130     |4.2346732E7|0.74050003|45       |1.1419294|0.5927161 |[4052, 4123, 4124, 4125, 270, 4126, 1241, 42, 14, 15, 131, 170, 33, 17, 328, 272, 25]                                 |2714       |\n",
      "|7423       |93339   |170         |movie          |[purchase, rent, subscription]|80      |3.764508E7 |0.66491115|11       |1.1352309|0.6547074 |[3181, 3278, 3279, 3280, 3281, 52, 3282, 43, 14, 15, 17, 18, 19, 20, 21, 3283, 3284, 25]                              |7423       |\n",
      "|1767       |314843  |5013        |movie          |[purchase, rent, subscription]|80      |1.6961874E7|0.65202165|10       |1.1300764|0.6547074 |[362, 8928, 7061, 1207, 4995, 7, 3372, 308, 14, 15, 17, 19, 20, 21, 700, 3373, 25]                                    |1767       |\n",
      "|9369       |248224  |5346        |movie          |[purchase, rent, subscription]|100     |1.484588E7 |0.7699611 |9        |1.1300764|0.5927161 |[2696, 1706, 5859, 52, 5860, 42, 11, 14, 15, 17, 19, 20, 151, 21, 5861]                                               |9369       |\n",
      "|6757       |522509  |20081       |series         |[subscription]                |40      |2.7678048E7|0.7373704 |12       |1.1369238|0.6547074 |[35231, 35232, 5507, 2616, 2604, 7, 35233, 7484, 33789, 42, 43, 14, 15, 21, 35234, 33890, 5306, 25]                   |6757       |\n",
      "|2714       |247546  |4450        |movie          |[purchase, rent, subscription]|130     |4.2346732E7|0.74050003|45       |1.1419294|0.5927161 |[4052, 4123, 4124, 4125, 270, 4126, 1241, 42, 14, 15, 131, 170, 33, 17, 328, 272, 25]                                 |2714       |\n",
      "|9324       |300486  |597         |movie          |[subscription]                |40      |100.62478  |0.74050003|8        |1.1369238|0.5927161 |[32144, 7, 32145, 1134, 14, 15, 1135, 25]                                                                             |9324       |\n",
      "|9898       |367499  |8533        |movie          |[purchase, rent, subscription]|90      |3.4309312E7|0.6878249 |12       |1.1138849|0.6547074 |[2785, 2725, 3723, 6272, 1652, 7, 51, 6273, 31, 10, 308, 42, 54, 14, 15, 17, 18, 19, 20, 21, 6274, 6275, 284]         |9898       |\n",
      "|2095       |238764  |32          |series         |[purchase, subscription]      |50      |4.1672828E7|0.69294876|9        |1.1352309|0.6547074 |[34078, 270, 34079, 1134, 14, 15, 1135, 25]                                                                           |2095       |\n",
      "|2714       |43556   |7569        |movie          |[purchase, rent, subscription]|130     |4.2346732E7|0.74050003|45       |1.1419294|0.5927161 |[4052, 4123, 4124, 4125, 270, 4126, 1241, 42, 14, 15, 131, 170, 33, 17, 328, 272, 25]                                 |2714       |\n",
      "|6112       |121418  |2628        |series         |[subscription]                |50      |3.3248262E7|0.7391621 |6        |1.1352309|0.6547074 |[11959, 12905, 3778, 13002, 10421, 270, 35403, 130, 42, 328, 28272, 25]                                               |6112       |\n",
      "|2692       |167038  |0           |multipart_movie|[purchase, rent, subscription]|60      |1.2976842E7|0.77605546|11       |1.0944548|0.5927161 |[32924, 10471, 10422, 396, 83, 32925, 3771, 14, 15, 3274, 272, 9719, 16097, 32926]                                    |2692       |\n",
      "|6645       |151150  |3032        |multipart_movie|[]                            |60      |7953674.0  |0.7620888 |0        |1.0595078|0.0       |[18134, 12289, 21550, 18309, 12566, 12912, 833, 32828, 19584, 396, 15531, 42, 1100, 32829, 21373, 32830, 644]         |6645       |\n",
      "|10012      |347241  |10379       |movie          |[purchase, rent]              |100     |4231772.0  |0.7098384 |3        |1.1265751|0.6547074 |[803, 1976, 9902, 9903, 9904, 9905, 9906, 7, 2060, 31, 42, 9907, 9908, 9909, 19, 20, 9910]                            |10012      |\n",
      "|2540       |401587  |477         |movie          |[purchase, rent, subscription]|10      |5491062.0  |0.7796626 |12       |1.0547432|0.0       |[5043, 5044, 396, 5045, 3771, 5046, 14, 15, 3273, 16, 3274, 3275, 5047, 5048]                                         |2540       |\n",
      "|9149       |390071  |82          |movie          |[purchase, rent, subscription]|90      |1.1773521E7|0.7650094 |9        |1.0819608|0.5927161 |[20861, 5185, 1261, 19864, 245, 7, 4964, 32, 10, 11, 14, 15, 239, 20, 21, 20862, 24]                                  |9149       |\n",
      "+-----------+--------+------------+---------------+------------------------------+--------+-----------+----------+---------+---------+----------+----------------------------------------------------------------------------------------------------------------------+-----------+\n",
      "only showing top 20 rows\n",
      "\n"
     ]
    }
   ],
   "source": [
    "broadcast_result.explain()\n",
    "broadcast_result.show(truncate=False)"
   ]
  },
  {
   "cell_type": "markdown",
   "id": "8acaf5a9-cfab-463a-8857-e8cf638dd875",
   "metadata": {},
   "source": [
    "#### Решение 2 (Salt-Join)"
   ]
  },
  {
   "cell_type": "code",
   "execution_count": 85,
   "id": "07a6cecc",
   "metadata": {},
   "outputs": [],
   "source": [
    "def add_salt(df, num_salts):\n",
    "    salt_expr = (F.col(\"element_uid\") % num_salts).alias(\"salt\")\n",
    "    return df.withColumn(\"salt\", salt_expr)\n",
    "\n",
    "num_salts = 10\n",
    "salted_transactions_df = add_salt(transactions_df, num_salts)\n",
    "salted_catalogue_df = catalogue_df.withColumn(\"salt\", F.round(F.col(\"element_uid\") % num_salts))\n",
    "\n",
    "salted_result = salted_transactions_df.join(salted_catalogue_df,\n",
    "                                               (salted_transactions_df[\"element_uid\"] == salted_catalogue_df[\"element_uid\"]) & \n",
    "                                               (salted_transactions_df[\"salt\"] == salted_catalogue_df[\"salt\"]), \"inner\")"
   ]
  },
  {
   "cell_type": "code",
   "execution_count": 86,
   "id": "238efd2a",
   "metadata": {
    "scrolled": true
   },
   "outputs": [
    {
     "name": "stdout",
     "output_type": "stream",
     "text": [
      "== Physical Plan ==\n",
      "*(5) SortMergeJoin [cast(element_uid#171 as int), knownfloatingpointnormalized(normalizenanandzero(salt#909))], [element_uid#186, knownfloatingpointnormalized(normalizenanandzero(cast(salt#914 as double)))], Inner\n",
      ":- *(2) Sort [cast(element_uid#171 as int) ASC NULLS FIRST, knownfloatingpointnormalized(normalizenanandzero(salt#909)) ASC NULLS FIRST], false, 0\n",
      ":  +- Exchange hashpartitioning(cast(element_uid#171 as int), knownfloatingpointnormalized(normalizenanandzero(salt#909)), 200), ENSURE_REQUIREMENTS, [plan_id=1127]\n",
      ":     +- *(1) Project [element_uid#171, user_uid#172, watched_time#173, (cast(element_uid#171 as double) % 10.0) AS salt#909]\n",
      ":        +- *(1) Filter (isnotnull(element_uid#171) AND isnotnull((cast(element_uid#171 as double) % 10.0)))\n",
      ":           +- FileScan csv [element_uid#171,user_uid#172,watched_time#173] Batched: false, DataFilters: [isnotnull(element_uid#171), isnotnull((cast(element_uid#171 as double) % 10.0))], Format: CSV, Location: InMemoryFileIndex(1 paths)[s3a://input/data/skew_transactions.csv], PartitionFilters: [], PushedFilters: [IsNotNull(element_uid)], ReadSchema: struct<element_uid:string,user_uid:string,watched_time:string>\n",
      "+- *(4) Sort [element_uid#186 ASC NULLS FIRST, knownfloatingpointnormalized(normalizenanandzero(cast(salt#914 as double))) ASC NULLS FIRST], false, 0\n",
      "   +- Exchange hashpartitioning(element_uid#186, knownfloatingpointnormalized(normalizenanandzero(cast(salt#914 as double))), 200), ENSURE_REQUIREMENTS, [plan_id=1133]\n",
      "      +- *(3) Project [type#177, availability#178, duration#179, feature_1#180, feature_2#181, feature_3#182, feature_4#183, feature_5#184, attributes#185, element_uid#186, round((element_uid#186 % 10), 0) AS salt#914]\n",
      "         +- *(3) Filter (isnotnull(element_uid#186) AND isnotnull(round((element_uid#186 % 10), 0)))\n",
      "            +- *(3) Scan ExistingRDD[type#177,availability#178,duration#179,feature_1#180,feature_2#181,feature_3#182,feature_4#183,feature_5#184,attributes#185,element_uid#186]\n",
      "\n",
      "\n"
     ]
    },
    {
     "name": "stderr",
     "output_type": "stream",
     "text": [
      "[Stage 55:=============================>                            (1 + 1) / 2]\r"
     ]
    },
    {
     "name": "stdout",
     "output_type": "stream",
     "text": [
      "+-----------+--------+------------+----+-----+------------------------------+--------+-----------+---------+---------+---------+---------+----------------------------------------------------------------------------------+-----------+----+\n",
      "|element_uid|user_uid|watched_time|salt|type |availability                  |duration|feature_1  |feature_2|feature_3|feature_4|feature_5|attributes                                                                        |element_uid|salt|\n",
      "+-----------+--------+------------+----+-----+------------------------------+--------+-----------+---------+---------+---------+---------+----------------------------------------------------------------------------------+-----------+----+\n",
      "|5858       |239666  |2812        |8.0 |movie|[purchase, rent, subscription]|130     |3.7613444E7|0.7514579|13       |1.096473 |0.5927161|[20141, 3008, 658, 20142, 113, 83, 3663, 52, 1840, 42, 14, 15, 17, 18, 19, 20, 55]|5858       |8   |\n",
      "|5858       |460608  |463         |8.0 |movie|[purchase, rent, subscription]|130     |3.7613444E7|0.7514579|13       |1.096473 |0.5927161|[20141, 3008, 658, 20142, 113, 83, 3663, 52, 1840, 42, 14, 15, 17, 18, 19, 20, 55]|5858       |8   |\n",
      "|5858       |564148  |3           |8.0 |movie|[purchase, rent, subscription]|130     |3.7613444E7|0.7514579|13       |1.096473 |0.5927161|[20141, 3008, 658, 20142, 113, 83, 3663, 52, 1840, 42, 14, 15, 17, 18, 19, 20, 55]|5858       |8   |\n",
      "|5858       |281923  |13640       |8.0 |movie|[purchase, rent, subscription]|130     |3.7613444E7|0.7514579|13       |1.096473 |0.5927161|[20141, 3008, 658, 20142, 113, 83, 3663, 52, 1840, 42, 14, 15, 17, 18, 19, 20, 55]|5858       |8   |\n",
      "|5858       |410580  |8481        |8.0 |movie|[purchase, rent, subscription]|130     |3.7613444E7|0.7514579|13       |1.096473 |0.5927161|[20141, 3008, 658, 20142, 113, 83, 3663, 52, 1840, 42, 14, 15, 17, 18, 19, 20, 55]|5858       |8   |\n",
      "|5858       |69782   |7359        |8.0 |movie|[purchase, rent, subscription]|130     |3.7613444E7|0.7514579|13       |1.096473 |0.5927161|[20141, 3008, 658, 20142, 113, 83, 3663, 52, 1840, 42, 14, 15, 17, 18, 19, 20, 55]|5858       |8   |\n",
      "|5858       |126961  |0           |8.0 |movie|[purchase, rent, subscription]|130     |3.7613444E7|0.7514579|13       |1.096473 |0.5927161|[20141, 3008, 658, 20142, 113, 83, 3663, 52, 1840, 42, 14, 15, 17, 18, 19, 20, 55]|5858       |8   |\n",
      "|5858       |223312  |7981        |8.0 |movie|[purchase, rent, subscription]|130     |3.7613444E7|0.7514579|13       |1.096473 |0.5927161|[20141, 3008, 658, 20142, 113, 83, 3663, 52, 1840, 42, 14, 15, 17, 18, 19, 20, 55]|5858       |8   |\n",
      "|5858       |389654  |7413        |8.0 |movie|[purchase, rent, subscription]|130     |3.7613444E7|0.7514579|13       |1.096473 |0.5927161|[20141, 3008, 658, 20142, 113, 83, 3663, 52, 1840, 42, 14, 15, 17, 18, 19, 20, 55]|5858       |8   |\n",
      "|5858       |553873  |7335        |8.0 |movie|[purchase, rent, subscription]|130     |3.7613444E7|0.7514579|13       |1.096473 |0.5927161|[20141, 3008, 658, 20142, 113, 83, 3663, 52, 1840, 42, 14, 15, 17, 18, 19, 20, 55]|5858       |8   |\n",
      "|5858       |279983  |7577        |8.0 |movie|[purchase, rent, subscription]|130     |3.7613444E7|0.7514579|13       |1.096473 |0.5927161|[20141, 3008, 658, 20142, 113, 83, 3663, 52, 1840, 42, 14, 15, 17, 18, 19, 20, 55]|5858       |8   |\n",
      "|5858       |457088  |3572        |8.0 |movie|[purchase, rent, subscription]|130     |3.7613444E7|0.7514579|13       |1.096473 |0.5927161|[20141, 3008, 658, 20142, 113, 83, 3663, 52, 1840, 42, 14, 15, 17, 18, 19, 20, 55]|5858       |8   |\n",
      "|5858       |56847   |4327        |8.0 |movie|[purchase, rent, subscription]|130     |3.7613444E7|0.7514579|13       |1.096473 |0.5927161|[20141, 3008, 658, 20142, 113, 83, 3663, 52, 1840, 42, 14, 15, 17, 18, 19, 20, 55]|5858       |8   |\n",
      "|5858       |162464  |10          |8.0 |movie|[purchase, rent, subscription]|130     |3.7613444E7|0.7514579|13       |1.096473 |0.5927161|[20141, 3008, 658, 20142, 113, 83, 3663, 52, 1840, 42, 14, 15, 17, 18, 19, 20, 55]|5858       |8   |\n",
      "|5858       |543834  |10364       |8.0 |movie|[purchase, rent, subscription]|130     |3.7613444E7|0.7514579|13       |1.096473 |0.5927161|[20141, 3008, 658, 20142, 113, 83, 3663, 52, 1840, 42, 14, 15, 17, 18, 19, 20, 55]|5858       |8   |\n",
      "|5858       |248722  |8068        |8.0 |movie|[purchase, rent, subscription]|130     |3.7613444E7|0.7514579|13       |1.096473 |0.5927161|[20141, 3008, 658, 20142, 113, 83, 3663, 52, 1840, 42, 14, 15, 17, 18, 19, 20, 55]|5858       |8   |\n",
      "|5858       |216010  |1571        |8.0 |movie|[purchase, rent, subscription]|130     |3.7613444E7|0.7514579|13       |1.096473 |0.5927161|[20141, 3008, 658, 20142, 113, 83, 3663, 52, 1840, 42, 14, 15, 17, 18, 19, 20, 55]|5858       |8   |\n",
      "|5858       |221122  |8236        |8.0 |movie|[purchase, rent, subscription]|130     |3.7613444E7|0.7514579|13       |1.096473 |0.5927161|[20141, 3008, 658, 20142, 113, 83, 3663, 52, 1840, 42, 14, 15, 17, 18, 19, 20, 55]|5858       |8   |\n",
      "|5858       |303902  |1204        |8.0 |movie|[purchase, rent, subscription]|130     |3.7613444E7|0.7514579|13       |1.096473 |0.5927161|[20141, 3008, 658, 20142, 113, 83, 3663, 52, 1840, 42, 14, 15, 17, 18, 19, 20, 55]|5858       |8   |\n",
      "|5858       |483567  |31          |8.0 |movie|[purchase, rent, subscription]|130     |3.7613444E7|0.7514579|13       |1.096473 |0.5927161|[20141, 3008, 658, 20142, 113, 83, 3663, 52, 1840, 42, 14, 15, 17, 18, 19, 20, 55]|5858       |8   |\n",
      "+-----------+--------+------------+----+-----+------------------------------+--------+-----------+---------+---------+---------+---------+----------------------------------------------------------------------------------+-----------+----+\n",
      "only showing top 20 rows\n",
      "\n"
     ]
    },
    {
     "name": "stderr",
     "output_type": "stream",
     "text": [
      "                                                                                \r"
     ]
    }
   ],
   "source": [
    "salted_result.explain()\n",
    "salted_result.show(truncate=False)"
   ]
  },
  {
   "cell_type": "markdown",
   "id": "01898809",
   "metadata": {
    "jp-MarkdownHeadingCollapsed": true
   },
   "source": [
    "# Задание 3\n",
    "\n",
    "## Входные данные \n",
    "\n",
    "*cut_transactions.csv*  — информация о длительности просомтра контента пользователям\n",
    "\n",
    "Описание фичей в cut_transactions.csv: \n",
    "1. user_uid — уникальный идентификатор пользователя\n",
    "2.  element_uid — уникальный идентификатор контента\n",
    "3.  watched_time — время просмотра в секундах\n",
    "\n",
    "*cut_ratings.csv*  — информация об оценках, поставленных пользователями\n",
    "\n",
    "Описание фичей в cut_ratings.csv: \n",
    "1. user_uid — уникальный идентификатор пользователя \n",
    "2. element_uid — уникальный идентификатор контента \n",
    "3. rating — поставленный пользователем рейтинг\n",
    "\n",
    "*ids.csv*  — выборка пользователей\n",
    "Описание фичей в ids.csv: \n",
    "1. user_uid — уникальный идентификатор пользователя \n",
    "\n",
    "\n",
    "## Что нужно сделать\n",
    "Для каждого пользователя из выборки посчитать:\n",
    "1. Максимальное и минимальное время просмотра фильмов с оценками 8, 9 и 10 \n",
    "2. Название фичи должно быть в формате feat_агрегирующая_функция_watched_time_rating_оценка. \n",
    "3. Если у пользователь не ставил оценки 8, 9 и 10 то значение фичей должно быть null\n",
    "4. Описать принятые при разработки кода решения и возможные оптимизации\n",
    "\n",
    "P.S. На каждом этапе обработки должно быть должны агрегироваться минимально возможные объемы данных (сокращаем затраты на shuflle)"
   ]
  },
  {
   "cell_type": "code",
   "execution_count": 87,
   "id": "1cb99364",
   "metadata": {},
   "outputs": [],
   "source": [
    "transactions_df = spark.read.option(\"header\", True).csv(\"s3a://input/data/cut_transactions.csv\")\n",
    "ratings_df = spark.read.option(\"header\", True).csv(\"s3a://input/data/cut_ratings.csv\")\n",
    "ids_df = spark.read.option(\"header\", True).csv(\"s3a://input/data/ids.csv\")\n"
   ]
  },
  {
   "cell_type": "markdown",
   "id": "a0963ed4",
   "metadata": {},
   "source": [
    "### Решение"
   ]
  },
  {
   "cell_type": "code",
   "execution_count": 127,
   "id": "31dac489",
   "metadata": {},
   "outputs": [
    {
     "name": "stderr",
     "output_type": "stream",
     "text": [
      "                                                                                \r"
     ]
    }
   ],
   "source": [
    "filtered_ratings_df = ratings_df.filter(F.col(\"rating\").isin([8, 9, 10]))\n",
    "joined_df = transactions_df.join(filtered_ratings_df, [\"user_uid\", \"element_uid\"], \"inner\")\n",
    "aggregated_df = joined_df.groupBy(\"user_uid\", \"rating\").agg(\n",
    "    F.max(\"watched_time\"),\n",
    "    F.min(\"watched_time\")\n",
    ")\n",
    "pivot_df = aggregated_df.groupBy(\"user_uid\").pivot(\"rating\").agg(\n",
    "    F.max(\"max(watched_time)\"),\n",
    "    F.min(\"min(watched_time)\")\n",
    ")\n",
    "renamed_df = pivot_df.select(\n",
    "    F.col(\"user_uid\"),\n",
    "    F.col(\"8_max(max(watched_time))\").alias(\"feat_max_watched_time_rating_8\"),\n",
    "    F.col(\"8_min(min(watched_time))\").alias(\"feat_min_watched_time_rating_8\"),\n",
    "    F.col(\"9_max(max(watched_time))\").alias(\"feat_max_watched_time_rating_9\"),\n",
    "    F.col(\"9_min(min(watched_time))\").alias(\"feat_min_watched_time_rating_9\"),\n",
    "    F.col(\"10_max(max(watched_time))\").alias(\"feat_max_watched_time_rating_10\"),\n",
    "    F.col(\"10_min(min(watched_time))\").alias(\"feat_min_watched_time_rating_10\")\n",
    ")\n",
    "result = F.broadcast(ids_df).join(renamed_df, \"user_uid\", \"left\")"
   ]
  },
  {
   "cell_type": "code",
   "execution_count": 129,
   "id": "bd40363a",
   "metadata": {
    "scrolled": true
   },
   "outputs": [
    {
     "name": "stdout",
     "output_type": "stream",
     "text": [
      "== Physical Plan ==\n",
      "*(9) Project [user_uid#1083, feat_max_watched_time_rating_8#2501, feat_min_watched_time_rating_8#2502, feat_max_watched_time_rating_9#2503, feat_min_watched_time_rating_9#2504, feat_max_watched_time_rating_10#2505, feat_min_watched_time_rating_10#2506]\n",
      "+- *(9) SortMergeJoin [user_uid#1083], [user_uid#1038], LeftOuter\n",
      "   :- *(1) Sort [user_uid#1083 ASC NULLS FIRST], false, 0\n",
      "   :  +- Exchange hashpartitioning(user_uid#1083, 200), ENSURE_REQUIREMENTS, [plan_id=5337]\n",
      "   :     +- FileScan csv [user_uid#1083] Batched: false, DataFilters: [], Format: CSV, Location: InMemoryFileIndex(1 paths)[s3a://input/data/ids.csv], PartitionFilters: [], PushedFilters: [], ReadSchema: struct<user_uid:string>\n",
      "   +- SortAggregate(key=[user_uid#1038], functions=[max(if ((rating#1062 <=> 8)) max(watched_time)#2460 else null), min(if ((rating#1062 <=> 8)) min(watched_time)#2461 else null), max(if ((rating#1062 <=> 9)) max(watched_time)#2460 else null), min(if ((rating#1062 <=> 9)) min(watched_time)#2461 else null), max(if ((rating#1062 <=> 10)) max(watched_time)#2460 else null), min(if ((rating#1062 <=> 10)) min(watched_time)#2461 else null)])\n",
      "      +- *(8) Sort [user_uid#1038 ASC NULLS FIRST], false, 0\n",
      "         +- Exchange hashpartitioning(user_uid#1038, 200), ENSURE_REQUIREMENTS, [plan_id=5372]\n",
      "            +- SortAggregate(key=[user_uid#1038], functions=[partial_max(if ((rating#1062 <=> 8)) max(watched_time)#2460 else null), partial_min(if ((rating#1062 <=> 8)) min(watched_time)#2461 else null), partial_max(if ((rating#1062 <=> 9)) max(watched_time)#2460 else null), partial_min(if ((rating#1062 <=> 9)) min(watched_time)#2461 else null), partial_max(if ((rating#1062 <=> 10)) max(watched_time)#2460 else null), partial_min(if ((rating#1062 <=> 10)) min(watched_time)#2461 else null)])\n",
      "               +- SortAggregate(key=[user_uid#1038, rating#1062], functions=[max(watched_time#1039), min(watched_time#1039)])\n",
      "                  +- *(7) Sort [user_uid#1038 ASC NULLS FIRST, rating#1062 ASC NULLS FIRST], false, 0\n",
      "                     +- Exchange hashpartitioning(user_uid#1038, rating#1062, 200), ENSURE_REQUIREMENTS, [plan_id=5366]\n",
      "                        +- SortAggregate(key=[user_uid#1038, rating#1062], functions=[partial_max(watched_time#1039), partial_min(watched_time#1039)])\n",
      "                           +- *(6) Sort [user_uid#1038 ASC NULLS FIRST, rating#1062 ASC NULLS FIRST], false, 0\n",
      "                              +- *(6) Project [user_uid#1038, watched_time#1039, rating#1062]\n",
      "                                 +- *(6) SortMergeJoin [user_uid#1038, element_uid#1037], [user_uid#1060, element_uid#1061], Inner\n",
      "                                    :- *(3) Sort [user_uid#1038 ASC NULLS FIRST, element_uid#1037 ASC NULLS FIRST], false, 0\n",
      "                                    :  +- Exchange hashpartitioning(user_uid#1038, element_uid#1037, 200), ENSURE_REQUIREMENTS, [plan_id=5348]\n",
      "                                    :     +- *(2) Filter (isnotnull(user_uid#1038) AND isnotnull(element_uid#1037))\n",
      "                                    :        +- FileScan csv [element_uid#1037,user_uid#1038,watched_time#1039] Batched: false, DataFilters: [isnotnull(user_uid#1038), isnotnull(element_uid#1037)], Format: CSV, Location: InMemoryFileIndex(1 paths)[s3a://input/data/cut_transactions.csv], PartitionFilters: [], PushedFilters: [IsNotNull(user_uid), IsNotNull(element_uid)], ReadSchema: struct<element_uid:string,user_uid:string,watched_time:string>\n",
      "                                    +- *(5) Sort [user_uid#1060 ASC NULLS FIRST, element_uid#1061 ASC NULLS FIRST], false, 0\n",
      "                                       +- Exchange hashpartitioning(user_uid#1060, element_uid#1061, 200), ENSURE_REQUIREMENTS, [plan_id=5356]\n",
      "                                          +- *(4) Filter ((rating#1062 IN (8,9,10) AND isnotnull(user_uid#1060)) AND isnotnull(element_uid#1061))\n",
      "                                             +- FileScan csv [user_uid#1060,element_uid#1061,rating#1062] Batched: false, DataFilters: [rating#1062 IN (8,9,10), isnotnull(user_uid#1060), isnotnull(element_uid#1061)], Format: CSV, Location: InMemoryFileIndex(1 paths)[s3a://input/data/cut_ratings.csv], PartitionFilters: [], PushedFilters: [In(rating, [10,8,9]), IsNotNull(user_uid), IsNotNull(element_uid)], ReadSchema: struct<user_uid:string,element_uid:string,rating:string>\n",
      "\n",
      "\n"
     ]
    },
    {
     "name": "stderr",
     "output_type": "stream",
     "text": [
      "24/06/30 15:30:06 WARN HintErrorLogger: Hint (strategy=broadcast) is not supported in the query: build left for left outer join.\n",
      "                                                                                \r"
     ]
    },
    {
     "name": "stdout",
     "output_type": "stream",
     "text": [
      "+--------+------------------------------+------------------------------+------------------------------+------------------------------+-------------------------------+-------------------------------+\n",
      "|user_uid|feat_max_watched_time_rating_8|feat_min_watched_time_rating_8|feat_max_watched_time_rating_9|feat_min_watched_time_rating_9|feat_max_watched_time_rating_10|feat_min_watched_time_rating_10|\n",
      "+--------+------------------------------+------------------------------+------------------------------+------------------------------+-------------------------------+-------------------------------+\n",
      "|524044  |NULL                          |NULL                          |NULL                          |NULL                          |7743                           |7547                           |\n",
      "|436138  |NULL                          |NULL                          |NULL                          |NULL                          |7652                           |7652                           |\n",
      "|241442  |NULL                          |NULL                          |NULL                          |NULL                          |99265                          |99265                          |\n",
      "|488504  |NULL                          |NULL                          |NULL                          |NULL                          |14411                          |14411                          |\n",
      "|126454  |NULL                          |NULL                          |NULL                          |NULL                          |34076                          |34076                          |\n",
      "|74017   |NULL                          |NULL                          |NULL                          |NULL                          |6001                           |6001                           |\n",
      "|460484  |NULL                          |NULL                          |NULL                          |NULL                          |6959                           |6959                           |\n",
      "|131626  |NULL                          |NULL                          |NULL                          |NULL                          |7205                           |7205                           |\n",
      "|6727    |NULL                          |NULL                          |NULL                          |NULL                          |7593                           |7593                           |\n",
      "|355521  |NULL                          |NULL                          |NULL                          |NULL                          |7210                           |7210                           |\n",
      "|207861  |NULL                          |NULL                          |NULL                          |NULL                          |8088                           |8088                           |\n",
      "|569885  |NULL                          |NULL                          |NULL                          |NULL                          |7414                           |7414                           |\n",
      "|145083  |NULL                          |NULL                          |NULL                          |NULL                          |7361                           |7361                           |\n",
      "|315498  |NULL                          |NULL                          |NULL                          |NULL                          |7469                           |7469                           |\n",
      "|489751  |NULL                          |NULL                          |NULL                          |NULL                          |5447                           |5447                           |\n",
      "|88783   |NULL                          |NULL                          |NULL                          |NULL                          |14401                          |14401                          |\n",
      "|460607  |NULL                          |NULL                          |NULL                          |NULL                          |5245                           |5245                           |\n",
      "|25048   |NULL                          |NULL                          |NULL                          |NULL                          |8466                           |6778                           |\n",
      "|379969  |NULL                          |NULL                          |NULL                          |NULL                          |7731                           |13884                          |\n",
      "|394262  |NULL                          |NULL                          |NULL                          |NULL                          |5717                           |5717                           |\n",
      "+--------+------------------------------+------------------------------+------------------------------+------------------------------+-------------------------------+-------------------------------+\n",
      "only showing top 20 rows\n",
      "\n"
     ]
    }
   ],
   "source": [
    "result.explain()\n",
    "result.show(truncate=False)"
   ]
  },
  {
   "cell_type": "markdown",
   "id": "4284c434-5a7b-4722-9a85-e84a7378c541",
   "metadata": {},
   "source": [
    "#### Пояснения к решению:\n",
    "1. **Фильтрация данных**: Сначала фильтруем данные по оценкам, чтобы уменьшить объем данных для последующих операций;\n",
    "2. **Агрегация**: Выполняем агрегацию данных, чтобы посчитать минимальное и максимальное время просмотра для каждой оценки;\n",
    "3. **Поворот данных (pivot)**: Преобразуем данные для получения нужного формата признаков;\n",
    "4. **Broadcast Join**: Применяем для таблиц, которые достаточно малы, чтобы поместиться в памяти;"
   ]
  },
  {
   "cell_type": "code",
   "execution_count": null,
   "id": "bd2d25d0-3a15-4cd0-b190-694f41c0dc52",
   "metadata": {},
   "outputs": [],
   "source": []
  }
 ],
 "metadata": {
  "kernelspec": {
   "display_name": "Python 3 (ipykernel)",
   "language": "python",
   "name": "python3"
  },
  "language_info": {
   "codemirror_mode": {
    "name": "ipython",
    "version": 3
   },
   "file_extension": ".py",
   "mimetype": "text/x-python",
   "name": "python",
   "nbconvert_exporter": "python",
   "pygments_lexer": "ipython3",
   "version": "3.11.9"
  }
 },
 "nbformat": 4,
 "nbformat_minor": 5
}
